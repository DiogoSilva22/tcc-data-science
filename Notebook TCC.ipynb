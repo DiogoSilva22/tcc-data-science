{
 "cells": [
  {
   "cell_type": "markdown",
   "metadata": {},
   "source": [
    "<h1>ANÁLISE DE UM MODELO PREDITIVO DE EVASÃO NO ENSINO SUPERIOR<h1>"
   ]
  },
  {
   "cell_type": "markdown",
   "metadata": {},
   "source": [
    "**OBJETIVOS DO PROJETO**: O objetivo central deste projeto é analisar um conjunto de dados com informações referentes ao desempenho do aluno em dois semestres e realizar uma análise preditiva com o intuito de apontar possíveis evasões de alunos na virada de semestres, com base no desempenho do aluno no semestre anterior.\n",
    "\n",
    "**Por que este projeto pode ser importante para um negócio do meio educacional?** A resposta é muito simples: todo negócio precisa de manter uma carteira fidelizada de clientes. Em uma instituição de ensino não é diferente. A instituição precisa manter o aluno matriculado, pois é desta forma que a mesma gera receitas. A importância deste se dá justamente por tentar amenizar os impactos da evasão no negócio.\n",
    "\n",
    "**Quem será o alvo da análise do projeto?** O alvo principal desta análise são os clientes, ou seja, os alunos da instituição.\n",
    "\n",
    "**O que iremos analisar neste projeto?** O ponto focal desta análise será o desempenho do aluno, ou seja, como ele se comporta no decorrer de um semestre letivo para o outro e se, de acordo com este comportamento, ele pode vir a evadir ou não.\n",
    "\n",
    "\n"
   ]
  },
  {
   "cell_type": "markdown",
   "metadata": {},
   "source": [
    "<h2>1. COLETA DE DADOS </h2>"
   ]
  },
  {
   "cell_type": "code",
   "execution_count": 2,
   "metadata": {},
   "outputs": [],
   "source": [
    "##IMPORTANDO AS LIBS\n",
    "\n",
    "import numpy as np\n",
    "import pandas as pd\n",
    "import matplotlib.pyplot as plt\n",
    "import pycaret\n",
    "import re\n",
    "import seaborn as sns"
   ]
  },
  {
   "cell_type": "code",
   "execution_count": 56,
   "metadata": {},
   "outputs": [
    {
     "data": {
      "text/html": [
       "<div>\n",
       "<style scoped>\n",
       "    .dataframe tbody tr th:only-of-type {\n",
       "        vertical-align: middle;\n",
       "    }\n",
       "\n",
       "    .dataframe tbody tr th {\n",
       "        vertical-align: top;\n",
       "    }\n",
       "\n",
       "    .dataframe thead th {\n",
       "        text-align: right;\n",
       "    }\n",
       "</style>\n",
       "<table border=\"1\" class=\"dataframe\">\n",
       "  <thead>\n",
       "    <tr style=\"text-align: right;\">\n",
       "      <th></th>\n",
       "      <th>id</th>\n",
       "      <th>curso</th>\n",
       "      <th>maior_nota</th>\n",
       "      <th>menor_nota</th>\n",
       "      <th>media</th>\n",
       "      <th>atingiu_media</th>\n",
       "      <th>faltas</th>\n",
       "      <th>status</th>\n",
       "      <th>evadiu</th>\n",
       "      <th>atraso</th>\n",
       "      <th>acordo</th>\n",
       "      <th>periodo</th>\n",
       "    </tr>\n",
       "  </thead>\n",
       "  <tbody>\n",
       "    <tr>\n",
       "      <th>0</th>\n",
       "      <td>519</td>\n",
       "      <td>Educação Física</td>\n",
       "      <td>2</td>\n",
       "      <td>1</td>\n",
       "      <td>1,67</td>\n",
       "      <td>0</td>\n",
       "      <td>32</td>\n",
       "      <td>Evadido</td>\n",
       "      <td>1</td>\n",
       "      <td>1</td>\n",
       "      <td>0</td>\n",
       "      <td>6</td>\n",
       "    </tr>\n",
       "    <tr>\n",
       "      <th>1</th>\n",
       "      <td>655</td>\n",
       "      <td>Enfermagem</td>\n",
       "      <td>5</td>\n",
       "      <td>0</td>\n",
       "      <td>0,94</td>\n",
       "      <td>0</td>\n",
       "      <td>18</td>\n",
       "      <td>Cursando</td>\n",
       "      <td>0</td>\n",
       "      <td>1</td>\n",
       "      <td>0</td>\n",
       "      <td>8</td>\n",
       "    </tr>\n",
       "    <tr>\n",
       "      <th>2</th>\n",
       "      <td>741</td>\n",
       "      <td>Biologia</td>\n",
       "      <td>2,5</td>\n",
       "      <td>0</td>\n",
       "      <td>0,58</td>\n",
       "      <td>0</td>\n",
       "      <td>62</td>\n",
       "      <td>Cursando</td>\n",
       "      <td>0</td>\n",
       "      <td>1</td>\n",
       "      <td>0</td>\n",
       "      <td>8</td>\n",
       "    </tr>\n",
       "    <tr>\n",
       "      <th>3</th>\n",
       "      <td>748</td>\n",
       "      <td>Matemática</td>\n",
       "      <td>0</td>\n",
       "      <td>0</td>\n",
       "      <td>0</td>\n",
       "      <td>0</td>\n",
       "      <td>40</td>\n",
       "      <td>Cursando</td>\n",
       "      <td>0</td>\n",
       "      <td>0</td>\n",
       "      <td>0</td>\n",
       "      <td>8</td>\n",
       "    </tr>\n",
       "    <tr>\n",
       "      <th>4</th>\n",
       "      <td>1016</td>\n",
       "      <td>Enfermagem</td>\n",
       "      <td>3,5</td>\n",
       "      <td>0</td>\n",
       "      <td>1,17</td>\n",
       "      <td>0</td>\n",
       "      <td>14</td>\n",
       "      <td>Evadido</td>\n",
       "      <td>1</td>\n",
       "      <td>1</td>\n",
       "      <td>0</td>\n",
       "      <td>10</td>\n",
       "    </tr>\n",
       "    <tr>\n",
       "      <th>...</th>\n",
       "      <td>...</td>\n",
       "      <td>...</td>\n",
       "      <td>...</td>\n",
       "      <td>...</td>\n",
       "      <td>...</td>\n",
       "      <td>...</td>\n",
       "      <td>...</td>\n",
       "      <td>...</td>\n",
       "      <td>...</td>\n",
       "      <td>...</td>\n",
       "      <td>...</td>\n",
       "      <td>...</td>\n",
       "    </tr>\n",
       "    <tr>\n",
       "      <th>3998</th>\n",
       "      <td>74345</td>\n",
       "      <td>Biologia</td>\n",
       "      <td>10</td>\n",
       "      <td>0</td>\n",
       "      <td>6,44</td>\n",
       "      <td>1</td>\n",
       "      <td>16</td>\n",
       "      <td>Outros</td>\n",
       "      <td>0</td>\n",
       "      <td>1</td>\n",
       "      <td>0</td>\n",
       "      <td>8</td>\n",
       "    </tr>\n",
       "    <tr>\n",
       "      <th>3999</th>\n",
       "      <td>74350</td>\n",
       "      <td>Gastronomia</td>\n",
       "      <td>9</td>\n",
       "      <td>5</td>\n",
       "      <td>7,08</td>\n",
       "      <td>1</td>\n",
       "      <td>12</td>\n",
       "      <td>Cursando</td>\n",
       "      <td>0</td>\n",
       "      <td>0</td>\n",
       "      <td>0</td>\n",
       "      <td>8</td>\n",
       "    </tr>\n",
       "    <tr>\n",
       "      <th>4000</th>\n",
       "      <td>74355</td>\n",
       "      <td>Administração</td>\n",
       "      <td>5,5</td>\n",
       "      <td>1</td>\n",
       "      <td>3,75</td>\n",
       "      <td>0</td>\n",
       "      <td>12</td>\n",
       "      <td>Cursando</td>\n",
       "      <td>0</td>\n",
       "      <td>0</td>\n",
       "      <td>0</td>\n",
       "      <td>8</td>\n",
       "    </tr>\n",
       "    <tr>\n",
       "      <th>4001</th>\n",
       "      <td>74357</td>\n",
       "      <td>Administração</td>\n",
       "      <td>8</td>\n",
       "      <td>5</td>\n",
       "      <td>6,3</td>\n",
       "      <td>1</td>\n",
       "      <td>4</td>\n",
       "      <td>Cursando</td>\n",
       "      <td>0</td>\n",
       "      <td>1</td>\n",
       "      <td>0</td>\n",
       "      <td>8</td>\n",
       "    </tr>\n",
       "    <tr>\n",
       "      <th>4002</th>\n",
       "      <td>74873</td>\n",
       "      <td>História</td>\n",
       "      <td>8</td>\n",
       "      <td>5</td>\n",
       "      <td>6,67</td>\n",
       "      <td>1</td>\n",
       "      <td>10</td>\n",
       "      <td>Cursando</td>\n",
       "      <td>0</td>\n",
       "      <td>0</td>\n",
       "      <td>0</td>\n",
       "      <td>4</td>\n",
       "    </tr>\n",
       "  </tbody>\n",
       "</table>\n",
       "<p>4003 rows × 12 columns</p>\n",
       "</div>"
      ],
      "text/plain": [
       "         id            curso maior_nota menor_nota media  atingiu_media  \\\n",
       "0       519  Educação Física          2          1  1,67              0   \n",
       "1       655       Enfermagem          5          0  0,94              0   \n",
       "2       741         Biologia        2,5          0  0,58              0   \n",
       "3       748       Matemática          0          0     0              0   \n",
       "4      1016       Enfermagem        3,5          0  1,17              0   \n",
       "...     ...              ...        ...        ...   ...            ...   \n",
       "3998  74345         Biologia         10          0  6,44              1   \n",
       "3999  74350      Gastronomia          9          5  7,08              1   \n",
       "4000  74355    Administração        5,5          1  3,75              0   \n",
       "4001  74357    Administração          8          5   6,3              1   \n",
       "4002  74873         História          8          5  6,67              1   \n",
       "\n",
       "      faltas    status  evadiu  atraso  acordo  periodo  \n",
       "0         32   Evadido       1       1       0        6  \n",
       "1         18  Cursando       0       1       0        8  \n",
       "2         62  Cursando       0       1       0        8  \n",
       "3         40  Cursando       0       0       0        8  \n",
       "4         14   Evadido       1       1       0       10  \n",
       "...      ...       ...     ...     ...     ...      ...  \n",
       "3998      16    Outros       0       1       0        8  \n",
       "3999      12  Cursando       0       0       0        8  \n",
       "4000      12  Cursando       0       0       0        8  \n",
       "4001       4  Cursando       0       1       0        8  \n",
       "4002      10  Cursando       0       0       0        4  \n",
       "\n",
       "[4003 rows x 12 columns]"
      ]
     },
     "execution_count": 56,
     "metadata": {},
     "output_type": "execute_result"
    }
   ],
   "source": [
    "##IMPORTANDO O DATASET\n",
    "\n",
    "df = pd.read_csv('tcc4.csv', delimiter=';', encoding='latin-1')\n",
    "df = df.rename(columns = lambda x:re.sub('[^A-Za-z0-9_]+', '', x))\n",
    "df"
   ]
  },
  {
   "cell_type": "markdown",
   "metadata": {},
   "source": [
    "<h2>2. ANÁLISE EXPLORATÓRIA </h2>"
   ]
  },
  {
   "cell_type": "code",
   "execution_count": 58,
   "metadata": {},
   "outputs": [
    {
     "data": {
      "text/plain": [
       "4003"
      ]
     },
     "execution_count": 58,
     "metadata": {},
     "output_type": "execute_result"
    }
   ],
   "source": [
    "#TOTAL DE ALUNOS\n",
    "\n",
    "total = df['id'].count()\n",
    "total\n"
   ]
  },
  {
   "cell_type": "code",
   "execution_count": 59,
   "metadata": {},
   "outputs": [
    {
     "data": {
      "text/plain": [
       "Administração         1120\n",
       "Educação Física        694\n",
       "Letras                 597\n",
       "Enfermagem             441\n",
       "Matemática             367\n",
       "Gastronomia            363\n",
       "Biologia               328\n",
       "História                73\n",
       "Ciências Contábeis      20\n",
       "Name: curso, dtype: int64"
      ]
     },
     "execution_count": 59,
     "metadata": {},
     "output_type": "execute_result"
    }
   ],
   "source": [
    "##TOTAL DE ALUNOS POR CURSO\n",
    "\n",
    "curso = df['curso'].value_counts()\n",
    "curso"
   ]
  },
  {
   "cell_type": "code",
   "execution_count": 61,
   "metadata": {},
   "outputs": [
    {
     "data": {
      "text/plain": [
       "<seaborn.axisgrid.FacetGrid at 0x2123e21d9c8>"
      ]
     },
     "execution_count": 61,
     "metadata": {},
     "output_type": "execute_result"
    },
    {
     "data": {
      "image/png": "[encoded data removed]",
      "text/plain": [
       "<Figure size 864x864 with 1 Axes>"
      ]
     },
     "metadata": {
      "needs_background": "light"
     },
     "output_type": "display_data"
    }
   ],
   "source": [
    "##GRÁFICO: TOTAL DE ALUNOS POR CURSO\n",
    "\n",
    "sns.catplot(x=\"curso\", kind=\"count\", dodge=True, height=12, order=curso.index, data=df)"
   ]
  },
  {
   "cell_type": "code",
   "execution_count": 62,
   "metadata": {},
   "outputs": [
    {
     "data": {
      "text/plain": [
       "296"
      ]
     },
     "execution_count": 62,
     "metadata": {},
     "output_type": "execute_result"
    }
   ],
   "source": [
    "##TOTAL DE EVASÕES\n",
    "\n",
    "evasoes = df[df['evadiu']==1]\n",
    "evasoes = evasoes['evadiu'].count()\n",
    "evasoes"
   ]
  },
  {
   "cell_type": "code",
   "execution_count": 63,
   "metadata": {},
   "outputs": [
    {
     "data": {
      "text/plain": [
       "Administração         83\n",
       "Educação Física       51\n",
       "Letras                34\n",
       "Enfermagem            31\n",
       "Biologia              29\n",
       "Matemática            29\n",
       "Gastronomia           23\n",
       "História              13\n",
       "Ciências Contábeis     3\n",
       "Name: curso, dtype: int64"
      ]
     },
     "execution_count": 63,
     "metadata": {},
     "output_type": "execute_result"
    }
   ],
   "source": [
    "##TOTAL DE EVASÕES POR CURSO\n",
    "\n",
    "curso_evasoes = df[df['evadiu']==1]\n",
    "curso_evasoes_val = curso_evasoes['curso'].value_counts()\n",
    "curso_evasoes_val"
   ]
  },
  {
   "cell_type": "code",
   "execution_count": 64,
   "metadata": {},
   "outputs": [
    {
     "data": {
      "text/plain": [
       "<seaborn.axisgrid.FacetGrid at 0x2123e254d88>"
      ]
     },
     "execution_count": 64,
     "metadata": {},
     "output_type": "execute_result"
    },
    {
     "data": {
      "image/png": "[encoded data removed]",
      "text/plain": [
       "<Figure size 864x864 with 1 Axes>"
      ]
     },
     "metadata": {
      "needs_background": "light"
     },
     "output_type": "display_data"
    }
   ],
   "source": [
    "##GRÁFICO: TOTAL DE EVASÕES POR CURSO\n",
    "\n",
    "sns.catplot(x=\"curso\",kind=\"count\",order=curso_evasoes_val.index,height=12,data=curso_evasoes)"
   ]
  },
  {
   "cell_type": "code",
   "execution_count": 53,
   "metadata": {},
   "outputs": [
    {
     "name": "stdout",
     "output_type": "stream",
     "text": [
      "% de evasões: 7.394454159380465\n"
     ]
    }
   ],
   "source": [
    "##PERCENTUAL DE EVASÕES\n",
    "\n",
    "perc = (evasoes/total)*100\n",
    "print(\"% de evasões: \"+str(perc))"
   ]
  },
  {
   "cell_type": "code",
   "execution_count": 54,
   "metadata": {},
   "outputs": [
    {
     "data": {
      "text/plain": [
       "Administração          7.410714\n",
       "Biologia               8.841463\n",
       "Ciências Contábeis    15.000000\n",
       "Educação Física        7.348703\n",
       "Enfermagem             7.029478\n",
       "Gastronomia            6.336088\n",
       "História              17.808219\n",
       "Letras                 5.695142\n",
       "Matemática             7.901907\n",
       "Name: curso, dtype: float64"
      ]
     },
     "execution_count": 54,
     "metadata": {},
     "output_type": "execute_result"
    }
   ],
   "source": [
    "##PERCENTUAL DE EVASÕES POR CURSO\n",
    "\n",
    "perc_curso = (curso_evasoes_val/curso)* 100\n",
    "perc_curso"
   ]
  },
  {
   "cell_type": "code",
   "execution_count": 55,
   "metadata": {},
   "outputs": [
    {
     "data": {
      "text/plain": [
       "3024"
      ]
     },
     "execution_count": 55,
     "metadata": {},
     "output_type": "execute_result"
    }
   ],
   "source": [
    "##TOTAL DE ALUNOS COM MÉDIA\n",
    "\n",
    "atingiu = df[df['atingiu_media']==1]\n",
    "atingiu = atingiu['atingiu_media'].count()\n",
    "atingiu"
   ]
  },
  {
   "cell_type": "code",
   "execution_count": 56,
   "metadata": {
    "scrolled": true
   },
   "outputs": [
    {
     "data": {
      "text/plain": [
       "979"
      ]
     },
     "execution_count": 56,
     "metadata": {},
     "output_type": "execute_result"
    }
   ],
   "source": [
    "##TOTAL DE ALUNOS SEM MÉDIA\n",
    "\n",
    "n_atingiu = df[df['atingiu_media']==0]\n",
    "n_atingiu = n_atingiu['atingiu_media'].count()\n",
    "n_atingiu"
   ]
  },
  {
   "cell_type": "code",
   "execution_count": 57,
   "metadata": {},
   "outputs": [
    {
     "data": {
      "text/plain": [
       "207"
      ]
     },
     "execution_count": 57,
     "metadata": {},
     "output_type": "execute_result"
    }
   ],
   "source": [
    "##TOTAL DE EVASÕES DE ALUNOS SEM MÉDIA\n",
    "\n",
    "evasoes_media = df[df['evadiu']==1]\n",
    "evasoes_media = evasoes_media[evasoes_media['atingiu_media']==0]\n",
    "evasoes_media = evasoes_media['evadiu'].count()\n",
    "evasoes_media"
   ]
  },
  {
   "cell_type": "code",
   "execution_count": 58,
   "metadata": {},
   "outputs": [
    {
     "data": {
      "text/plain": [
       "21.144024514811033"
      ]
     },
     "execution_count": 58,
     "metadata": {},
     "output_type": "execute_result"
    }
   ],
   "source": [
    "##PERCENTUAL DE ALUNOS QUE EVADEM SEM MÉDIA EM RELAÇÃO AO TOTAL DE ALUNOS SEM MÉDIA\n",
    "\n",
    "perc_media = (evasoes_media/n_atingiu)*100\n",
    "perc_media"
   ]
  },
  {
   "cell_type": "code",
   "execution_count": 59,
   "metadata": {},
   "outputs": [
    {
     "data": {
      "text/plain": [
       "69.93243243243244"
      ]
     },
     "execution_count": 59,
     "metadata": {},
     "output_type": "execute_result"
    }
   ],
   "source": [
    "##PERCENTUAL DE EVASÕES DE ALUNOS SEM MÉDIA EM RELAÇÃO AO TOTAL DE EVASÕES\n",
    "\n",
    "perc_evasoes_media = (evasoes_media/evasoes)*100\n",
    "perc_evasoes_media"
   ]
  },
  {
   "cell_type": "code",
   "execution_count": 60,
   "metadata": {},
   "outputs": [
    {
     "data": {
      "text/plain": [
       "1684"
      ]
     },
     "execution_count": 60,
     "metadata": {},
     "output_type": "execute_result"
    }
   ],
   "source": [
    "##TOTAL DE ALUNOS COM ATRASO EM MENSALIDADES\n",
    "\n",
    "atraso = df[df['atraso']==1]\n",
    "atraso = atraso['atraso'].count()\n",
    "atraso"
   ]
  },
  {
   "cell_type": "code",
   "execution_count": 61,
   "metadata": {},
   "outputs": [
    {
     "data": {
      "text/plain": [
       "168"
      ]
     },
     "execution_count": 61,
     "metadata": {},
     "output_type": "execute_result"
    }
   ],
   "source": [
    "##TOTAL DE EVASÕES DE ALUNOS COM ATRASO EM MENSALIDADES\n",
    "\n",
    "evasoes_atraso = df[df['evadiu']==1]\n",
    "evasoes_atraso = evasoes_atraso[evasoes_atraso['atraso']==1]\n",
    "evasoes_atraso = evasoes_atraso['evadiu'].count()\n",
    "evasoes_atraso"
   ]
  },
  {
   "cell_type": "code",
   "execution_count": 62,
   "metadata": {},
   "outputs": [
    {
     "data": {
      "text/plain": [
       "56.75675675675676"
      ]
     },
     "execution_count": 62,
     "metadata": {},
     "output_type": "execute_result"
    }
   ],
   "source": [
    "##PERCENTUAL DE EVASÕES DE ALUNOS COM ATRASO FINANCEIRO EM RELAÇÃO AO TOTAL DE EVASÕES\n",
    "\n",
    "perc_evasoes_atraso = (evasoes_atraso/evasoes)*100\n",
    "perc_evasoes_atraso"
   ]
  },
  {
   "cell_type": "code",
   "execution_count": 63,
   "metadata": {},
   "outputs": [
    {
     "data": {
      "text/plain": [
       "99"
      ]
     },
     "execution_count": 63,
     "metadata": {},
     "output_type": "execute_result"
    }
   ],
   "source": [
    "##TOTAL DE ALUNOS COM ACORDO\n",
    "\n",
    "acordo = df[df['acordo']==1]\n",
    "acordo = acordo['acordo'].count()\n",
    "acordo"
   ]
  },
  {
   "cell_type": "code",
   "execution_count": 64,
   "metadata": {},
   "outputs": [
    {
     "data": {
      "text/plain": [
       "19"
      ]
     },
     "execution_count": 64,
     "metadata": {},
     "output_type": "execute_result"
    }
   ],
   "source": [
    "##TOTAL DE EVASÕES DE ALUNOS COM ACORDO FINANCEIRO\n",
    "\n",
    "evasoes_acordo = df[df['evadiu']==1]\n",
    "evasoes_acordo = evasoes_acordo[evasoes_acordo['acordo']==1]\n",
    "evasoes_acordo = evasoes_acordo['evadiu'].count()\n",
    "evasoes_acordo"
   ]
  },
  {
   "cell_type": "code",
   "execution_count": 65,
   "metadata": {},
   "outputs": [
    {
     "data": {
      "text/plain": [
       "19.19191919191919"
      ]
     },
     "execution_count": 65,
     "metadata": {},
     "output_type": "execute_result"
    }
   ],
   "source": [
    "##PERCENTUAL DE EVASÕES DE ALUNOS COM ACORDO EM RELAÇÃO AO TOTAL DE ACORDOS\n",
    "\n",
    "perc_acordo = (evasoes_acordo/acordo)*100\n",
    "perc_acordo"
   ]
  },
  {
   "cell_type": "code",
   "execution_count": 66,
   "metadata": {},
   "outputs": [
    {
     "data": {
      "text/plain": [
       "6.418918918918918"
      ]
     },
     "execution_count": 66,
     "metadata": {},
     "output_type": "execute_result"
    }
   ],
   "source": [
    "##PERCENTUAL DE EVASÕES POR ACORDO EM RELAÇÃO AO TOTAL DE EVASÕES\n",
    "\n",
    "perc_evasoes_acordo = (evasoes_acordo/evasoes)*100\n",
    "perc_evasoes_acordo"
   ]
  },
  {
   "cell_type": "code",
   "execution_count": 67,
   "metadata": {},
   "outputs": [
    {
     "data": {
      "text/plain": [
       "2     123\n",
       "4      80\n",
       "6      64\n",
       "8      25\n",
       "10      4\n",
       "Name: periodo, dtype: int64"
      ]
     },
     "execution_count": 67,
     "metadata": {},
     "output_type": "execute_result"
    }
   ],
   "source": [
    "##TOTAL DE EVASÕES POR PERÍODO\n",
    "\n",
    "curso_evasoes = df[df['evadiu']==1]\n",
    "curso_evasoes = curso_evasoes['periodo'].value_counts()\n",
    "curso_evasoes"
   ]
  },
  {
   "cell_type": "code",
   "execution_count": 71,
   "metadata": {},
   "outputs": [
    {
     "data": {
      "text/html": [
       "<style  type=\"text/css\" >\n",
       "    #T_60094a9c_037e_11eb_b54c_edc933979480row0_col0 {\n",
       "            background-color:  #b40426;\n",
       "            color:  #f1f1f1;\n",
       "        }    #T_60094a9c_037e_11eb_b54c_edc933979480row0_col1 {\n",
       "            background-color:  #3b4cc0;\n",
       "            color:  #f1f1f1;\n",
       "        }    #T_60094a9c_037e_11eb_b54c_edc933979480row0_col2 {\n",
       "            background-color:  #3b4cc0;\n",
       "            color:  #f1f1f1;\n",
       "        }    #T_60094a9c_037e_11eb_b54c_edc933979480row0_col3 {\n",
       "            background-color:  #3b4cc0;\n",
       "            color:  #f1f1f1;\n",
       "        }    #T_60094a9c_037e_11eb_b54c_edc933979480row0_col4 {\n",
       "            background-color:  #3b4cc0;\n",
       "            color:  #f1f1f1;\n",
       "        }    #T_60094a9c_037e_11eb_b54c_edc933979480row0_col5 {\n",
       "            background-color:  #8badfd;\n",
       "            color:  #000000;\n",
       "        }    #T_60094a9c_037e_11eb_b54c_edc933979480row1_col0 {\n",
       "            background-color:  #3b4cc0;\n",
       "            color:  #f1f1f1;\n",
       "        }    #T_60094a9c_037e_11eb_b54c_edc933979480row1_col1 {\n",
       "            background-color:  #b40426;\n",
       "            color:  #f1f1f1;\n",
       "        }    #T_60094a9c_037e_11eb_b54c_edc933979480row1_col2 {\n",
       "            background-color:  #c6d6f1;\n",
       "            color:  #000000;\n",
       "        }    #T_60094a9c_037e_11eb_b54c_edc933979480row1_col3 {\n",
       "            background-color:  #92b4fe;\n",
       "            color:  #000000;\n",
       "        }    #T_60094a9c_037e_11eb_b54c_edc933979480row1_col4 {\n",
       "            background-color:  #80a3fa;\n",
       "            color:  #000000;\n",
       "        }    #T_60094a9c_037e_11eb_b54c_edc933979480row1_col5 {\n",
       "            background-color:  #7b9ff9;\n",
       "            color:  #000000;\n",
       "        }    #T_60094a9c_037e_11eb_b54c_edc933979480row2_col0 {\n",
       "            background-color:  #6b8df0;\n",
       "            color:  #000000;\n",
       "        }    #T_60094a9c_037e_11eb_b54c_edc933979480row2_col1 {\n",
       "            background-color:  #dfdbd9;\n",
       "            color:  #000000;\n",
       "        }    #T_60094a9c_037e_11eb_b54c_edc933979480row2_col2 {\n",
       "            background-color:  #b40426;\n",
       "            color:  #f1f1f1;\n",
       "        }    #T_60094a9c_037e_11eb_b54c_edc933979480row2_col3 {\n",
       "            background-color:  #799cf8;\n",
       "            color:  #000000;\n",
       "        }    #T_60094a9c_037e_11eb_b54c_edc933979480row2_col4 {\n",
       "            background-color:  #6e90f2;\n",
       "            color:  #000000;\n",
       "        }    #T_60094a9c_037e_11eb_b54c_edc933979480row2_col5 {\n",
       "            background-color:  #3b4cc0;\n",
       "            color:  #f1f1f1;\n",
       "        }    #T_60094a9c_037e_11eb_b54c_edc933979480row3_col0 {\n",
       "            background-color:  #90b2fe;\n",
       "            color:  #000000;\n",
       "        }    #T_60094a9c_037e_11eb_b54c_edc933979480row3_col1 {\n",
       "            background-color:  #d1dae9;\n",
       "            color:  #000000;\n",
       "        }    #T_60094a9c_037e_11eb_b54c_edc933979480row3_col2 {\n",
       "            background-color:  #9dbdff;\n",
       "            color:  #000000;\n",
       "        }    #T_60094a9c_037e_11eb_b54c_edc933979480row3_col3 {\n",
       "            background-color:  #b40426;\n",
       "            color:  #f1f1f1;\n",
       "        }    #T_60094a9c_037e_11eb_b54c_edc933979480row3_col4 {\n",
       "            background-color:  #8caffe;\n",
       "            color:  #000000;\n",
       "        }    #T_60094a9c_037e_11eb_b54c_edc933979480row3_col5 {\n",
       "            background-color:  #7a9df8;\n",
       "            color:  #000000;\n",
       "        }    #T_60094a9c_037e_11eb_b54c_edc933979480row4_col0 {\n",
       "            background-color:  #97b8ff;\n",
       "            color:  #000000;\n",
       "        }    #T_60094a9c_037e_11eb_b54c_edc933979480row4_col1 {\n",
       "            background-color:  #cad8ef;\n",
       "            color:  #000000;\n",
       "        }    #T_60094a9c_037e_11eb_b54c_edc933979480row4_col2 {\n",
       "            background-color:  #9abbff;\n",
       "            color:  #000000;\n",
       "        }    #T_60094a9c_037e_11eb_b54c_edc933979480row4_col3 {\n",
       "            background-color:  #93b5fe;\n",
       "            color:  #000000;\n",
       "        }    #T_60094a9c_037e_11eb_b54c_edc933979480row4_col4 {\n",
       "            background-color:  #b40426;\n",
       "            color:  #f1f1f1;\n",
       "        }    #T_60094a9c_037e_11eb_b54c_edc933979480row4_col5 {\n",
       "            background-color:  #7396f5;\n",
       "            color:  #000000;\n",
       "        }    #T_60094a9c_037e_11eb_b54c_edc933979480row5_col0 {\n",
       "            background-color:  #c9d7f0;\n",
       "            color:  #000000;\n",
       "        }    #T_60094a9c_037e_11eb_b54c_edc933979480row5_col1 {\n",
       "            background-color:  #bfd3f6;\n",
       "            color:  #000000;\n",
       "        }    #T_60094a9c_037e_11eb_b54c_edc933979480row5_col2 {\n",
       "            background-color:  #5b7ae5;\n",
       "            color:  #000000;\n",
       "        }    #T_60094a9c_037e_11eb_b54c_edc933979480row5_col3 {\n",
       "            background-color:  #7597f6;\n",
       "            color:  #000000;\n",
       "        }    #T_60094a9c_037e_11eb_b54c_edc933979480row5_col4 {\n",
       "            background-color:  #6687ed;\n",
       "            color:  #000000;\n",
       "        }    #T_60094a9c_037e_11eb_b54c_edc933979480row5_col5 {\n",
       "            background-color:  #b40426;\n",
       "            color:  #f1f1f1;\n",
       "        }</style><table id=\"T_60094a9c_037e_11eb_b54c_edc933979480\" ><thead>    <tr>        <th class=\"blank level0\" ></th>        <th class=\"col_heading level0 col0\" >atingiu_media</th>        <th class=\"col_heading level0 col1\" >faltas</th>        <th class=\"col_heading level0 col2\" >evadiu</th>        <th class=\"col_heading level0 col3\" >atraso</th>        <th class=\"col_heading level0 col4\" >acordo</th>        <th class=\"col_heading level0 col5\" >periodo</th>    </tr></thead><tbody>\n",
       "                <tr>\n",
       "                        <th id=\"T_60094a9c_037e_11eb_b54c_edc933979480level0_row0\" class=\"row_heading level0 row0\" >atingiu_media</th>\n",
       "                        <td id=\"T_60094a9c_037e_11eb_b54c_edc933979480row0_col0\" class=\"data row0 col0\" >1.000000</td>\n",
       "                        <td id=\"T_60094a9c_037e_11eb_b54c_edc933979480row0_col1\" class=\"data row0 col1\" >-0.533502</td>\n",
       "                        <td id=\"T_60094a9c_037e_11eb_b54c_edc933979480row0_col2\" class=\"data row0 col2\" >-0.298963</td>\n",
       "                        <td id=\"T_60094a9c_037e_11eb_b54c_edc933979480row0_col3\" class=\"data row0 col3\" >-0.135564</td>\n",
       "                        <td id=\"T_60094a9c_037e_11eb_b54c_edc933979480row0_col4\" class=\"data row0 col4\" >-0.107731</td>\n",
       "                        <td id=\"T_60094a9c_037e_11eb_b54c_edc933979480row0_col5\" class=\"data row0 col5\" >0.123342</td>\n",
       "            </tr>\n",
       "            <tr>\n",
       "                        <th id=\"T_60094a9c_037e_11eb_b54c_edc933979480level0_row1\" class=\"row_heading level0 row1\" >faltas</th>\n",
       "                        <td id=\"T_60094a9c_037e_11eb_b54c_edc933979480row1_col0\" class=\"data row1 col0\" >-0.533502</td>\n",
       "                        <td id=\"T_60094a9c_037e_11eb_b54c_edc933979480row1_col1\" class=\"data row1 col1\" >1.000000</td>\n",
       "                        <td id=\"T_60094a9c_037e_11eb_b54c_edc933979480row1_col2\" class=\"data row1 col2\" >0.247435</td>\n",
       "                        <td id=\"T_60094a9c_037e_11eb_b54c_edc933979480row1_col3\" class=\"data row1 col3\" >0.165384</td>\n",
       "                        <td id=\"T_60094a9c_037e_11eb_b54c_edc933979480row1_col4\" class=\"data row1 col4\" >0.126476</td>\n",
       "                        <td id=\"T_60094a9c_037e_11eb_b54c_edc933979480row1_col5\" class=\"data row1 col5\" >0.075148</td>\n",
       "            </tr>\n",
       "            <tr>\n",
       "                        <th id=\"T_60094a9c_037e_11eb_b54c_edc933979480level0_row2\" class=\"row_heading level0 row2\" >evadiu</th>\n",
       "                        <td id=\"T_60094a9c_037e_11eb_b54c_edc933979480row2_col0\" class=\"data row2 col0\" >-0.298963</td>\n",
       "                        <td id=\"T_60094a9c_037e_11eb_b54c_edc933979480row2_col1\" class=\"data row2 col1\" >0.247435</td>\n",
       "                        <td id=\"T_60094a9c_037e_11eb_b54c_edc933979480row2_col2\" class=\"data row2 col2\" >1.000000</td>\n",
       "                        <td id=\"T_60094a9c_037e_11eb_b54c_edc933979480row2_col3\" class=\"data row2 col3\" >0.084076</td>\n",
       "                        <td id=\"T_60094a9c_037e_11eb_b54c_edc933979480row2_col4\" class=\"data row2 col4\" >0.071793</td>\n",
       "                        <td id=\"T_60094a9c_037e_11eb_b54c_edc933979480row2_col5\" class=\"data row2 col5\" >-0.160552</td>\n",
       "            </tr>\n",
       "            <tr>\n",
       "                        <th id=\"T_60094a9c_037e_11eb_b54c_edc933979480level0_row3\" class=\"row_heading level0 row3\" >atraso</th>\n",
       "                        <td id=\"T_60094a9c_037e_11eb_b54c_edc933979480row3_col0\" class=\"data row3 col0\" >-0.135564</td>\n",
       "                        <td id=\"T_60094a9c_037e_11eb_b54c_edc933979480row3_col1\" class=\"data row3 col1\" >0.165384</td>\n",
       "                        <td id=\"T_60094a9c_037e_11eb_b54c_edc933979480row3_col2\" class=\"data row3 col2\" >0.084076</td>\n",
       "                        <td id=\"T_60094a9c_037e_11eb_b54c_edc933979480row3_col3\" class=\"data row3 col3\" >1.000000</td>\n",
       "                        <td id=\"T_60094a9c_037e_11eb_b54c_edc933979480row3_col4\" class=\"data row3 col4\" >0.167321</td>\n",
       "                        <td id=\"T_60094a9c_037e_11eb_b54c_edc933979480row3_col5\" class=\"data row3 col5\" >0.069853</td>\n",
       "            </tr>\n",
       "            <tr>\n",
       "                        <th id=\"T_60094a9c_037e_11eb_b54c_edc933979480level0_row4\" class=\"row_heading level0 row4\" >acordo</th>\n",
       "                        <td id=\"T_60094a9c_037e_11eb_b54c_edc933979480row4_col0\" class=\"data row4 col0\" >-0.107731</td>\n",
       "                        <td id=\"T_60094a9c_037e_11eb_b54c_edc933979480row4_col1\" class=\"data row4 col1\" >0.126476</td>\n",
       "                        <td id=\"T_60094a9c_037e_11eb_b54c_edc933979480row4_col2\" class=\"data row4 col2\" >0.071793</td>\n",
       "                        <td id=\"T_60094a9c_037e_11eb_b54c_edc933979480row4_col3\" class=\"data row4 col3\" >0.167321</td>\n",
       "                        <td id=\"T_60094a9c_037e_11eb_b54c_edc933979480row4_col4\" class=\"data row4 col4\" >1.000000</td>\n",
       "                        <td id=\"T_60094a9c_037e_11eb_b54c_edc933979480row4_col5\" class=\"data row4 col5\" >0.043865</td>\n",
       "            </tr>\n",
       "            <tr>\n",
       "                        <th id=\"T_60094a9c_037e_11eb_b54c_edc933979480level0_row5\" class=\"row_heading level0 row5\" >periodo</th>\n",
       "                        <td id=\"T_60094a9c_037e_11eb_b54c_edc933979480row5_col0\" class=\"data row5 col0\" >0.123342</td>\n",
       "                        <td id=\"T_60094a9c_037e_11eb_b54c_edc933979480row5_col1\" class=\"data row5 col1\" >0.075148</td>\n",
       "                        <td id=\"T_60094a9c_037e_11eb_b54c_edc933979480row5_col2\" class=\"data row5 col2\" >-0.160552</td>\n",
       "                        <td id=\"T_60094a9c_037e_11eb_b54c_edc933979480row5_col3\" class=\"data row5 col3\" >0.069853</td>\n",
       "                        <td id=\"T_60094a9c_037e_11eb_b54c_edc933979480row5_col4\" class=\"data row5 col4\" >0.043865</td>\n",
       "                        <td id=\"T_60094a9c_037e_11eb_b54c_edc933979480row5_col5\" class=\"data row5 col5\" >1.000000</td>\n",
       "            </tr>\n",
       "    </tbody></table>"
      ],
      "text/plain": [
       "<pandas.io.formats.style.Styler at 0x1e4d585fb48>"
      ]
     },
     "execution_count": 71,
     "metadata": {},
     "output_type": "execute_result"
    }
   ],
   "source": [
    "##MATRIZ DE CORRALEÇÃO\n",
    "\n",
    "df2 = df.drop('status',axis=1)\n",
    "df2 = df2.drop('id',axis=1)\n",
    "corr = df2.corr()\n",
    "corr.style.background_gradient(cmap='coolwarm')"
   ]
  },
  {
   "cell_type": "code",
   "execution_count": 93,
   "metadata": {},
   "outputs": [
    {
     "data": {
      "text/plain": [
       "<matplotlib.axes._subplots.AxesSubplot at 0x1e4db0bdf08>"
      ]
     },
     "execution_count": 93,
     "metadata": {},
     "output_type": "execute_result"
    },
    {
     "data": {
      "image/png": "[encoded data removed]",
      "text/plain": [
       "<Figure size 432x216 with 1 Axes>"
      ]
     },
     "metadata": {
      "needs_background": "light"
     },
     "output_type": "display_data"
    }
   ],
   "source": [
    "##GRÁFICO DE DENSIDADE: PERÍODO\n",
    "\n",
    "df.plot.density(y='periodo',xlim=[0,11],figsize=[6,3])\n"
   ]
  },
  {
   "cell_type": "code",
   "execution_count": 67,
   "metadata": {},
   "outputs": [
    {
     "data": {
      "text/plain": [
       "<matplotlib.axes._subplots.AxesSubplot at 0x2123f479848>"
      ]
     },
     "execution_count": 67,
     "metadata": {},
     "output_type": "execute_result"
    },
    {
     "data": {
      "image/png": "[encoded data removed]",
      "text/plain": [
       "<Figure size 432x216 with 1 Axes>"
      ]
     },
     "metadata": {
      "needs_background": "light"
     },
     "output_type": "display_data"
    }
   ],
   "source": [
    "##GRÁFICO DE DENSIDADE: ATRASOS NA MENSALIDADE\n",
    "\n",
    "df.plot.density(y='atraso',xlim=[0,11],figsize=[6,3])"
   ]
  },
  {
   "cell_type": "markdown",
   "metadata": {},
   "source": [
    "<h2>3. TRATAMENTO DOS DADOS </h2>"
   ]
  },
  {
   "cell_type": "code",
   "execution_count": 4,
   "metadata": {},
   "outputs": [],
   "source": [
    "##IMPORTANDO AS LIBS\n",
    "\n",
    "from sklearn.linear_model import LogisticRegression\n",
    "from sklearn.model_selection import train_test_split\n",
    "from sklearn.metrics import accuracy_score, confusion_matrix, classification_report\n",
    "from imblearn.over_sampling import SMOTE\n",
    "from imblearn.under_sampling import NearMiss"
   ]
  },
  {
   "cell_type": "code",
   "execution_count": 15,
   "metadata": {},
   "outputs": [
    {
     "data": {
      "text/html": [
       "<div>\n",
       "<style scoped>\n",
       "    .dataframe tbody tr th:only-of-type {\n",
       "        vertical-align: middle;\n",
       "    }\n",
       "\n",
       "    .dataframe tbody tr th {\n",
       "        vertical-align: top;\n",
       "    }\n",
       "\n",
       "    .dataframe thead th {\n",
       "        text-align: right;\n",
       "    }\n",
       "</style>\n",
       "<table border=\"1\" class=\"dataframe\">\n",
       "  <thead>\n",
       "    <tr style=\"text-align: right;\">\n",
       "      <th></th>\n",
       "      <th>id</th>\n",
       "      <th>curso</th>\n",
       "      <th>maior_nota</th>\n",
       "      <th>menor_nota</th>\n",
       "      <th>media</th>\n",
       "      <th>atingiu_media</th>\n",
       "      <th>faltas</th>\n",
       "      <th>status</th>\n",
       "      <th>evadiu</th>\n",
       "      <th>atraso</th>\n",
       "      <th>acordo</th>\n",
       "      <th>periodo</th>\n",
       "    </tr>\n",
       "  </thead>\n",
       "  <tbody>\n",
       "    <tr>\n",
       "      <th>0</th>\n",
       "      <td>519</td>\n",
       "      <td>Educação Física</td>\n",
       "      <td>2</td>\n",
       "      <td>1</td>\n",
       "      <td>1,67</td>\n",
       "      <td>0</td>\n",
       "      <td>32</td>\n",
       "      <td>Evadido</td>\n",
       "      <td>1</td>\n",
       "      <td>1</td>\n",
       "      <td>0</td>\n",
       "      <td>6</td>\n",
       "    </tr>\n",
       "    <tr>\n",
       "      <th>1</th>\n",
       "      <td>655</td>\n",
       "      <td>Enfermagem</td>\n",
       "      <td>5</td>\n",
       "      <td>0</td>\n",
       "      <td>0,94</td>\n",
       "      <td>0</td>\n",
       "      <td>18</td>\n",
       "      <td>Cursando</td>\n",
       "      <td>0</td>\n",
       "      <td>1</td>\n",
       "      <td>0</td>\n",
       "      <td>8</td>\n",
       "    </tr>\n",
       "    <tr>\n",
       "      <th>2</th>\n",
       "      <td>741</td>\n",
       "      <td>Biologia</td>\n",
       "      <td>2,5</td>\n",
       "      <td>0</td>\n",
       "      <td>0,58</td>\n",
       "      <td>0</td>\n",
       "      <td>62</td>\n",
       "      <td>Cursando</td>\n",
       "      <td>0</td>\n",
       "      <td>1</td>\n",
       "      <td>0</td>\n",
       "      <td>8</td>\n",
       "    </tr>\n",
       "    <tr>\n",
       "      <th>3</th>\n",
       "      <td>748</td>\n",
       "      <td>Matemática</td>\n",
       "      <td>0</td>\n",
       "      <td>0</td>\n",
       "      <td>0</td>\n",
       "      <td>0</td>\n",
       "      <td>40</td>\n",
       "      <td>Cursando</td>\n",
       "      <td>0</td>\n",
       "      <td>0</td>\n",
       "      <td>0</td>\n",
       "      <td>8</td>\n",
       "    </tr>\n",
       "    <tr>\n",
       "      <th>4</th>\n",
       "      <td>1016</td>\n",
       "      <td>Enfermagem</td>\n",
       "      <td>3,5</td>\n",
       "      <td>0</td>\n",
       "      <td>1,17</td>\n",
       "      <td>0</td>\n",
       "      <td>14</td>\n",
       "      <td>Evadido</td>\n",
       "      <td>1</td>\n",
       "      <td>1</td>\n",
       "      <td>0</td>\n",
       "      <td>10</td>\n",
       "    </tr>\n",
       "  </tbody>\n",
       "</table>\n",
       "</div>"
      ],
      "text/plain": [
       "     id            curso maior_nota menor_nota media  atingiu_media  faltas  \\\n",
       "0   519  Educação Física          2          1  1,67              0      32   \n",
       "1   655       Enfermagem          5          0  0,94              0      18   \n",
       "2   741         Biologia        2,5          0  0,58              0      62   \n",
       "3   748       Matemática          0          0     0              0      40   \n",
       "4  1016       Enfermagem        3,5          0  1,17              0      14   \n",
       "\n",
       "     status  evadiu  atraso  acordo  periodo  \n",
       "0   Evadido       1       1       0        6  \n",
       "1  Cursando       0       1       0        8  \n",
       "2  Cursando       0       1       0        8  \n",
       "3  Cursando       0       0       0        8  \n",
       "4   Evadido       1       1       0       10  "
      ]
     },
     "execution_count": 15,
     "metadata": {},
     "output_type": "execute_result"
    }
   ],
   "source": [
    "##VERIFICANDO OS DADOS DO DATAFRAME\n",
    "\n",
    "df.head()"
   ]
  },
  {
   "cell_type": "code",
   "execution_count": 101,
   "metadata": {},
   "outputs": [
    {
     "name": "stdout",
     "output_type": "stream",
     "text": [
      "<class 'pandas.core.frame.DataFrame'>\n",
      "RangeIndex: 4003 entries, 0 to 4002\n",
      "Data columns (total 12 columns):\n",
      " #   Column         Non-Null Count  Dtype \n",
      "---  ------         --------------  ----- \n",
      " 0   id             4003 non-null   int64 \n",
      " 1   curso          4003 non-null   object\n",
      " 2   maior_nota     4003 non-null   object\n",
      " 3   menor_nota     4003 non-null   object\n",
      " 4   media          4003 non-null   object\n",
      " 5   atingiu_media  4003 non-null   int64 \n",
      " 6   faltas         4003 non-null   int64 \n",
      " 7   status         4003 non-null   object\n",
      " 8   evadiu         4003 non-null   int64 \n",
      " 9   atraso         4003 non-null   int64 \n",
      " 10  acordo         4003 non-null   int64 \n",
      " 11  periodo        4003 non-null   int64 \n",
      "dtypes: int64(7), object(5)\n",
      "memory usage: 375.4+ KB\n"
     ]
    }
   ],
   "source": [
    "##INFORMAÇÕES DO DATAFRAME:\n",
    "\n",
    "df.info()"
   ]
  },
  {
   "cell_type": "code",
   "execution_count": 100,
   "metadata": {},
   "outputs": [
    {
     "data": {
      "text/plain": [
       "id               0\n",
       "curso            0\n",
       "maior_nota       0\n",
       "menor_nota       0\n",
       "media            0\n",
       "atingiu_media    0\n",
       "faltas           0\n",
       "status           0\n",
       "evadiu           0\n",
       "atraso           0\n",
       "acordo           0\n",
       "periodo          0\n",
       "dtype: int64"
      ]
     },
     "execution_count": 100,
     "metadata": {},
     "output_type": "execute_result"
    }
   ],
   "source": [
    "##CHECANDO VALORES FALTANTES\n",
    "\n",
    "df.isnull().sum()"
   ]
  },
  {
   "cell_type": "code",
   "execution_count": 109,
   "metadata": {},
   "outputs": [
    {
     "data": {
      "text/html": [
       "<div>\n",
       "<style scoped>\n",
       "    .dataframe tbody tr th:only-of-type {\n",
       "        vertical-align: middle;\n",
       "    }\n",
       "\n",
       "    .dataframe tbody tr th {\n",
       "        vertical-align: top;\n",
       "    }\n",
       "\n",
       "    .dataframe thead th {\n",
       "        text-align: right;\n",
       "    }\n",
       "</style>\n",
       "<table border=\"1\" class=\"dataframe\">\n",
       "  <thead>\n",
       "    <tr style=\"text-align: right;\">\n",
       "      <th></th>\n",
       "      <th>0</th>\n",
       "      <th>1</th>\n",
       "      <th>2</th>\n",
       "      <th>3</th>\n",
       "      <th>4</th>\n",
       "    </tr>\n",
       "  </thead>\n",
       "  <tbody>\n",
       "    <tr>\n",
       "      <th>id</th>\n",
       "      <td>519</td>\n",
       "      <td>655</td>\n",
       "      <td>741</td>\n",
       "      <td>748</td>\n",
       "      <td>1016</td>\n",
       "    </tr>\n",
       "    <tr>\n",
       "      <th>atingiu_media</th>\n",
       "      <td>0</td>\n",
       "      <td>0</td>\n",
       "      <td>0</td>\n",
       "      <td>0</td>\n",
       "      <td>0</td>\n",
       "    </tr>\n",
       "    <tr>\n",
       "      <th>faltas</th>\n",
       "      <td>32</td>\n",
       "      <td>18</td>\n",
       "      <td>62</td>\n",
       "      <td>40</td>\n",
       "      <td>14</td>\n",
       "    </tr>\n",
       "    <tr>\n",
       "      <th>evadiu</th>\n",
       "      <td>1</td>\n",
       "      <td>0</td>\n",
       "      <td>0</td>\n",
       "      <td>0</td>\n",
       "      <td>1</td>\n",
       "    </tr>\n",
       "    <tr>\n",
       "      <th>atraso</th>\n",
       "      <td>1</td>\n",
       "      <td>1</td>\n",
       "      <td>1</td>\n",
       "      <td>0</td>\n",
       "      <td>1</td>\n",
       "    </tr>\n",
       "    <tr>\n",
       "      <th>...</th>\n",
       "      <td>...</td>\n",
       "      <td>...</td>\n",
       "      <td>...</td>\n",
       "      <td>...</td>\n",
       "      <td>...</td>\n",
       "    </tr>\n",
       "    <tr>\n",
       "      <th>media_9,94</th>\n",
       "      <td>0</td>\n",
       "      <td>0</td>\n",
       "      <td>0</td>\n",
       "      <td>0</td>\n",
       "      <td>0</td>\n",
       "    </tr>\n",
       "    <tr>\n",
       "      <th>status_Aluno Formado</th>\n",
       "      <td>0</td>\n",
       "      <td>0</td>\n",
       "      <td>0</td>\n",
       "      <td>0</td>\n",
       "      <td>0</td>\n",
       "    </tr>\n",
       "    <tr>\n",
       "      <th>status_Cursando</th>\n",
       "      <td>0</td>\n",
       "      <td>1</td>\n",
       "      <td>1</td>\n",
       "      <td>1</td>\n",
       "      <td>0</td>\n",
       "    </tr>\n",
       "    <tr>\n",
       "      <th>status_Evadido</th>\n",
       "      <td>1</td>\n",
       "      <td>0</td>\n",
       "      <td>0</td>\n",
       "      <td>0</td>\n",
       "      <td>1</td>\n",
       "    </tr>\n",
       "    <tr>\n",
       "      <th>status_Outros</th>\n",
       "      <td>0</td>\n",
       "      <td>0</td>\n",
       "      <td>0</td>\n",
       "      <td>0</td>\n",
       "      <td>0</td>\n",
       "    </tr>\n",
       "  </tbody>\n",
       "</table>\n",
       "<p>712 rows × 5 columns</p>\n",
       "</div>"
      ],
      "text/plain": [
       "                        0    1    2    3     4\n",
       "id                    519  655  741  748  1016\n",
       "atingiu_media           0    0    0    0     0\n",
       "faltas                 32   18   62   40    14\n",
       "evadiu                  1    0    0    0     1\n",
       "atraso                  1    1    1    0     1\n",
       "...                   ...  ...  ...  ...   ...\n",
       "media_9,94              0    0    0    0     0\n",
       "status_Aluno Formado    0    0    0    0     0\n",
       "status_Cursando         0    1    1    1     0\n",
       "status_Evadido          1    0    0    0     1\n",
       "status_Outros           0    0    0    0     0\n",
       "\n",
       "[712 rows x 5 columns]"
      ]
     },
     "execution_count": 109,
     "metadata": {},
     "output_type": "execute_result"
    }
   ],
   "source": [
    "##VERIFICANDO BALANCEAMENTO DO DATASET\n",
    "\n",
    "df4 = pd.get_dummies(df)\n",
    "df4.head().T"
   ]
  },
  {
   "cell_type": "code",
   "execution_count": 110,
   "metadata": {},
   "outputs": [
    {
     "data": {
      "text/plain": [
       "0    3707\n",
       "1     296\n",
       "Name: evadiu, dtype: int64"
      ]
     },
     "execution_count": 110,
     "metadata": {},
     "output_type": "execute_result"
    }
   ],
   "source": [
    "##CONTAGEM DA VARIÁVEL ALVO\n",
    "\n",
    "df4.evadiu.value_counts()"
   ]
  },
  {
   "cell_type": "code",
   "execution_count": 111,
   "metadata": {},
   "outputs": [
    {
     "data": {
      "text/plain": [
       "<matplotlib.axes._subplots.AxesSubplot at 0x1e4dbc2f308>"
      ]
     },
     "execution_count": 111,
     "metadata": {},
     "output_type": "execute_result"
    },
    {
     "data": {
      "image/png": "[encoded data removed]",
      "text/plain": [
       "<Figure size 432x288 with 1 Axes>"
      ]
     },
     "metadata": {
      "needs_background": "light"
     },
     "output_type": "display_data"
    }
   ],
   "source": [
    "##GRÁFICO: CONTAGEM DA VARIÁVEL ALVO\n",
    "\n",
    "sns.countplot(x=\"evadiu\", data=df4)"
   ]
  },
  {
   "cell_type": "markdown",
   "metadata": {},
   "source": [
    "<h3> PRIMEIRO TESTE COM O DATASET USANDO REGRESSÃO LOGÍSTICA </h3>"
   ]
  },
  {
   "cell_type": "code",
   "execution_count": 68,
   "metadata": {},
   "outputs": [],
   "source": [
    "##INICIANDO O MODELO\n",
    "\n",
    "lr = LogisticRegression(solver='saga',max_iter=10000)"
   ]
  },
  {
   "cell_type": "code",
   "execution_count": 5,
   "metadata": {},
   "outputs": [],
   "source": [
    "cols2 = ['evadiu','status','maior_nota','menor_nota','media','curso']"
   ]
  },
  {
   "cell_type": "code",
   "execution_count": 18,
   "metadata": {},
   "outputs": [],
   "source": [
    "##QUEBRANDO O DATASET EM X E Y\n",
    "\n",
    "X = df.drop(cols2, axis = 1)\n",
    "y = df.evadiu"
   ]
  },
  {
   "cell_type": "code",
   "execution_count": 176,
   "metadata": {},
   "outputs": [],
   "source": [
    "##DECLARANDO AS VARIÁVEIS PARA O MODELO\n",
    "\n",
    "X_train, X_test, y_train, y_test = train_test_split(X, y, random_state = 1, stratify=y)"
   ]
  },
  {
   "cell_type": "code",
   "execution_count": 177,
   "metadata": {},
   "outputs": [
    {
     "data": {
      "text/plain": [
       "LogisticRegression(max_iter=10000, solver='saga')"
      ]
     },
     "execution_count": 177,
     "metadata": {},
     "output_type": "execute_result"
    }
   ],
   "source": [
    "##REALIZANDO O FIT DO MODELO\n",
    "\n",
    "lr.fit(X_train, y_train)"
   ]
  },
  {
   "cell_type": "code",
   "execution_count": 178,
   "metadata": {},
   "outputs": [],
   "source": [
    "##CRIANDO A PREDIÇÃO\n",
    "\n",
    "y_pred = lr.predict(X_test)"
   ]
  },
  {
   "cell_type": "code",
   "execution_count": 179,
   "metadata": {},
   "outputs": [
    {
     "data": {
      "text/plain": [
       "0.926073926073926"
      ]
     },
     "execution_count": 179,
     "metadata": {},
     "output_type": "execute_result"
    }
   ],
   "source": [
    "##VERIFICANDO A ACURÁCIA\n",
    "\n",
    "accuracy_score(y_test, y_pred)"
   ]
  },
  {
   "cell_type": "code",
   "execution_count": 180,
   "metadata": {},
   "outputs": [
    {
     "name": "stdout",
     "output_type": "stream",
     "text": [
      "              precision    recall  f1-score   support\n",
      "\n",
      "           0       0.93      1.00      0.96       927\n",
      "           1       0.00      0.00      0.00        74\n",
      "\n",
      "    accuracy                           0.93      1001\n",
      "   macro avg       0.46      0.50      0.48      1001\n",
      "weighted avg       0.86      0.93      0.89      1001\n",
      "\n"
     ]
    },
    {
     "name": "stderr",
     "output_type": "stream",
     "text": [
      "C:\\Users\\Diogo\\anaconda3\\lib\\site-packages\\sklearn\\metrics\\_classification.py:1221: UndefinedMetricWarning: Precision and F-score are ill-defined and being set to 0.0 in labels with no predicted samples. Use `zero_division` parameter to control this behavior.\n",
      "  _warn_prf(average, modifier, msg_start, len(result))\n"
     ]
    }
   ],
   "source": [
    "##VERIFICANDO O RELATÓRIO DE CLASSIFICAÇÃO\n",
    "\n",
    "print (classification_report(y_test, y_pred))"
   ]
  },
  {
   "cell_type": "code",
   "execution_count": 181,
   "metadata": {},
   "outputs": [
    {
     "name": "stdout",
     "output_type": "stream",
     "text": [
      "Predito     0   All\n",
      "Real               \n",
      "0         927   927\n",
      "1          74    74\n",
      "All      1001  1001\n"
     ]
    }
   ],
   "source": [
    "##VERIFICANDO A TABELA CRUZADA\n",
    "\n",
    "print (pd.crosstab(y_test, y_pred, rownames=['Real'], colnames=['Predito'], margins=True))"
   ]
  },
  {
   "cell_type": "markdown",
   "metadata": {},
   "source": [
    "**NESTE PRIMEIRO MOMENTO, FICA EVIDENTE QUE O DATASET ESTÁ DESBALANCEADO.**\n",
    "\n",
    "COMO PODE SER OBSERVADO, O MODELO RETORNOU UMA ACURÁCIA MUITO ALTA, PORÉM AO VERIFICAR O RELATÓRIO DE CLASSIFICAÇÃO, FOI POSSÍVEL OBSERVAR QUE A PRECISÃO, O RECALL E A F MEDIDA ESTÃO ZERADAS PARA O ALVO 1."
   ]
  },
  {
   "cell_type": "markdown",
   "metadata": {},
   "source": [
    "<h3> BALANCEAMENTO UTILIZANDO O NEARMISS </h3>"
   ]
  },
  {
   "cell_type": "code",
   "execution_count": 182,
   "metadata": {},
   "outputs": [],
   "source": [
    "##INICIALIZANDO O NEARMISS\n",
    "\n",
    "nr = NearMiss()"
   ]
  },
  {
   "cell_type": "code",
   "execution_count": 183,
   "metadata": {},
   "outputs": [],
   "source": [
    "##APLICANDO O NEARMISS EM X E Y\n",
    "\n",
    "X, y = nr.fit_sample(X, y)"
   ]
  },
  {
   "cell_type": "code",
   "execution_count": 184,
   "metadata": {},
   "outputs": [
    {
     "data": {
      "text/plain": [
       "<matplotlib.axes._subplots.AxesSubplot at 0x1e4dbddff08>"
      ]
     },
     "execution_count": 184,
     "metadata": {},
     "output_type": "execute_result"
    },
    {
     "data": {
      "image/png": "[encoded data removed]",
      "text/plain": [
       "<Figure size 432x288 with 1 Axes>"
      ]
     },
     "metadata": {
      "needs_background": "light"
     },
     "output_type": "display_data"
    }
   ],
   "source": [
    "##GRÁFICO: CONTAGEM DA VARIÁVEL ALVO\n",
    "\n",
    "sns.countplot(x=y)"
   ]
  },
  {
   "cell_type": "code",
   "execution_count": 185,
   "metadata": {},
   "outputs": [],
   "source": [
    "##DECLARANDO AS VARIÁVEIS PARA O MODELO\n",
    "\n",
    "X_train, X_test, y_train, y_test = train_test_split(X, y, random_state = 1, stratify=y)"
   ]
  },
  {
   "cell_type": "code",
   "execution_count": 186,
   "metadata": {},
   "outputs": [
    {
     "data": {
      "text/plain": [
       "LogisticRegression(max_iter=10000, solver='saga')"
      ]
     },
     "execution_count": 186,
     "metadata": {},
     "output_type": "execute_result"
    }
   ],
   "source": [
    "##REALIZANDO O FIT NO MODELO\n",
    "\n",
    "lr.fit(X_train, y_train)"
   ]
  },
  {
   "cell_type": "code",
   "execution_count": 187,
   "metadata": {},
   "outputs": [],
   "source": [
    "##CRIANDO A PREDIÇÃO\n",
    "\n",
    "y_pred = lr.predict(X_test)"
   ]
  },
  {
   "cell_type": "code",
   "execution_count": 188,
   "metadata": {},
   "outputs": [
    {
     "data": {
      "text/plain": [
       "0.6283783783783784"
      ]
     },
     "execution_count": 188,
     "metadata": {},
     "output_type": "execute_result"
    }
   ],
   "source": [
    "##VERIFICANDO A ACURÁCIA\n",
    "\n",
    "accuracy_score(y_test, y_pred)"
   ]
  },
  {
   "cell_type": "code",
   "execution_count": 189,
   "metadata": {},
   "outputs": [
    {
     "name": "stdout",
     "output_type": "stream",
     "text": [
      "              precision    recall  f1-score   support\n",
      "\n",
      "           0       0.59      0.86      0.70        74\n",
      "           1       0.74      0.39      0.51        74\n",
      "\n",
      "    accuracy                           0.63       148\n",
      "   macro avg       0.67      0.63      0.61       148\n",
      "weighted avg       0.67      0.63      0.61       148\n",
      "\n"
     ]
    }
   ],
   "source": [
    "##VERIFICANDO O RELATÓRIO DE CLASSIFICAÇÃO\n",
    "\n",
    "print (classification_report(y_test, y_pred))"
   ]
  },
  {
   "cell_type": "code",
   "execution_count": 190,
   "metadata": {},
   "outputs": [
    {
     "name": "stdout",
     "output_type": "stream",
     "text": [
      "Predito    0   1  All\n",
      "Real                 \n",
      "0         64  10   74\n",
      "1         45  29   74\n",
      "All      109  39  148\n"
     ]
    }
   ],
   "source": [
    "##VERIFICANDO A TABELA CRUZADA\n",
    "\n",
    "print (pd.crosstab(y_test, y_pred, rownames=['Real'], colnames=['Predito'], margins=True))"
   ]
  },
  {
   "cell_type": "markdown",
   "metadata": {},
   "source": [
    "**RESULTADO DO PRIMEIRO BALANCEAMENTO:** COMO PODE SER OBSERVADO, AO UTILIZAR O NEARMISS, A ACURÁCIA DO MODELO TEVE UMA QUEDA SIGNIFICATIVA, PORÉM OS VALORES DE PRECISÃO, RECALL E F MEDIDA AGORA PODEM SER AVALIADOS, EMBORA AINDA NÃO SEJAM SATISFATÓRIOS."
   ]
  },
  {
   "cell_type": "markdown",
   "metadata": {},
   "source": [
    "<h3>BALANCEAMENTO UTILIZANDO O SMOTE </h3>"
   ]
  },
  {
   "cell_type": "code",
   "execution_count": 71,
   "metadata": {},
   "outputs": [],
   "source": [
    "##SEPARANDO NOVAMENTE O DATASET EM X E Y\n",
    "\n",
    "X = df.drop(cols2, axis = 1)\n",
    "y = df.evadiu"
   ]
  },
  {
   "cell_type": "code",
   "execution_count": 192,
   "metadata": {},
   "outputs": [
    {
     "data": {
      "text/plain": [
       "array([3707,  296], dtype=int64)"
      ]
     },
     "execution_count": 192,
     "metadata": {},
     "output_type": "execute_result"
    }
   ],
   "source": [
    "##CONTAGEM DO ALVO\n",
    "\n",
    "np.bincount(y)"
   ]
  },
  {
   "cell_type": "code",
   "execution_count": 72,
   "metadata": {},
   "outputs": [],
   "source": [
    "##INICIALIZANDO O SMOTE\n",
    "\n",
    "smt = SMOTE()"
   ]
  },
  {
   "cell_type": "code",
   "execution_count": 73,
   "metadata": {},
   "outputs": [],
   "source": [
    "##APLICANDO O SMOTE EM X E Y\n",
    "\n",
    "X, y = smt.fit_sample(X, y)"
   ]
  },
  {
   "cell_type": "code",
   "execution_count": 19,
   "metadata": {},
   "outputs": [
    {
     "data": {
      "text/plain": [
       "array([3707, 3707], dtype=int64)"
      ]
     },
     "execution_count": 19,
     "metadata": {},
     "output_type": "execute_result"
    }
   ],
   "source": [
    "##NOVA CONTAGEM DO ALVO\n",
    "\n",
    "np.bincount(y)"
   ]
  },
  {
   "cell_type": "code",
   "execution_count": 196,
   "metadata": {},
   "outputs": [
    {
     "data": {
      "text/plain": [
       "<matplotlib.axes._subplots.AxesSubplot at 0x1e4dbdb7e08>"
      ]
     },
     "execution_count": 196,
     "metadata": {},
     "output_type": "execute_result"
    },
    {
     "data": {
      "image/png": "[encoded data removed]",
      "text/plain": [
       "<Figure size 432x288 with 1 Axes>"
      ]
     },
     "metadata": {
      "needs_background": "light"
     },
     "output_type": "display_data"
    }
   ],
   "source": [
    "##GRÁFICO: CONTAGEM DO ALVO APÓS O SMOTE\n",
    "\n",
    "sns.countplot(x=y)"
   ]
  },
  {
   "cell_type": "code",
   "execution_count": 197,
   "metadata": {},
   "outputs": [],
   "source": [
    "##CRIANDO AS VARIÁVEIS DO MODELO\n",
    "\n",
    "X_train, X_test, y_train, y_test = train_test_split(X, y, random_state = 1, stratify=y)"
   ]
  },
  {
   "cell_type": "code",
   "execution_count": 198,
   "metadata": {},
   "outputs": [
    {
     "data": {
      "text/plain": [
       "LogisticRegression(max_iter=10000, solver='saga')"
      ]
     },
     "execution_count": 198,
     "metadata": {},
     "output_type": "execute_result"
    }
   ],
   "source": [
    "#REALIZANDO O FIT NO MODELO\n",
    "\n",
    "lr.fit(X_train, y_train)"
   ]
  },
  {
   "cell_type": "code",
   "execution_count": 199,
   "metadata": {},
   "outputs": [],
   "source": [
    "##CRIANDO A PREDIÇÃO\n",
    "\n",
    "y_pred = lr.predict(X_test)"
   ]
  },
  {
   "cell_type": "code",
   "execution_count": 200,
   "metadata": {},
   "outputs": [
    {
     "data": {
      "text/plain": [
       "0.6693635382955772"
      ]
     },
     "execution_count": 200,
     "metadata": {},
     "output_type": "execute_result"
    }
   ],
   "source": [
    "##VERIFICANDO A ACURÁCIA\n",
    "\n",
    "accuracy_score(y_test, y_pred)"
   ]
  },
  {
   "cell_type": "code",
   "execution_count": 201,
   "metadata": {},
   "outputs": [
    {
     "name": "stdout",
     "output_type": "stream",
     "text": [
      "              precision    recall  f1-score   support\n",
      "\n",
      "           0       0.73      0.54      0.62       927\n",
      "           1       0.63      0.80      0.71       927\n",
      "\n",
      "    accuracy                           0.67      1854\n",
      "   macro avg       0.68      0.67      0.66      1854\n",
      "weighted avg       0.68      0.67      0.66      1854\n",
      "\n"
     ]
    }
   ],
   "source": [
    "##VERIFICANDO O RELATÓRIO DE CLASSIFICAÇÃO\n",
    "\n",
    "print (classification_report(y_test, y_pred))"
   ]
  },
  {
   "cell_type": "code",
   "execution_count": 202,
   "metadata": {},
   "outputs": [
    {
     "name": "stdout",
     "output_type": "stream",
     "text": [
      "Predito    0     1   All\n",
      "Real                    \n",
      "0        500   427   927\n",
      "1        186   741   927\n",
      "All      686  1168  1854\n"
     ]
    }
   ],
   "source": [
    "##VERIFICANDO A TABELA CRUZADA\n",
    "\n",
    "print (pd.crosstab(y_test, y_pred, rownames=['Real'], colnames=['Predito'], margins=True))"
   ]
  },
  {
   "cell_type": "markdown",
   "metadata": {},
   "source": [
    "**CONCLUSÃO DO BALANCEAMENTO:** CONFORME OBSERVADO, O SMOTE ATINGIU UM MELHOR RESULTADO. TENDO NÚMEROS SUPERIORES AO NEARMISS, O QUE ATRIBUI UMA CHANCE MAIOR DE MELHORES RESULTADOS."
   ]
  },
  {
   "cell_type": "markdown",
   "metadata": {},
   "source": [
    "<h2>4. AVALIANDO O MELHOR MODELO USANDO O PYCARET </h2>"
   ]
  },
  {
   "cell_type": "markdown",
   "metadata": {},
   "source": [
    "<h5>CONFORME AS ANÁLISES ACIMA, FOI OBSERVADA A NECESSIDADE DO BALANCEAMENTO NO DATASET. DESTA FORMA A ANÁLISE COM O PYCARET SERÁ FEITA UTILIZANDO O DATASET JÁ BALANCEADO COM O SMOTE, POIS APRESENTOU MELHORES RESULTADOS."
   ]
  },
  {
   "cell_type": "code",
   "execution_count": 74,
   "metadata": {},
   "outputs": [],
   "source": [
    "##CRIANDO UM NOVO DATAFRAME COM OS VALORES BALANCEADOS\n",
    "\n",
    "df_pyc = pd.DataFrame(X)\n",
    "df_pyc = df_pyc.assign(evadiu=pd.Series(y).values)"
   ]
  },
  {
   "cell_type": "code",
   "execution_count": 24,
   "metadata": {},
   "outputs": [
    {
     "data": {
      "text/html": [
       "<div>\n",
       "<style scoped>\n",
       "    .dataframe tbody tr th:only-of-type {\n",
       "        vertical-align: middle;\n",
       "    }\n",
       "\n",
       "    .dataframe tbody tr th {\n",
       "        vertical-align: top;\n",
       "    }\n",
       "\n",
       "    .dataframe thead th {\n",
       "        text-align: right;\n",
       "    }\n",
       "</style>\n",
       "<table border=\"1\" class=\"dataframe\">\n",
       "  <thead>\n",
       "    <tr style=\"text-align: right;\">\n",
       "      <th></th>\n",
       "      <th>id</th>\n",
       "      <th>atingiu_media</th>\n",
       "      <th>faltas</th>\n",
       "      <th>atraso</th>\n",
       "      <th>acordo</th>\n",
       "      <th>periodo</th>\n",
       "      <th>evadiu</th>\n",
       "    </tr>\n",
       "  </thead>\n",
       "  <tbody>\n",
       "    <tr>\n",
       "      <th>0</th>\n",
       "      <td>519</td>\n",
       "      <td>0</td>\n",
       "      <td>32</td>\n",
       "      <td>1</td>\n",
       "      <td>0</td>\n",
       "      <td>6</td>\n",
       "      <td>1</td>\n",
       "    </tr>\n",
       "    <tr>\n",
       "      <th>1</th>\n",
       "      <td>655</td>\n",
       "      <td>0</td>\n",
       "      <td>18</td>\n",
       "      <td>1</td>\n",
       "      <td>0</td>\n",
       "      <td>8</td>\n",
       "      <td>0</td>\n",
       "    </tr>\n",
       "    <tr>\n",
       "      <th>2</th>\n",
       "      <td>741</td>\n",
       "      <td>0</td>\n",
       "      <td>62</td>\n",
       "      <td>1</td>\n",
       "      <td>0</td>\n",
       "      <td>8</td>\n",
       "      <td>0</td>\n",
       "    </tr>\n",
       "    <tr>\n",
       "      <th>3</th>\n",
       "      <td>748</td>\n",
       "      <td>0</td>\n",
       "      <td>40</td>\n",
       "      <td>0</td>\n",
       "      <td>0</td>\n",
       "      <td>8</td>\n",
       "      <td>0</td>\n",
       "    </tr>\n",
       "    <tr>\n",
       "      <th>4</th>\n",
       "      <td>1016</td>\n",
       "      <td>0</td>\n",
       "      <td>14</td>\n",
       "      <td>1</td>\n",
       "      <td>0</td>\n",
       "      <td>10</td>\n",
       "      <td>1</td>\n",
       "    </tr>\n",
       "  </tbody>\n",
       "</table>\n",
       "</div>"
      ],
      "text/plain": [
       "     id  atingiu_media  faltas  atraso  acordo  periodo  evadiu\n",
       "0   519              0      32       1       0        6       1\n",
       "1   655              0      18       1       0        8       0\n",
       "2   741              0      62       1       0        8       0\n",
       "3   748              0      40       0       0        8       0\n",
       "4  1016              0      14       1       0       10       1"
      ]
     },
     "execution_count": 24,
     "metadata": {},
     "output_type": "execute_result"
    }
   ],
   "source": [
    "##VALORES DO DATASET\n",
    "\n",
    "df_pyc.head()"
   ]
  },
  {
   "cell_type": "code",
   "execution_count": 75,
   "metadata": {},
   "outputs": [
    {
     "name": "stdout",
     "output_type": "stream",
     "text": [
      "<class 'pandas.core.frame.DataFrame'>\n",
      "RangeIndex: 7414 entries, 0 to 7413\n",
      "Data columns (total 7 columns):\n",
      " #   Column         Non-Null Count  Dtype\n",
      "---  ------         --------------  -----\n",
      " 0   id             7414 non-null   int64\n",
      " 1   atingiu_media  7414 non-null   int64\n",
      " 2   faltas         7414 non-null   int64\n",
      " 3   atraso         7414 non-null   int64\n",
      " 4   acordo         7414 non-null   int64\n",
      " 5   periodo        7414 non-null   int64\n",
      " 6   evadiu         7414 non-null   int64\n",
      "dtypes: int64(7)\n",
      "memory usage: 405.6 KB\n"
     ]
    }
   ],
   "source": [
    "##INFORMAÇÕES DO DATASET\n",
    "\n",
    "df_pyc.info()"
   ]
  },
  {
   "cell_type": "code",
   "execution_count": 80,
   "metadata": {},
   "outputs": [
    {
     "name": "stdout",
     "output_type": "stream",
     "text": [
      "Setup Succesfully Completed!\n"
     ]
    },
    {
     "data": {
      "text/html": [
       "<style  type=\"text/css\" >\n",
       "</style><table id=\"T_0c068930_05ae_11eb_a61c_edc933979480\" ><thead>    <tr>        <th class=\"blank level0\" ></th>        <th class=\"col_heading level0 col0\" >Description</th>        <th class=\"col_heading level0 col1\" >Value</th>    </tr></thead><tbody>\n",
       "                <tr>\n",
       "                        <th id=\"T_0c068930_05ae_11eb_a61c_edc933979480level0_row0\" class=\"row_heading level0 row0\" >0</th>\n",
       "                        <td id=\"T_0c068930_05ae_11eb_a61c_edc933979480row0_col0\" class=\"data row0 col0\" >session_id</td>\n",
       "                        <td id=\"T_0c068930_05ae_11eb_a61c_edc933979480row0_col1\" class=\"data row0 col1\" >1274</td>\n",
       "            </tr>\n",
       "            <tr>\n",
       "                        <th id=\"T_0c068930_05ae_11eb_a61c_edc933979480level0_row1\" class=\"row_heading level0 row1\" >1</th>\n",
       "                        <td id=\"T_0c068930_05ae_11eb_a61c_edc933979480row1_col0\" class=\"data row1 col0\" >Target Type</td>\n",
       "                        <td id=\"T_0c068930_05ae_11eb_a61c_edc933979480row1_col1\" class=\"data row1 col1\" >Binary</td>\n",
       "            </tr>\n",
       "            <tr>\n",
       "                        <th id=\"T_0c068930_05ae_11eb_a61c_edc933979480level0_row2\" class=\"row_heading level0 row2\" >2</th>\n",
       "                        <td id=\"T_0c068930_05ae_11eb_a61c_edc933979480row2_col0\" class=\"data row2 col0\" >Label Encoded</td>\n",
       "                        <td id=\"T_0c068930_05ae_11eb_a61c_edc933979480row2_col1\" class=\"data row2 col1\" >0: 0, 1: 1</td>\n",
       "            </tr>\n",
       "            <tr>\n",
       "                        <th id=\"T_0c068930_05ae_11eb_a61c_edc933979480level0_row3\" class=\"row_heading level0 row3\" >3</th>\n",
       "                        <td id=\"T_0c068930_05ae_11eb_a61c_edc933979480row3_col0\" class=\"data row3 col0\" >Original Data</td>\n",
       "                        <td id=\"T_0c068930_05ae_11eb_a61c_edc933979480row3_col1\" class=\"data row3 col1\" >(7414, 7)</td>\n",
       "            </tr>\n",
       "            <tr>\n",
       "                        <th id=\"T_0c068930_05ae_11eb_a61c_edc933979480level0_row4\" class=\"row_heading level0 row4\" >4</th>\n",
       "                        <td id=\"T_0c068930_05ae_11eb_a61c_edc933979480row4_col0\" class=\"data row4 col0\" >Missing Values </td>\n",
       "                        <td id=\"T_0c068930_05ae_11eb_a61c_edc933979480row4_col1\" class=\"data row4 col1\" >False</td>\n",
       "            </tr>\n",
       "            <tr>\n",
       "                        <th id=\"T_0c068930_05ae_11eb_a61c_edc933979480level0_row5\" class=\"row_heading level0 row5\" >5</th>\n",
       "                        <td id=\"T_0c068930_05ae_11eb_a61c_edc933979480row5_col0\" class=\"data row5 col0\" >Numeric Features </td>\n",
       "                        <td id=\"T_0c068930_05ae_11eb_a61c_edc933979480row5_col1\" class=\"data row5 col1\" >2</td>\n",
       "            </tr>\n",
       "            <tr>\n",
       "                        <th id=\"T_0c068930_05ae_11eb_a61c_edc933979480level0_row6\" class=\"row_heading level0 row6\" >6</th>\n",
       "                        <td id=\"T_0c068930_05ae_11eb_a61c_edc933979480row6_col0\" class=\"data row6 col0\" >Categorical Features </td>\n",
       "                        <td id=\"T_0c068930_05ae_11eb_a61c_edc933979480row6_col1\" class=\"data row6 col1\" >4</td>\n",
       "            </tr>\n",
       "            <tr>\n",
       "                        <th id=\"T_0c068930_05ae_11eb_a61c_edc933979480level0_row7\" class=\"row_heading level0 row7\" >7</th>\n",
       "                        <td id=\"T_0c068930_05ae_11eb_a61c_edc933979480row7_col0\" class=\"data row7 col0\" >Ordinal Features </td>\n",
       "                        <td id=\"T_0c068930_05ae_11eb_a61c_edc933979480row7_col1\" class=\"data row7 col1\" >False</td>\n",
       "            </tr>\n",
       "            <tr>\n",
       "                        <th id=\"T_0c068930_05ae_11eb_a61c_edc933979480level0_row8\" class=\"row_heading level0 row8\" >8</th>\n",
       "                        <td id=\"T_0c068930_05ae_11eb_a61c_edc933979480row8_col0\" class=\"data row8 col0\" >High Cardinality Features </td>\n",
       "                        <td id=\"T_0c068930_05ae_11eb_a61c_edc933979480row8_col1\" class=\"data row8 col1\" >False</td>\n",
       "            </tr>\n",
       "            <tr>\n",
       "                        <th id=\"T_0c068930_05ae_11eb_a61c_edc933979480level0_row9\" class=\"row_heading level0 row9\" >9</th>\n",
       "                        <td id=\"T_0c068930_05ae_11eb_a61c_edc933979480row9_col0\" class=\"data row9 col0\" >High Cardinality Method </td>\n",
       "                        <td id=\"T_0c068930_05ae_11eb_a61c_edc933979480row9_col1\" class=\"data row9 col1\" >None</td>\n",
       "            </tr>\n",
       "            <tr>\n",
       "                        <th id=\"T_0c068930_05ae_11eb_a61c_edc933979480level0_row10\" class=\"row_heading level0 row10\" >10</th>\n",
       "                        <td id=\"T_0c068930_05ae_11eb_a61c_edc933979480row10_col0\" class=\"data row10 col0\" >Sampled Data</td>\n",
       "                        <td id=\"T_0c068930_05ae_11eb_a61c_edc933979480row10_col1\" class=\"data row10 col1\" >(7414, 7)</td>\n",
       "            </tr>\n",
       "            <tr>\n",
       "                        <th id=\"T_0c068930_05ae_11eb_a61c_edc933979480level0_row11\" class=\"row_heading level0 row11\" >11</th>\n",
       "                        <td id=\"T_0c068930_05ae_11eb_a61c_edc933979480row11_col0\" class=\"data row11 col0\" >Transformed Train Set</td>\n",
       "                        <td id=\"T_0c068930_05ae_11eb_a61c_edc933979480row11_col1\" class=\"data row11 col1\" >(5189, 17)</td>\n",
       "            </tr>\n",
       "            <tr>\n",
       "                        <th id=\"T_0c068930_05ae_11eb_a61c_edc933979480level0_row12\" class=\"row_heading level0 row12\" >12</th>\n",
       "                        <td id=\"T_0c068930_05ae_11eb_a61c_edc933979480row12_col0\" class=\"data row12 col0\" >Transformed Test Set</td>\n",
       "                        <td id=\"T_0c068930_05ae_11eb_a61c_edc933979480row12_col1\" class=\"data row12 col1\" >(2225, 17)</td>\n",
       "            </tr>\n",
       "            <tr>\n",
       "                        <th id=\"T_0c068930_05ae_11eb_a61c_edc933979480level0_row13\" class=\"row_heading level0 row13\" >13</th>\n",
       "                        <td id=\"T_0c068930_05ae_11eb_a61c_edc933979480row13_col0\" class=\"data row13 col0\" >Numeric Imputer </td>\n",
       "                        <td id=\"T_0c068930_05ae_11eb_a61c_edc933979480row13_col1\" class=\"data row13 col1\" >mean</td>\n",
       "            </tr>\n",
       "            <tr>\n",
       "                        <th id=\"T_0c068930_05ae_11eb_a61c_edc933979480level0_row14\" class=\"row_heading level0 row14\" >14</th>\n",
       "                        <td id=\"T_0c068930_05ae_11eb_a61c_edc933979480row14_col0\" class=\"data row14 col0\" >Categorical Imputer </td>\n",
       "                        <td id=\"T_0c068930_05ae_11eb_a61c_edc933979480row14_col1\" class=\"data row14 col1\" >constant</td>\n",
       "            </tr>\n",
       "            <tr>\n",
       "                        <th id=\"T_0c068930_05ae_11eb_a61c_edc933979480level0_row15\" class=\"row_heading level0 row15\" >15</th>\n",
       "                        <td id=\"T_0c068930_05ae_11eb_a61c_edc933979480row15_col0\" class=\"data row15 col0\" >Normalize </td>\n",
       "                        <td id=\"T_0c068930_05ae_11eb_a61c_edc933979480row15_col1\" class=\"data row15 col1\" >False</td>\n",
       "            </tr>\n",
       "            <tr>\n",
       "                        <th id=\"T_0c068930_05ae_11eb_a61c_edc933979480level0_row16\" class=\"row_heading level0 row16\" >16</th>\n",
       "                        <td id=\"T_0c068930_05ae_11eb_a61c_edc933979480row16_col0\" class=\"data row16 col0\" >Normalize Method </td>\n",
       "                        <td id=\"T_0c068930_05ae_11eb_a61c_edc933979480row16_col1\" class=\"data row16 col1\" >None</td>\n",
       "            </tr>\n",
       "            <tr>\n",
       "                        <th id=\"T_0c068930_05ae_11eb_a61c_edc933979480level0_row17\" class=\"row_heading level0 row17\" >17</th>\n",
       "                        <td id=\"T_0c068930_05ae_11eb_a61c_edc933979480row17_col0\" class=\"data row17 col0\" >Transformation </td>\n",
       "                        <td id=\"T_0c068930_05ae_11eb_a61c_edc933979480row17_col1\" class=\"data row17 col1\" >False</td>\n",
       "            </tr>\n",
       "            <tr>\n",
       "                        <th id=\"T_0c068930_05ae_11eb_a61c_edc933979480level0_row18\" class=\"row_heading level0 row18\" >18</th>\n",
       "                        <td id=\"T_0c068930_05ae_11eb_a61c_edc933979480row18_col0\" class=\"data row18 col0\" >Transformation Method </td>\n",
       "                        <td id=\"T_0c068930_05ae_11eb_a61c_edc933979480row18_col1\" class=\"data row18 col1\" >None</td>\n",
       "            </tr>\n",
       "            <tr>\n",
       "                        <th id=\"T_0c068930_05ae_11eb_a61c_edc933979480level0_row19\" class=\"row_heading level0 row19\" >19</th>\n",
       "                        <td id=\"T_0c068930_05ae_11eb_a61c_edc933979480row19_col0\" class=\"data row19 col0\" >PCA </td>\n",
       "                        <td id=\"T_0c068930_05ae_11eb_a61c_edc933979480row19_col1\" class=\"data row19 col1\" >False</td>\n",
       "            </tr>\n",
       "            <tr>\n",
       "                        <th id=\"T_0c068930_05ae_11eb_a61c_edc933979480level0_row20\" class=\"row_heading level0 row20\" >20</th>\n",
       "                        <td id=\"T_0c068930_05ae_11eb_a61c_edc933979480row20_col0\" class=\"data row20 col0\" >PCA Method </td>\n",
       "                        <td id=\"T_0c068930_05ae_11eb_a61c_edc933979480row20_col1\" class=\"data row20 col1\" >None</td>\n",
       "            </tr>\n",
       "            <tr>\n",
       "                        <th id=\"T_0c068930_05ae_11eb_a61c_edc933979480level0_row21\" class=\"row_heading level0 row21\" >21</th>\n",
       "                        <td id=\"T_0c068930_05ae_11eb_a61c_edc933979480row21_col0\" class=\"data row21 col0\" >PCA Components </td>\n",
       "                        <td id=\"T_0c068930_05ae_11eb_a61c_edc933979480row21_col1\" class=\"data row21 col1\" >None</td>\n",
       "            </tr>\n",
       "            <tr>\n",
       "                        <th id=\"T_0c068930_05ae_11eb_a61c_edc933979480level0_row22\" class=\"row_heading level0 row22\" >22</th>\n",
       "                        <td id=\"T_0c068930_05ae_11eb_a61c_edc933979480row22_col0\" class=\"data row22 col0\" >Ignore Low Variance </td>\n",
       "                        <td id=\"T_0c068930_05ae_11eb_a61c_edc933979480row22_col1\" class=\"data row22 col1\" >False</td>\n",
       "            </tr>\n",
       "            <tr>\n",
       "                        <th id=\"T_0c068930_05ae_11eb_a61c_edc933979480level0_row23\" class=\"row_heading level0 row23\" >23</th>\n",
       "                        <td id=\"T_0c068930_05ae_11eb_a61c_edc933979480row23_col0\" class=\"data row23 col0\" >Combine Rare Levels </td>\n",
       "                        <td id=\"T_0c068930_05ae_11eb_a61c_edc933979480row23_col1\" class=\"data row23 col1\" >False</td>\n",
       "            </tr>\n",
       "            <tr>\n",
       "                        <th id=\"T_0c068930_05ae_11eb_a61c_edc933979480level0_row24\" class=\"row_heading level0 row24\" >24</th>\n",
       "                        <td id=\"T_0c068930_05ae_11eb_a61c_edc933979480row24_col0\" class=\"data row24 col0\" >Rare Level Threshold </td>\n",
       "                        <td id=\"T_0c068930_05ae_11eb_a61c_edc933979480row24_col1\" class=\"data row24 col1\" >None</td>\n",
       "            </tr>\n",
       "            <tr>\n",
       "                        <th id=\"T_0c068930_05ae_11eb_a61c_edc933979480level0_row25\" class=\"row_heading level0 row25\" >25</th>\n",
       "                        <td id=\"T_0c068930_05ae_11eb_a61c_edc933979480row25_col0\" class=\"data row25 col0\" >Numeric Binning </td>\n",
       "                        <td id=\"T_0c068930_05ae_11eb_a61c_edc933979480row25_col1\" class=\"data row25 col1\" >False</td>\n",
       "            </tr>\n",
       "            <tr>\n",
       "                        <th id=\"T_0c068930_05ae_11eb_a61c_edc933979480level0_row26\" class=\"row_heading level0 row26\" >26</th>\n",
       "                        <td id=\"T_0c068930_05ae_11eb_a61c_edc933979480row26_col0\" class=\"data row26 col0\" >Remove Outliers </td>\n",
       "                        <td id=\"T_0c068930_05ae_11eb_a61c_edc933979480row26_col1\" class=\"data row26 col1\" >False</td>\n",
       "            </tr>\n",
       "            <tr>\n",
       "                        <th id=\"T_0c068930_05ae_11eb_a61c_edc933979480level0_row27\" class=\"row_heading level0 row27\" >27</th>\n",
       "                        <td id=\"T_0c068930_05ae_11eb_a61c_edc933979480row27_col0\" class=\"data row27 col0\" >Outliers Threshold </td>\n",
       "                        <td id=\"T_0c068930_05ae_11eb_a61c_edc933979480row27_col1\" class=\"data row27 col1\" >None</td>\n",
       "            </tr>\n",
       "            <tr>\n",
       "                        <th id=\"T_0c068930_05ae_11eb_a61c_edc933979480level0_row28\" class=\"row_heading level0 row28\" >28</th>\n",
       "                        <td id=\"T_0c068930_05ae_11eb_a61c_edc933979480row28_col0\" class=\"data row28 col0\" >Remove Multicollinearity </td>\n",
       "                        <td id=\"T_0c068930_05ae_11eb_a61c_edc933979480row28_col1\" class=\"data row28 col1\" >False</td>\n",
       "            </tr>\n",
       "            <tr>\n",
       "                        <th id=\"T_0c068930_05ae_11eb_a61c_edc933979480level0_row29\" class=\"row_heading level0 row29\" >29</th>\n",
       "                        <td id=\"T_0c068930_05ae_11eb_a61c_edc933979480row29_col0\" class=\"data row29 col0\" >Multicollinearity Threshold </td>\n",
       "                        <td id=\"T_0c068930_05ae_11eb_a61c_edc933979480row29_col1\" class=\"data row29 col1\" >None</td>\n",
       "            </tr>\n",
       "            <tr>\n",
       "                        <th id=\"T_0c068930_05ae_11eb_a61c_edc933979480level0_row30\" class=\"row_heading level0 row30\" >30</th>\n",
       "                        <td id=\"T_0c068930_05ae_11eb_a61c_edc933979480row30_col0\" class=\"data row30 col0\" >Clustering </td>\n",
       "                        <td id=\"T_0c068930_05ae_11eb_a61c_edc933979480row30_col1\" class=\"data row30 col1\" >False</td>\n",
       "            </tr>\n",
       "            <tr>\n",
       "                        <th id=\"T_0c068930_05ae_11eb_a61c_edc933979480level0_row31\" class=\"row_heading level0 row31\" >31</th>\n",
       "                        <td id=\"T_0c068930_05ae_11eb_a61c_edc933979480row31_col0\" class=\"data row31 col0\" >Clustering Iteration </td>\n",
       "                        <td id=\"T_0c068930_05ae_11eb_a61c_edc933979480row31_col1\" class=\"data row31 col1\" >None</td>\n",
       "            </tr>\n",
       "            <tr>\n",
       "                        <th id=\"T_0c068930_05ae_11eb_a61c_edc933979480level0_row32\" class=\"row_heading level0 row32\" >32</th>\n",
       "                        <td id=\"T_0c068930_05ae_11eb_a61c_edc933979480row32_col0\" class=\"data row32 col0\" >Polynomial Features </td>\n",
       "                        <td id=\"T_0c068930_05ae_11eb_a61c_edc933979480row32_col1\" class=\"data row32 col1\" >False</td>\n",
       "            </tr>\n",
       "            <tr>\n",
       "                        <th id=\"T_0c068930_05ae_11eb_a61c_edc933979480level0_row33\" class=\"row_heading level0 row33\" >33</th>\n",
       "                        <td id=\"T_0c068930_05ae_11eb_a61c_edc933979480row33_col0\" class=\"data row33 col0\" >Polynomial Degree </td>\n",
       "                        <td id=\"T_0c068930_05ae_11eb_a61c_edc933979480row33_col1\" class=\"data row33 col1\" >None</td>\n",
       "            </tr>\n",
       "            <tr>\n",
       "                        <th id=\"T_0c068930_05ae_11eb_a61c_edc933979480level0_row34\" class=\"row_heading level0 row34\" >34</th>\n",
       "                        <td id=\"T_0c068930_05ae_11eb_a61c_edc933979480row34_col0\" class=\"data row34 col0\" >Trignometry Features </td>\n",
       "                        <td id=\"T_0c068930_05ae_11eb_a61c_edc933979480row34_col1\" class=\"data row34 col1\" >False</td>\n",
       "            </tr>\n",
       "            <tr>\n",
       "                        <th id=\"T_0c068930_05ae_11eb_a61c_edc933979480level0_row35\" class=\"row_heading level0 row35\" >35</th>\n",
       "                        <td id=\"T_0c068930_05ae_11eb_a61c_edc933979480row35_col0\" class=\"data row35 col0\" >Polynomial Threshold </td>\n",
       "                        <td id=\"T_0c068930_05ae_11eb_a61c_edc933979480row35_col1\" class=\"data row35 col1\" >None</td>\n",
       "            </tr>\n",
       "            <tr>\n",
       "                        <th id=\"T_0c068930_05ae_11eb_a61c_edc933979480level0_row36\" class=\"row_heading level0 row36\" >36</th>\n",
       "                        <td id=\"T_0c068930_05ae_11eb_a61c_edc933979480row36_col0\" class=\"data row36 col0\" >Group Features </td>\n",
       "                        <td id=\"T_0c068930_05ae_11eb_a61c_edc933979480row36_col1\" class=\"data row36 col1\" >False</td>\n",
       "            </tr>\n",
       "            <tr>\n",
       "                        <th id=\"T_0c068930_05ae_11eb_a61c_edc933979480level0_row37\" class=\"row_heading level0 row37\" >37</th>\n",
       "                        <td id=\"T_0c068930_05ae_11eb_a61c_edc933979480row37_col0\" class=\"data row37 col0\" >Feature Selection </td>\n",
       "                        <td id=\"T_0c068930_05ae_11eb_a61c_edc933979480row37_col1\" class=\"data row37 col1\" >False</td>\n",
       "            </tr>\n",
       "            <tr>\n",
       "                        <th id=\"T_0c068930_05ae_11eb_a61c_edc933979480level0_row38\" class=\"row_heading level0 row38\" >38</th>\n",
       "                        <td id=\"T_0c068930_05ae_11eb_a61c_edc933979480row38_col0\" class=\"data row38 col0\" >Features Selection Threshold </td>\n",
       "                        <td id=\"T_0c068930_05ae_11eb_a61c_edc933979480row38_col1\" class=\"data row38 col1\" >None</td>\n",
       "            </tr>\n",
       "            <tr>\n",
       "                        <th id=\"T_0c068930_05ae_11eb_a61c_edc933979480level0_row39\" class=\"row_heading level0 row39\" >39</th>\n",
       "                        <td id=\"T_0c068930_05ae_11eb_a61c_edc933979480row39_col0\" class=\"data row39 col0\" >Feature Interaction </td>\n",
       "                        <td id=\"T_0c068930_05ae_11eb_a61c_edc933979480row39_col1\" class=\"data row39 col1\" >False</td>\n",
       "            </tr>\n",
       "            <tr>\n",
       "                        <th id=\"T_0c068930_05ae_11eb_a61c_edc933979480level0_row40\" class=\"row_heading level0 row40\" >40</th>\n",
       "                        <td id=\"T_0c068930_05ae_11eb_a61c_edc933979480row40_col0\" class=\"data row40 col0\" >Feature Ratio </td>\n",
       "                        <td id=\"T_0c068930_05ae_11eb_a61c_edc933979480row40_col1\" class=\"data row40 col1\" >False</td>\n",
       "            </tr>\n",
       "            <tr>\n",
       "                        <th id=\"T_0c068930_05ae_11eb_a61c_edc933979480level0_row41\" class=\"row_heading level0 row41\" >41</th>\n",
       "                        <td id=\"T_0c068930_05ae_11eb_a61c_edc933979480row41_col0\" class=\"data row41 col0\" >Interaction Threshold </td>\n",
       "                        <td id=\"T_0c068930_05ae_11eb_a61c_edc933979480row41_col1\" class=\"data row41 col1\" >None</td>\n",
       "            </tr>\n",
       "            <tr>\n",
       "                        <th id=\"T_0c068930_05ae_11eb_a61c_edc933979480level0_row42\" class=\"row_heading level0 row42\" >42</th>\n",
       "                        <td id=\"T_0c068930_05ae_11eb_a61c_edc933979480row42_col0\" class=\"data row42 col0\" >Fix Imbalance</td>\n",
       "                        <td id=\"T_0c068930_05ae_11eb_a61c_edc933979480row42_col1\" class=\"data row42 col1\" >False</td>\n",
       "            </tr>\n",
       "            <tr>\n",
       "                        <th id=\"T_0c068930_05ae_11eb_a61c_edc933979480level0_row43\" class=\"row_heading level0 row43\" >43</th>\n",
       "                        <td id=\"T_0c068930_05ae_11eb_a61c_edc933979480row43_col0\" class=\"data row43 col0\" >Fix Imbalance Method</td>\n",
       "                        <td id=\"T_0c068930_05ae_11eb_a61c_edc933979480row43_col1\" class=\"data row43 col1\" >SMOTE</td>\n",
       "            </tr>\n",
       "    </tbody></table>"
      ],
      "text/plain": [
       "<pandas.io.formats.style.Styler at 0x21245dda408>"
      ]
     },
     "metadata": {},
     "output_type": "display_data"
    }
   ],
   "source": [
    "##INICIALIZANDO O SETUP DE CLASSIFICAÇÃO\n",
    "\n",
    "from pycaret.classification import *\n",
    "clf1 = setup(data = df_pyc, target = 'evadiu')"
   ]
  },
  {
   "cell_type": "code",
   "execution_count": 35,
   "metadata": {},
   "outputs": [
    {
     "data": {
      "text/html": [
       "<style  type=\"text/css\" >\n",
       "    #T_c7085140_0442_11eb_8ceb_edc933979480 th {\n",
       "          text-align: left;\n",
       "    }    #T_c7085140_0442_11eb_8ceb_edc933979480row0_col0 {\n",
       "            text-align:  left;\n",
       "        }    #T_c7085140_0442_11eb_8ceb_edc933979480row0_col1 {\n",
       "            background-color:  yellow;\n",
       "            text-align:  left;\n",
       "        }    #T_c7085140_0442_11eb_8ceb_edc933979480row0_col2 {\n",
       "            : ;\n",
       "            text-align:  left;\n",
       "        }    #T_c7085140_0442_11eb_8ceb_edc933979480row0_col3 {\n",
       "            background-color:  yellow;\n",
       "            text-align:  left;\n",
       "        }    #T_c7085140_0442_11eb_8ceb_edc933979480row0_col4 {\n",
       "            background-color:  yellow;\n",
       "            text-align:  left;\n",
       "        }    #T_c7085140_0442_11eb_8ceb_edc933979480row0_col5 {\n",
       "            background-color:  yellow;\n",
       "            text-align:  left;\n",
       "        }    #T_c7085140_0442_11eb_8ceb_edc933979480row0_col6 {\n",
       "            background-color:  yellow;\n",
       "            text-align:  left;\n",
       "        }    #T_c7085140_0442_11eb_8ceb_edc933979480row0_col7 {\n",
       "            background-color:  yellow;\n",
       "            text-align:  left;\n",
       "        }    #T_c7085140_0442_11eb_8ceb_edc933979480row0_col8 {\n",
       "            background-color:  lightgrey;\n",
       "            text-align:  left;\n",
       "        }    #T_c7085140_0442_11eb_8ceb_edc933979480row1_col0 {\n",
       "            text-align:  left;\n",
       "        }    #T_c7085140_0442_11eb_8ceb_edc933979480row1_col1 {\n",
       "            : ;\n",
       "            text-align:  left;\n",
       "        }    #T_c7085140_0442_11eb_8ceb_edc933979480row1_col2 {\n",
       "            background-color:  yellow;\n",
       "            text-align:  left;\n",
       "        }    #T_c7085140_0442_11eb_8ceb_edc933979480row1_col3 {\n",
       "            background-color:  yellow;\n",
       "            text-align:  left;\n",
       "        }    #T_c7085140_0442_11eb_8ceb_edc933979480row1_col4 {\n",
       "            : ;\n",
       "            text-align:  left;\n",
       "        }    #T_c7085140_0442_11eb_8ceb_edc933979480row1_col5 {\n",
       "            : ;\n",
       "            text-align:  left;\n",
       "        }    #T_c7085140_0442_11eb_8ceb_edc933979480row1_col6 {\n",
       "            : ;\n",
       "            text-align:  left;\n",
       "        }    #T_c7085140_0442_11eb_8ceb_edc933979480row1_col7 {\n",
       "            : ;\n",
       "            text-align:  left;\n",
       "        }    #T_c7085140_0442_11eb_8ceb_edc933979480row1_col8 {\n",
       "            background-color:  lightgrey;\n",
       "            text-align:  left;\n",
       "        }    #T_c7085140_0442_11eb_8ceb_edc933979480row2_col0 {\n",
       "            text-align:  left;\n",
       "        }    #T_c7085140_0442_11eb_8ceb_edc933979480row2_col1 {\n",
       "            : ;\n",
       "            text-align:  left;\n",
       "        }    #T_c7085140_0442_11eb_8ceb_edc933979480row2_col2 {\n",
       "            : ;\n",
       "            text-align:  left;\n",
       "        }    #T_c7085140_0442_11eb_8ceb_edc933979480row2_col3 {\n",
       "            : ;\n",
       "            text-align:  left;\n",
       "        }    #T_c7085140_0442_11eb_8ceb_edc933979480row2_col4 {\n",
       "            : ;\n",
       "            text-align:  left;\n",
       "        }    #T_c7085140_0442_11eb_8ceb_edc933979480row2_col5 {\n",
       "            : ;\n",
       "            text-align:  left;\n",
       "        }    #T_c7085140_0442_11eb_8ceb_edc933979480row2_col6 {\n",
       "            : ;\n",
       "            text-align:  left;\n",
       "        }    #T_c7085140_0442_11eb_8ceb_edc933979480row2_col7 {\n",
       "            : ;\n",
       "            text-align:  left;\n",
       "        }    #T_c7085140_0442_11eb_8ceb_edc933979480row2_col8 {\n",
       "            background-color:  lightgrey;\n",
       "            text-align:  left;\n",
       "        }    #T_c7085140_0442_11eb_8ceb_edc933979480row3_col0 {\n",
       "            text-align:  left;\n",
       "        }    #T_c7085140_0442_11eb_8ceb_edc933979480row3_col1 {\n",
       "            : ;\n",
       "            text-align:  left;\n",
       "        }    #T_c7085140_0442_11eb_8ceb_edc933979480row3_col2 {\n",
       "            : ;\n",
       "            text-align:  left;\n",
       "        }    #T_c7085140_0442_11eb_8ceb_edc933979480row3_col3 {\n",
       "            : ;\n",
       "            text-align:  left;\n",
       "        }    #T_c7085140_0442_11eb_8ceb_edc933979480row3_col4 {\n",
       "            : ;\n",
       "            text-align:  left;\n",
       "        }    #T_c7085140_0442_11eb_8ceb_edc933979480row3_col5 {\n",
       "            : ;\n",
       "            text-align:  left;\n",
       "        }    #T_c7085140_0442_11eb_8ceb_edc933979480row3_col6 {\n",
       "            : ;\n",
       "            text-align:  left;\n",
       "        }    #T_c7085140_0442_11eb_8ceb_edc933979480row3_col7 {\n",
       "            : ;\n",
       "            text-align:  left;\n",
       "        }    #T_c7085140_0442_11eb_8ceb_edc933979480row3_col8 {\n",
       "            background-color:  lightgrey;\n",
       "            text-align:  left;\n",
       "        }    #T_c7085140_0442_11eb_8ceb_edc933979480row4_col0 {\n",
       "            text-align:  left;\n",
       "        }    #T_c7085140_0442_11eb_8ceb_edc933979480row4_col1 {\n",
       "            : ;\n",
       "            text-align:  left;\n",
       "        }    #T_c7085140_0442_11eb_8ceb_edc933979480row4_col2 {\n",
       "            : ;\n",
       "            text-align:  left;\n",
       "        }    #T_c7085140_0442_11eb_8ceb_edc933979480row4_col3 {\n",
       "            : ;\n",
       "            text-align:  left;\n",
       "        }    #T_c7085140_0442_11eb_8ceb_edc933979480row4_col4 {\n",
       "            : ;\n",
       "            text-align:  left;\n",
       "        }    #T_c7085140_0442_11eb_8ceb_edc933979480row4_col5 {\n",
       "            : ;\n",
       "            text-align:  left;\n",
       "        }    #T_c7085140_0442_11eb_8ceb_edc933979480row4_col6 {\n",
       "            : ;\n",
       "            text-align:  left;\n",
       "        }    #T_c7085140_0442_11eb_8ceb_edc933979480row4_col7 {\n",
       "            : ;\n",
       "            text-align:  left;\n",
       "        }    #T_c7085140_0442_11eb_8ceb_edc933979480row4_col8 {\n",
       "            background-color:  lightgrey;\n",
       "            text-align:  left;\n",
       "        }    #T_c7085140_0442_11eb_8ceb_edc933979480row5_col0 {\n",
       "            text-align:  left;\n",
       "        }    #T_c7085140_0442_11eb_8ceb_edc933979480row5_col1 {\n",
       "            : ;\n",
       "            text-align:  left;\n",
       "        }    #T_c7085140_0442_11eb_8ceb_edc933979480row5_col2 {\n",
       "            : ;\n",
       "            text-align:  left;\n",
       "        }    #T_c7085140_0442_11eb_8ceb_edc933979480row5_col3 {\n",
       "            : ;\n",
       "            text-align:  left;\n",
       "        }    #T_c7085140_0442_11eb_8ceb_edc933979480row5_col4 {\n",
       "            : ;\n",
       "            text-align:  left;\n",
       "        }    #T_c7085140_0442_11eb_8ceb_edc933979480row5_col5 {\n",
       "            : ;\n",
       "            text-align:  left;\n",
       "        }    #T_c7085140_0442_11eb_8ceb_edc933979480row5_col6 {\n",
       "            : ;\n",
       "            text-align:  left;\n",
       "        }    #T_c7085140_0442_11eb_8ceb_edc933979480row5_col7 {\n",
       "            : ;\n",
       "            text-align:  left;\n",
       "        }    #T_c7085140_0442_11eb_8ceb_edc933979480row5_col8 {\n",
       "            background-color:  lightgrey;\n",
       "            text-align:  left;\n",
       "        }    #T_c7085140_0442_11eb_8ceb_edc933979480row6_col0 {\n",
       "            text-align:  left;\n",
       "        }    #T_c7085140_0442_11eb_8ceb_edc933979480row6_col1 {\n",
       "            : ;\n",
       "            text-align:  left;\n",
       "        }    #T_c7085140_0442_11eb_8ceb_edc933979480row6_col2 {\n",
       "            : ;\n",
       "            text-align:  left;\n",
       "        }    #T_c7085140_0442_11eb_8ceb_edc933979480row6_col3 {\n",
       "            : ;\n",
       "            text-align:  left;\n",
       "        }    #T_c7085140_0442_11eb_8ceb_edc933979480row6_col4 {\n",
       "            : ;\n",
       "            text-align:  left;\n",
       "        }    #T_c7085140_0442_11eb_8ceb_edc933979480row6_col5 {\n",
       "            : ;\n",
       "            text-align:  left;\n",
       "        }    #T_c7085140_0442_11eb_8ceb_edc933979480row6_col6 {\n",
       "            : ;\n",
       "            text-align:  left;\n",
       "        }    #T_c7085140_0442_11eb_8ceb_edc933979480row6_col7 {\n",
       "            : ;\n",
       "            text-align:  left;\n",
       "        }    #T_c7085140_0442_11eb_8ceb_edc933979480row6_col8 {\n",
       "            background-color:  lightgrey;\n",
       "            text-align:  left;\n",
       "        }    #T_c7085140_0442_11eb_8ceb_edc933979480row7_col0 {\n",
       "            text-align:  left;\n",
       "        }    #T_c7085140_0442_11eb_8ceb_edc933979480row7_col1 {\n",
       "            : ;\n",
       "            text-align:  left;\n",
       "        }    #T_c7085140_0442_11eb_8ceb_edc933979480row7_col2 {\n",
       "            : ;\n",
       "            text-align:  left;\n",
       "        }    #T_c7085140_0442_11eb_8ceb_edc933979480row7_col3 {\n",
       "            : ;\n",
       "            text-align:  left;\n",
       "        }    #T_c7085140_0442_11eb_8ceb_edc933979480row7_col4 {\n",
       "            : ;\n",
       "            text-align:  left;\n",
       "        }    #T_c7085140_0442_11eb_8ceb_edc933979480row7_col5 {\n",
       "            : ;\n",
       "            text-align:  left;\n",
       "        }    #T_c7085140_0442_11eb_8ceb_edc933979480row7_col6 {\n",
       "            : ;\n",
       "            text-align:  left;\n",
       "        }    #T_c7085140_0442_11eb_8ceb_edc933979480row7_col7 {\n",
       "            : ;\n",
       "            text-align:  left;\n",
       "        }    #T_c7085140_0442_11eb_8ceb_edc933979480row7_col8 {\n",
       "            background-color:  lightgrey;\n",
       "            text-align:  left;\n",
       "        }    #T_c7085140_0442_11eb_8ceb_edc933979480row8_col0 {\n",
       "            text-align:  left;\n",
       "        }    #T_c7085140_0442_11eb_8ceb_edc933979480row8_col1 {\n",
       "            : ;\n",
       "            text-align:  left;\n",
       "        }    #T_c7085140_0442_11eb_8ceb_edc933979480row8_col2 {\n",
       "            : ;\n",
       "            text-align:  left;\n",
       "        }    #T_c7085140_0442_11eb_8ceb_edc933979480row8_col3 {\n",
       "            : ;\n",
       "            text-align:  left;\n",
       "        }    #T_c7085140_0442_11eb_8ceb_edc933979480row8_col4 {\n",
       "            : ;\n",
       "            text-align:  left;\n",
       "        }    #T_c7085140_0442_11eb_8ceb_edc933979480row8_col5 {\n",
       "            : ;\n",
       "            text-align:  left;\n",
       "        }    #T_c7085140_0442_11eb_8ceb_edc933979480row8_col6 {\n",
       "            : ;\n",
       "            text-align:  left;\n",
       "        }    #T_c7085140_0442_11eb_8ceb_edc933979480row8_col7 {\n",
       "            : ;\n",
       "            text-align:  left;\n",
       "        }    #T_c7085140_0442_11eb_8ceb_edc933979480row8_col8 {\n",
       "            background-color:  lightgrey;\n",
       "            text-align:  left;\n",
       "        }    #T_c7085140_0442_11eb_8ceb_edc933979480row9_col0 {\n",
       "            text-align:  left;\n",
       "        }    #T_c7085140_0442_11eb_8ceb_edc933979480row9_col1 {\n",
       "            : ;\n",
       "            text-align:  left;\n",
       "        }    #T_c7085140_0442_11eb_8ceb_edc933979480row9_col2 {\n",
       "            : ;\n",
       "            text-align:  left;\n",
       "        }    #T_c7085140_0442_11eb_8ceb_edc933979480row9_col3 {\n",
       "            : ;\n",
       "            text-align:  left;\n",
       "        }    #T_c7085140_0442_11eb_8ceb_edc933979480row9_col4 {\n",
       "            : ;\n",
       "            text-align:  left;\n",
       "        }    #T_c7085140_0442_11eb_8ceb_edc933979480row9_col5 {\n",
       "            : ;\n",
       "            text-align:  left;\n",
       "        }    #T_c7085140_0442_11eb_8ceb_edc933979480row9_col6 {\n",
       "            : ;\n",
       "            text-align:  left;\n",
       "        }    #T_c7085140_0442_11eb_8ceb_edc933979480row9_col7 {\n",
       "            : ;\n",
       "            text-align:  left;\n",
       "        }    #T_c7085140_0442_11eb_8ceb_edc933979480row9_col8 {\n",
       "            background-color:  lightgrey;\n",
       "            text-align:  left;\n",
       "        }    #T_c7085140_0442_11eb_8ceb_edc933979480row10_col0 {\n",
       "            text-align:  left;\n",
       "        }    #T_c7085140_0442_11eb_8ceb_edc933979480row10_col1 {\n",
       "            : ;\n",
       "            text-align:  left;\n",
       "        }    #T_c7085140_0442_11eb_8ceb_edc933979480row10_col2 {\n",
       "            : ;\n",
       "            text-align:  left;\n",
       "        }    #T_c7085140_0442_11eb_8ceb_edc933979480row10_col3 {\n",
       "            : ;\n",
       "            text-align:  left;\n",
       "        }    #T_c7085140_0442_11eb_8ceb_edc933979480row10_col4 {\n",
       "            : ;\n",
       "            text-align:  left;\n",
       "        }    #T_c7085140_0442_11eb_8ceb_edc933979480row10_col5 {\n",
       "            : ;\n",
       "            text-align:  left;\n",
       "        }    #T_c7085140_0442_11eb_8ceb_edc933979480row10_col6 {\n",
       "            : ;\n",
       "            text-align:  left;\n",
       "        }    #T_c7085140_0442_11eb_8ceb_edc933979480row10_col7 {\n",
       "            : ;\n",
       "            text-align:  left;\n",
       "        }    #T_c7085140_0442_11eb_8ceb_edc933979480row10_col8 {\n",
       "            background-color:  lightgrey;\n",
       "            text-align:  left;\n",
       "        }    #T_c7085140_0442_11eb_8ceb_edc933979480row11_col0 {\n",
       "            text-align:  left;\n",
       "        }    #T_c7085140_0442_11eb_8ceb_edc933979480row11_col1 {\n",
       "            : ;\n",
       "            text-align:  left;\n",
       "        }    #T_c7085140_0442_11eb_8ceb_edc933979480row11_col2 {\n",
       "            : ;\n",
       "            text-align:  left;\n",
       "        }    #T_c7085140_0442_11eb_8ceb_edc933979480row11_col3 {\n",
       "            : ;\n",
       "            text-align:  left;\n",
       "        }    #T_c7085140_0442_11eb_8ceb_edc933979480row11_col4 {\n",
       "            : ;\n",
       "            text-align:  left;\n",
       "        }    #T_c7085140_0442_11eb_8ceb_edc933979480row11_col5 {\n",
       "            : ;\n",
       "            text-align:  left;\n",
       "        }    #T_c7085140_0442_11eb_8ceb_edc933979480row11_col6 {\n",
       "            : ;\n",
       "            text-align:  left;\n",
       "        }    #T_c7085140_0442_11eb_8ceb_edc933979480row11_col7 {\n",
       "            : ;\n",
       "            text-align:  left;\n",
       "        }    #T_c7085140_0442_11eb_8ceb_edc933979480row11_col8 {\n",
       "            background-color:  lightgrey;\n",
       "            text-align:  left;\n",
       "        }    #T_c7085140_0442_11eb_8ceb_edc933979480row12_col0 {\n",
       "            text-align:  left;\n",
       "        }    #T_c7085140_0442_11eb_8ceb_edc933979480row12_col1 {\n",
       "            : ;\n",
       "            text-align:  left;\n",
       "        }    #T_c7085140_0442_11eb_8ceb_edc933979480row12_col2 {\n",
       "            : ;\n",
       "            text-align:  left;\n",
       "        }    #T_c7085140_0442_11eb_8ceb_edc933979480row12_col3 {\n",
       "            : ;\n",
       "            text-align:  left;\n",
       "        }    #T_c7085140_0442_11eb_8ceb_edc933979480row12_col4 {\n",
       "            : ;\n",
       "            text-align:  left;\n",
       "        }    #T_c7085140_0442_11eb_8ceb_edc933979480row12_col5 {\n",
       "            : ;\n",
       "            text-align:  left;\n",
       "        }    #T_c7085140_0442_11eb_8ceb_edc933979480row12_col6 {\n",
       "            : ;\n",
       "            text-align:  left;\n",
       "        }    #T_c7085140_0442_11eb_8ceb_edc933979480row12_col7 {\n",
       "            : ;\n",
       "            text-align:  left;\n",
       "        }    #T_c7085140_0442_11eb_8ceb_edc933979480row12_col8 {\n",
       "            background-color:  lightgrey;\n",
       "            text-align:  left;\n",
       "        }    #T_c7085140_0442_11eb_8ceb_edc933979480row13_col0 {\n",
       "            text-align:  left;\n",
       "        }    #T_c7085140_0442_11eb_8ceb_edc933979480row13_col1 {\n",
       "            : ;\n",
       "            text-align:  left;\n",
       "        }    #T_c7085140_0442_11eb_8ceb_edc933979480row13_col2 {\n",
       "            : ;\n",
       "            text-align:  left;\n",
       "        }    #T_c7085140_0442_11eb_8ceb_edc933979480row13_col3 {\n",
       "            : ;\n",
       "            text-align:  left;\n",
       "        }    #T_c7085140_0442_11eb_8ceb_edc933979480row13_col4 {\n",
       "            : ;\n",
       "            text-align:  left;\n",
       "        }    #T_c7085140_0442_11eb_8ceb_edc933979480row13_col5 {\n",
       "            : ;\n",
       "            text-align:  left;\n",
       "        }    #T_c7085140_0442_11eb_8ceb_edc933979480row13_col6 {\n",
       "            : ;\n",
       "            text-align:  left;\n",
       "        }    #T_c7085140_0442_11eb_8ceb_edc933979480row13_col7 {\n",
       "            : ;\n",
       "            text-align:  left;\n",
       "        }    #T_c7085140_0442_11eb_8ceb_edc933979480row13_col8 {\n",
       "            background-color:  lightgrey;\n",
       "            text-align:  left;\n",
       "        }    #T_c7085140_0442_11eb_8ceb_edc933979480row14_col0 {\n",
       "            text-align:  left;\n",
       "        }    #T_c7085140_0442_11eb_8ceb_edc933979480row14_col1 {\n",
       "            : ;\n",
       "            text-align:  left;\n",
       "        }    #T_c7085140_0442_11eb_8ceb_edc933979480row14_col2 {\n",
       "            : ;\n",
       "            text-align:  left;\n",
       "        }    #T_c7085140_0442_11eb_8ceb_edc933979480row14_col3 {\n",
       "            : ;\n",
       "            text-align:  left;\n",
       "        }    #T_c7085140_0442_11eb_8ceb_edc933979480row14_col4 {\n",
       "            : ;\n",
       "            text-align:  left;\n",
       "        }    #T_c7085140_0442_11eb_8ceb_edc933979480row14_col5 {\n",
       "            : ;\n",
       "            text-align:  left;\n",
       "        }    #T_c7085140_0442_11eb_8ceb_edc933979480row14_col6 {\n",
       "            : ;\n",
       "            text-align:  left;\n",
       "        }    #T_c7085140_0442_11eb_8ceb_edc933979480row14_col7 {\n",
       "            : ;\n",
       "            text-align:  left;\n",
       "        }    #T_c7085140_0442_11eb_8ceb_edc933979480row14_col8 {\n",
       "            background-color:  lightgrey;\n",
       "            text-align:  left;\n",
       "        }</style><table id=\"T_c7085140_0442_11eb_8ceb_edc933979480\" ><thead>    <tr>        <th class=\"blank level0\" ></th>        <th class=\"col_heading level0 col0\" >Model</th>        <th class=\"col_heading level0 col1\" >Accuracy</th>        <th class=\"col_heading level0 col2\" >AUC</th>        <th class=\"col_heading level0 col3\" >Recall</th>        <th class=\"col_heading level0 col4\" >Prec.</th>        <th class=\"col_heading level0 col5\" >F1</th>        <th class=\"col_heading level0 col6\" >Kappa</th>        <th class=\"col_heading level0 col7\" >MCC</th>        <th class=\"col_heading level0 col8\" >TT (Sec)</th>    </tr></thead><tbody>\n",
       "                <tr>\n",
       "                        <th id=\"T_c7085140_0442_11eb_8ceb_edc933979480level0_row0\" class=\"row_heading level0 row0\" >0</th>\n",
       "                        <td id=\"T_c7085140_0442_11eb_8ceb_edc933979480row0_col0\" class=\"data row0 col0\" >Light Gradient Boosting Machine</td>\n",
       "                        <td id=\"T_c7085140_0442_11eb_8ceb_edc933979480row0_col1\" class=\"data row0 col1\" >0.8957</td>\n",
       "                        <td id=\"T_c7085140_0442_11eb_8ceb_edc933979480row0_col2\" class=\"data row0 col2\" >0.9581</td>\n",
       "                        <td id=\"T_c7085140_0442_11eb_8ceb_edc933979480row0_col3\" class=\"data row0 col3\" >0.9229</td>\n",
       "                        <td id=\"T_c7085140_0442_11eb_8ceb_edc933979480row0_col4\" class=\"data row0 col4\" >0.8755</td>\n",
       "                        <td id=\"T_c7085140_0442_11eb_8ceb_edc933979480row0_col5\" class=\"data row0 col5\" >0.8985</td>\n",
       "                        <td id=\"T_c7085140_0442_11eb_8ceb_edc933979480row0_col6\" class=\"data row0 col6\" >0.7915</td>\n",
       "                        <td id=\"T_c7085140_0442_11eb_8ceb_edc933979480row0_col7\" class=\"data row0 col7\" >0.7928</td>\n",
       "                        <td id=\"T_c7085140_0442_11eb_8ceb_edc933979480row0_col8\" class=\"data row0 col8\" >0.2424</td>\n",
       "            </tr>\n",
       "            <tr>\n",
       "                        <th id=\"T_c7085140_0442_11eb_8ceb_edc933979480level0_row1\" class=\"row_heading level0 row1\" >1</th>\n",
       "                        <td id=\"T_c7085140_0442_11eb_8ceb_edc933979480row1_col0\" class=\"data row1 col0\" >CatBoost Classifier</td>\n",
       "                        <td id=\"T_c7085140_0442_11eb_8ceb_edc933979480row1_col1\" class=\"data row1 col1\" >0.8925</td>\n",
       "                        <td id=\"T_c7085140_0442_11eb_8ceb_edc933979480row1_col2\" class=\"data row1 col2\" >0.9588</td>\n",
       "                        <td id=\"T_c7085140_0442_11eb_8ceb_edc933979480row1_col3\" class=\"data row1 col3\" >0.9229</td>\n",
       "                        <td id=\"T_c7085140_0442_11eb_8ceb_edc933979480row1_col4\" class=\"data row1 col4\" >0.8704</td>\n",
       "                        <td id=\"T_c7085140_0442_11eb_8ceb_edc933979480row1_col5\" class=\"data row1 col5\" >0.8957</td>\n",
       "                        <td id=\"T_c7085140_0442_11eb_8ceb_edc933979480row1_col6\" class=\"data row1 col6\" >0.7849</td>\n",
       "                        <td id=\"T_c7085140_0442_11eb_8ceb_edc933979480row1_col7\" class=\"data row1 col7\" >0.7868</td>\n",
       "                        <td id=\"T_c7085140_0442_11eb_8ceb_edc933979480row1_col8\" class=\"data row1 col8\" >6.9654</td>\n",
       "            </tr>\n",
       "            <tr>\n",
       "                        <th id=\"T_c7085140_0442_11eb_8ceb_edc933979480level0_row2\" class=\"row_heading level0 row2\" >2</th>\n",
       "                        <td id=\"T_c7085140_0442_11eb_8ceb_edc933979480row2_col0\" class=\"data row2 col0\" >Random Forest Classifier</td>\n",
       "                        <td id=\"T_c7085140_0442_11eb_8ceb_edc933979480row2_col1\" class=\"data row2 col1\" >0.8846</td>\n",
       "                        <td id=\"T_c7085140_0442_11eb_8ceb_edc933979480row2_col2\" class=\"data row2 col2\" >0.9463</td>\n",
       "                        <td id=\"T_c7085140_0442_11eb_8ceb_edc933979480row2_col3\" class=\"data row2 col3\" >0.8994</td>\n",
       "                        <td id=\"T_c7085140_0442_11eb_8ceb_edc933979480row2_col4\" class=\"data row2 col4\" >0.8737</td>\n",
       "                        <td id=\"T_c7085140_0442_11eb_8ceb_edc933979480row2_col5\" class=\"data row2 col5\" >0.8862</td>\n",
       "                        <td id=\"T_c7085140_0442_11eb_8ceb_edc933979480row2_col6\" class=\"data row2 col6\" >0.7691</td>\n",
       "                        <td id=\"T_c7085140_0442_11eb_8ceb_edc933979480row2_col7\" class=\"data row2 col7\" >0.7698</td>\n",
       "                        <td id=\"T_c7085140_0442_11eb_8ceb_edc933979480row2_col8\" class=\"data row2 col8\" >0.1238</td>\n",
       "            </tr>\n",
       "            <tr>\n",
       "                        <th id=\"T_c7085140_0442_11eb_8ceb_edc933979480level0_row3\" class=\"row_heading level0 row3\" >3</th>\n",
       "                        <td id=\"T_c7085140_0442_11eb_8ceb_edc933979480row3_col0\" class=\"data row3 col0\" >Decision Tree Classifier</td>\n",
       "                        <td id=\"T_c7085140_0442_11eb_8ceb_edc933979480row3_col1\" class=\"data row3 col1\" >0.8826</td>\n",
       "                        <td id=\"T_c7085140_0442_11eb_8ceb_edc933979480row3_col2\" class=\"data row3 col2\" >0.8831</td>\n",
       "                        <td id=\"T_c7085140_0442_11eb_8ceb_edc933979480row3_col3\" class=\"data row3 col3\" >0.8982</td>\n",
       "                        <td id=\"T_c7085140_0442_11eb_8ceb_edc933979480row3_col4\" class=\"data row3 col4\" >0.8712</td>\n",
       "                        <td id=\"T_c7085140_0442_11eb_8ceb_edc933979480row3_col5\" class=\"data row3 col5\" >0.8844</td>\n",
       "                        <td id=\"T_c7085140_0442_11eb_8ceb_edc933979480row3_col6\" class=\"data row3 col6\" >0.7653</td>\n",
       "                        <td id=\"T_c7085140_0442_11eb_8ceb_edc933979480row3_col7\" class=\"data row3 col7\" >0.7658</td>\n",
       "                        <td id=\"T_c7085140_0442_11eb_8ceb_edc933979480row3_col8\" class=\"data row3 col8\" >0.0290</td>\n",
       "            </tr>\n",
       "            <tr>\n",
       "                        <th id=\"T_c7085140_0442_11eb_8ceb_edc933979480level0_row4\" class=\"row_heading level0 row4\" >4</th>\n",
       "                        <td id=\"T_c7085140_0442_11eb_8ceb_edc933979480row4_col0\" class=\"data row4 col0\" >Extra Trees Classifier</td>\n",
       "                        <td id=\"T_c7085140_0442_11eb_8ceb_edc933979480row4_col1\" class=\"data row4 col1\" >0.8824</td>\n",
       "                        <td id=\"T_c7085140_0442_11eb_8ceb_edc933979480row4_col2\" class=\"data row4 col2\" >0.9481</td>\n",
       "                        <td id=\"T_c7085140_0442_11eb_8ceb_edc933979480row4_col3\" class=\"data row4 col3\" >0.9083</td>\n",
       "                        <td id=\"T_c7085140_0442_11eb_8ceb_edc933979480row4_col4\" class=\"data row4 col4\" >0.8638</td>\n",
       "                        <td id=\"T_c7085140_0442_11eb_8ceb_edc933979480row4_col5\" class=\"data row4 col5\" >0.8853</td>\n",
       "                        <td id=\"T_c7085140_0442_11eb_8ceb_edc933979480row4_col6\" class=\"data row4 col6\" >0.7649</td>\n",
       "                        <td id=\"T_c7085140_0442_11eb_8ceb_edc933979480row4_col7\" class=\"data row4 col7\" >0.7663</td>\n",
       "                        <td id=\"T_c7085140_0442_11eb_8ceb_edc933979480row4_col8\" class=\"data row4 col8\" >0.5443</td>\n",
       "            </tr>\n",
       "            <tr>\n",
       "                        <th id=\"T_c7085140_0442_11eb_8ceb_edc933979480level0_row5\" class=\"row_heading level0 row5\" >5</th>\n",
       "                        <td id=\"T_c7085140_0442_11eb_8ceb_edc933979480row5_col0\" class=\"data row5 col0\" >Gradient Boosting Classifier</td>\n",
       "                        <td id=\"T_c7085140_0442_11eb_8ceb_edc933979480row5_col1\" class=\"data row5 col1\" >0.8738</td>\n",
       "                        <td id=\"T_c7085140_0442_11eb_8ceb_edc933979480row5_col2\" class=\"data row5 col2\" >0.9406</td>\n",
       "                        <td id=\"T_c7085140_0442_11eb_8ceb_edc933979480row5_col3\" class=\"data row5 col3\" >0.9044</td>\n",
       "                        <td id=\"T_c7085140_0442_11eb_8ceb_edc933979480row5_col4\" class=\"data row5 col4\" >0.8525</td>\n",
       "                        <td id=\"T_c7085140_0442_11eb_8ceb_edc933979480row5_col5\" class=\"data row5 col5\" >0.8775</td>\n",
       "                        <td id=\"T_c7085140_0442_11eb_8ceb_edc933979480row5_col6\" class=\"data row5 col6\" >0.7475</td>\n",
       "                        <td id=\"T_c7085140_0442_11eb_8ceb_edc933979480row5_col7\" class=\"data row5 col7\" >0.7492</td>\n",
       "                        <td id=\"T_c7085140_0442_11eb_8ceb_edc933979480row5_col8\" class=\"data row5 col8\" >0.8254</td>\n",
       "            </tr>\n",
       "            <tr>\n",
       "                        <th id=\"T_c7085140_0442_11eb_8ceb_edc933979480level0_row6\" class=\"row_heading level0 row6\" >6</th>\n",
       "                        <td id=\"T_c7085140_0442_11eb_8ceb_edc933979480row6_col0\" class=\"data row6 col0\" >Extreme Gradient Boosting</td>\n",
       "                        <td id=\"T_c7085140_0442_11eb_8ceb_edc933979480row6_col1\" class=\"data row6 col1\" >0.8717</td>\n",
       "                        <td id=\"T_c7085140_0442_11eb_8ceb_edc933979480row6_col2\" class=\"data row6 col2\" >0.9369</td>\n",
       "                        <td id=\"T_c7085140_0442_11eb_8ceb_edc933979480row6_col3\" class=\"data row6 col3\" >0.9048</td>\n",
       "                        <td id=\"T_c7085140_0442_11eb_8ceb_edc933979480row6_col4\" class=\"data row6 col4\" >0.8488</td>\n",
       "                        <td id=\"T_c7085140_0442_11eb_8ceb_edc933979480row6_col5\" class=\"data row6 col5\" >0.8758</td>\n",
       "                        <td id=\"T_c7085140_0442_11eb_8ceb_edc933979480row6_col6\" class=\"data row6 col6\" >0.7433</td>\n",
       "                        <td id=\"T_c7085140_0442_11eb_8ceb_edc933979480row6_col7\" class=\"data row6 col7\" >0.7452</td>\n",
       "                        <td id=\"T_c7085140_0442_11eb_8ceb_edc933979480row6_col8\" class=\"data row6 col8\" >0.4580</td>\n",
       "            </tr>\n",
       "            <tr>\n",
       "                        <th id=\"T_c7085140_0442_11eb_8ceb_edc933979480level0_row7\" class=\"row_heading level0 row7\" >7</th>\n",
       "                        <td id=\"T_c7085140_0442_11eb_8ceb_edc933979480row7_col0\" class=\"data row7 col0\" >Ada Boost Classifier</td>\n",
       "                        <td id=\"T_c7085140_0442_11eb_8ceb_edc933979480row7_col1\" class=\"data row7 col1\" >0.8618</td>\n",
       "                        <td id=\"T_c7085140_0442_11eb_8ceb_edc933979480row7_col2\" class=\"data row7 col2\" >0.9295</td>\n",
       "                        <td id=\"T_c7085140_0442_11eb_8ceb_edc933979480row7_col3\" class=\"data row7 col3\" >0.8867</td>\n",
       "                        <td id=\"T_c7085140_0442_11eb_8ceb_edc933979480row7_col4\" class=\"data row7 col4\" >0.8450</td>\n",
       "                        <td id=\"T_c7085140_0442_11eb_8ceb_edc933979480row7_col5\" class=\"data row7 col5\" >0.8651</td>\n",
       "                        <td id=\"T_c7085140_0442_11eb_8ceb_edc933979480row7_col6\" class=\"data row7 col6\" >0.7236</td>\n",
       "                        <td id=\"T_c7085140_0442_11eb_8ceb_edc933979480row7_col7\" class=\"data row7 col7\" >0.7249</td>\n",
       "                        <td id=\"T_c7085140_0442_11eb_8ceb_edc933979480row7_col8\" class=\"data row7 col8\" >0.3774</td>\n",
       "            </tr>\n",
       "            <tr>\n",
       "                        <th id=\"T_c7085140_0442_11eb_8ceb_edc933979480level0_row8\" class=\"row_heading level0 row8\" >8</th>\n",
       "                        <td id=\"T_c7085140_0442_11eb_8ceb_edc933979480row8_col0\" class=\"data row8 col0\" >Ridge Classifier</td>\n",
       "                        <td id=\"T_c7085140_0442_11eb_8ceb_edc933979480row8_col1\" class=\"data row8 col1\" >0.8478</td>\n",
       "                        <td id=\"T_c7085140_0442_11eb_8ceb_edc933979480row8_col2\" class=\"data row8 col2\" >0.0000</td>\n",
       "                        <td id=\"T_c7085140_0442_11eb_8ceb_edc933979480row8_col3\" class=\"data row8 col3\" >0.8874</td>\n",
       "                        <td id=\"T_c7085140_0442_11eb_8ceb_edc933979480row8_col4\" class=\"data row8 col4\" >0.8224</td>\n",
       "                        <td id=\"T_c7085140_0442_11eb_8ceb_edc933979480row8_col5\" class=\"data row8 col5\" >0.8536</td>\n",
       "                        <td id=\"T_c7085140_0442_11eb_8ceb_edc933979480row8_col6\" class=\"data row8 col6\" >0.6955</td>\n",
       "                        <td id=\"T_c7085140_0442_11eb_8ceb_edc933979480row8_col7\" class=\"data row8 col7\" >0.6980</td>\n",
       "                        <td id=\"T_c7085140_0442_11eb_8ceb_edc933979480row8_col8\" class=\"data row8 col8\" >0.0148</td>\n",
       "            </tr>\n",
       "            <tr>\n",
       "                        <th id=\"T_c7085140_0442_11eb_8ceb_edc933979480level0_row9\" class=\"row_heading level0 row9\" >9</th>\n",
       "                        <td id=\"T_c7085140_0442_11eb_8ceb_edc933979480row9_col0\" class=\"data row9 col0\" >Linear Discriminant Analysis</td>\n",
       "                        <td id=\"T_c7085140_0442_11eb_8ceb_edc933979480row9_col1\" class=\"data row9 col1\" >0.8478</td>\n",
       "                        <td id=\"T_c7085140_0442_11eb_8ceb_edc933979480row9_col2\" class=\"data row9 col2\" >0.9145</td>\n",
       "                        <td id=\"T_c7085140_0442_11eb_8ceb_edc933979480row9_col3\" class=\"data row9 col3\" >0.8874</td>\n",
       "                        <td id=\"T_c7085140_0442_11eb_8ceb_edc933979480row9_col4\" class=\"data row9 col4\" >0.8224</td>\n",
       "                        <td id=\"T_c7085140_0442_11eb_8ceb_edc933979480row9_col5\" class=\"data row9 col5\" >0.8536</td>\n",
       "                        <td id=\"T_c7085140_0442_11eb_8ceb_edc933979480row9_col6\" class=\"data row9 col6\" >0.6955</td>\n",
       "                        <td id=\"T_c7085140_0442_11eb_8ceb_edc933979480row9_col7\" class=\"data row9 col7\" >0.6980</td>\n",
       "                        <td id=\"T_c7085140_0442_11eb_8ceb_edc933979480row9_col8\" class=\"data row9 col8\" >0.0259</td>\n",
       "            </tr>\n",
       "            <tr>\n",
       "                        <th id=\"T_c7085140_0442_11eb_8ceb_edc933979480level0_row10\" class=\"row_heading level0 row10\" >10</th>\n",
       "                        <td id=\"T_c7085140_0442_11eb_8ceb_edc933979480row10_col0\" class=\"data row10 col0\" >Naive Bayes</td>\n",
       "                        <td id=\"T_c7085140_0442_11eb_8ceb_edc933979480row10_col1\" class=\"data row10 col1\" >0.8439</td>\n",
       "                        <td id=\"T_c7085140_0442_11eb_8ceb_edc933979480row10_col2\" class=\"data row10 col2\" >0.8995</td>\n",
       "                        <td id=\"T_c7085140_0442_11eb_8ceb_edc933979480row10_col3\" class=\"data row10 col3\" >0.8581</td>\n",
       "                        <td id=\"T_c7085140_0442_11eb_8ceb_edc933979480row10_col4\" class=\"data row10 col4\" >0.8346</td>\n",
       "                        <td id=\"T_c7085140_0442_11eb_8ceb_edc933979480row10_col5\" class=\"data row10 col5\" >0.8461</td>\n",
       "                        <td id=\"T_c7085140_0442_11eb_8ceb_edc933979480row10_col6\" class=\"data row10 col6\" >0.6878</td>\n",
       "                        <td id=\"T_c7085140_0442_11eb_8ceb_edc933979480row10_col7\" class=\"data row10 col7\" >0.6883</td>\n",
       "                        <td id=\"T_c7085140_0442_11eb_8ceb_edc933979480row10_col8\" class=\"data row10 col8\" >0.0084</td>\n",
       "            </tr>\n",
       "            <tr>\n",
       "                        <th id=\"T_c7085140_0442_11eb_8ceb_edc933979480level0_row11\" class=\"row_heading level0 row11\" >11</th>\n",
       "                        <td id=\"T_c7085140_0442_11eb_8ceb_edc933979480row11_col0\" class=\"data row11 col0\" >K Neighbors Classifier</td>\n",
       "                        <td id=\"T_c7085140_0442_11eb_8ceb_edc933979480row11_col1\" class=\"data row11 col1\" >0.7468</td>\n",
       "                        <td id=\"T_c7085140_0442_11eb_8ceb_edc933979480row11_col2\" class=\"data row11 col2\" >0.8247</td>\n",
       "                        <td id=\"T_c7085140_0442_11eb_8ceb_edc933979480row11_col3\" class=\"data row11 col3\" >0.7853</td>\n",
       "                        <td id=\"T_c7085140_0442_11eb_8ceb_edc933979480row11_col4\" class=\"data row11 col4\" >0.7296</td>\n",
       "                        <td id=\"T_c7085140_0442_11eb_8ceb_edc933979480row11_col5\" class=\"data row11 col5\" >0.7562</td>\n",
       "                        <td id=\"T_c7085140_0442_11eb_8ceb_edc933979480row11_col6\" class=\"data row11 col6\" >0.4935</td>\n",
       "                        <td id=\"T_c7085140_0442_11eb_8ceb_edc933979480row11_col7\" class=\"data row11 col7\" >0.4954</td>\n",
       "                        <td id=\"T_c7085140_0442_11eb_8ceb_edc933979480row11_col8\" class=\"data row11 col8\" >0.0572</td>\n",
       "            </tr>\n",
       "            <tr>\n",
       "                        <th id=\"T_c7085140_0442_11eb_8ceb_edc933979480level0_row12\" class=\"row_heading level0 row12\" >12</th>\n",
       "                        <td id=\"T_c7085140_0442_11eb_8ceb_edc933979480row12_col0\" class=\"data row12 col0\" >Logistic Regression</td>\n",
       "                        <td id=\"T_c7085140_0442_11eb_8ceb_edc933979480row12_col1\" class=\"data row12 col1\" >0.7360</td>\n",
       "                        <td id=\"T_c7085140_0442_11eb_8ceb_edc933979480row12_col2\" class=\"data row12 col2\" >0.7930</td>\n",
       "                        <td id=\"T_c7085140_0442_11eb_8ceb_edc933979480row12_col3\" class=\"data row12 col3\" >0.7617</td>\n",
       "                        <td id=\"T_c7085140_0442_11eb_8ceb_edc933979480row12_col4\" class=\"data row12 col4\" >0.7236</td>\n",
       "                        <td id=\"T_c7085140_0442_11eb_8ceb_edc933979480row12_col5\" class=\"data row12 col5\" >0.7421</td>\n",
       "                        <td id=\"T_c7085140_0442_11eb_8ceb_edc933979480row12_col6\" class=\"data row12 col6\" >0.4719</td>\n",
       "                        <td id=\"T_c7085140_0442_11eb_8ceb_edc933979480row12_col7\" class=\"data row12 col7\" >0.4727</td>\n",
       "                        <td id=\"T_c7085140_0442_11eb_8ceb_edc933979480row12_col8\" class=\"data row12 col8\" >0.0655</td>\n",
       "            </tr>\n",
       "            <tr>\n",
       "                        <th id=\"T_c7085140_0442_11eb_8ceb_edc933979480level0_row13\" class=\"row_heading level0 row13\" >13</th>\n",
       "                        <td id=\"T_c7085140_0442_11eb_8ceb_edc933979480row13_col0\" class=\"data row13 col0\" >Quadratic Discriminant Analysis</td>\n",
       "                        <td id=\"T_c7085140_0442_11eb_8ceb_edc933979480row13_col1\" class=\"data row13 col1\" >0.5001</td>\n",
       "                        <td id=\"T_c7085140_0442_11eb_8ceb_edc933979480row13_col2\" class=\"data row13 col2\" >0.0000</td>\n",
       "                        <td id=\"T_c7085140_0442_11eb_8ceb_edc933979480row13_col3\" class=\"data row13 col3\" >0.0000</td>\n",
       "                        <td id=\"T_c7085140_0442_11eb_8ceb_edc933979480row13_col4\" class=\"data row13 col4\" >0.0000</td>\n",
       "                        <td id=\"T_c7085140_0442_11eb_8ceb_edc933979480row13_col5\" class=\"data row13 col5\" >0.0000</td>\n",
       "                        <td id=\"T_c7085140_0442_11eb_8ceb_edc933979480row13_col6\" class=\"data row13 col6\" >0.0000</td>\n",
       "                        <td id=\"T_c7085140_0442_11eb_8ceb_edc933979480row13_col7\" class=\"data row13 col7\" >0.0000</td>\n",
       "                        <td id=\"T_c7085140_0442_11eb_8ceb_edc933979480row13_col8\" class=\"data row13 col8\" >0.0124</td>\n",
       "            </tr>\n",
       "            <tr>\n",
       "                        <th id=\"T_c7085140_0442_11eb_8ceb_edc933979480level0_row14\" class=\"row_heading level0 row14\" >14</th>\n",
       "                        <td id=\"T_c7085140_0442_11eb_8ceb_edc933979480row14_col0\" class=\"data row14 col0\" >SVM - Linear Kernel</td>\n",
       "                        <td id=\"T_c7085140_0442_11eb_8ceb_edc933979480row14_col1\" class=\"data row14 col1\" >0.4999</td>\n",
       "                        <td id=\"T_c7085140_0442_11eb_8ceb_edc933979480row14_col2\" class=\"data row14 col2\" >0.0000</td>\n",
       "                        <td id=\"T_c7085140_0442_11eb_8ceb_edc933979480row14_col3\" class=\"data row14 col3\" >0.5008</td>\n",
       "                        <td id=\"T_c7085140_0442_11eb_8ceb_edc933979480row14_col4\" class=\"data row14 col4\" >0.3500</td>\n",
       "                        <td id=\"T_c7085140_0442_11eb_8ceb_edc933979480row14_col5\" class=\"data row14 col5\" >0.3349</td>\n",
       "                        <td id=\"T_c7085140_0442_11eb_8ceb_edc933979480row14_col6\" class=\"data row14 col6\" >-0.0004</td>\n",
       "                        <td id=\"T_c7085140_0442_11eb_8ceb_edc933979480row14_col7\" class=\"data row14 col7\" >-0.0044</td>\n",
       "                        <td id=\"T_c7085140_0442_11eb_8ceb_edc933979480row14_col8\" class=\"data row14 col8\" >0.1317</td>\n",
       "            </tr>\n",
       "    </tbody></table>"
      ],
      "text/plain": [
       "<pandas.io.formats.style.Styler at 0x24304402048>"
      ]
     },
     "metadata": {},
     "output_type": "display_data"
    },
    {
     "data": {
      "text/plain": [
       "LGBMClassifier(boosting_type='gbdt', class_weight=None, colsample_bytree=1.0,\n",
       "               importance_type='split', learning_rate=0.1, max_depth=-1,\n",
       "               min_child_samples=20, min_child_weight=0.001, min_split_gain=0.0,\n",
       "               n_estimators=100, n_jobs=-1, num_leaves=31, objective=None,\n",
       "               random_state=1451, reg_alpha=0.0, reg_lambda=0.0, silent=True,\n",
       "               subsample=1.0, subsample_for_bin=200000, subsample_freq=0)"
      ]
     },
     "execution_count": 35,
     "metadata": {},
     "output_type": "execute_result"
    }
   ],
   "source": [
    "##COMPARANDO OS MODELOS\n",
    "\n",
    "compare_models()"
   ]
  },
  {
   "cell_type": "markdown",
   "metadata": {},
   "source": [
    "<h5>OBSERVADO QUE OS MELHORES RESULTADOS FORAM OBTIDOS COM O MODELO LGBM"
   ]
  },
  {
   "cell_type": "code",
   "execution_count": 81,
   "metadata": {},
   "outputs": [
    {
     "data": {
      "text/html": [
       "<style  type=\"text/css\" >\n",
       "    #T_63e41fc8_05ae_11eb_a90a_edc933979480row10_col0 {\n",
       "            background:  yellow;\n",
       "        }    #T_63e41fc8_05ae_11eb_a90a_edc933979480row10_col1 {\n",
       "            background:  yellow;\n",
       "        }    #T_63e41fc8_05ae_11eb_a90a_edc933979480row10_col2 {\n",
       "            background:  yellow;\n",
       "        }    #T_63e41fc8_05ae_11eb_a90a_edc933979480row10_col3 {\n",
       "            background:  yellow;\n",
       "        }    #T_63e41fc8_05ae_11eb_a90a_edc933979480row10_col4 {\n",
       "            background:  yellow;\n",
       "        }    #T_63e41fc8_05ae_11eb_a90a_edc933979480row10_col5 {\n",
       "            background:  yellow;\n",
       "        }    #T_63e41fc8_05ae_11eb_a90a_edc933979480row10_col6 {\n",
       "            background:  yellow;\n",
       "        }</style><table id=\"T_63e41fc8_05ae_11eb_a90a_edc933979480\" ><thead>    <tr>        <th class=\"blank level0\" ></th>        <th class=\"col_heading level0 col0\" >Accuracy</th>        <th class=\"col_heading level0 col1\" >AUC</th>        <th class=\"col_heading level0 col2\" >Recall</th>        <th class=\"col_heading level0 col3\" >Prec.</th>        <th class=\"col_heading level0 col4\" >F1</th>        <th class=\"col_heading level0 col5\" >Kappa</th>        <th class=\"col_heading level0 col6\" >MCC</th>    </tr></thead><tbody>\n",
       "                <tr>\n",
       "                        <th id=\"T_63e41fc8_05ae_11eb_a90a_edc933979480level0_row0\" class=\"row_heading level0 row0\" >0</th>\n",
       "                        <td id=\"T_63e41fc8_05ae_11eb_a90a_edc933979480row0_col0\" class=\"data row0 col0\" >0.8998</td>\n",
       "                        <td id=\"T_63e41fc8_05ae_11eb_a90a_edc933979480row0_col1\" class=\"data row0 col1\" >0.9642</td>\n",
       "                        <td id=\"T_63e41fc8_05ae_11eb_a90a_edc933979480row0_col2\" class=\"data row0 col2\" >0.9382</td>\n",
       "                        <td id=\"T_63e41fc8_05ae_11eb_a90a_edc933979480row0_col3\" class=\"data row0 col3\" >0.8710</td>\n",
       "                        <td id=\"T_63e41fc8_05ae_11eb_a90a_edc933979480row0_col4\" class=\"data row0 col4\" >0.9033</td>\n",
       "                        <td id=\"T_63e41fc8_05ae_11eb_a90a_edc933979480row0_col5\" class=\"data row0 col5\" >0.7996</td>\n",
       "                        <td id=\"T_63e41fc8_05ae_11eb_a90a_edc933979480row0_col6\" class=\"data row0 col6\" >0.8020</td>\n",
       "            </tr>\n",
       "            <tr>\n",
       "                        <th id=\"T_63e41fc8_05ae_11eb_a90a_edc933979480level0_row1\" class=\"row_heading level0 row1\" >1</th>\n",
       "                        <td id=\"T_63e41fc8_05ae_11eb_a90a_edc933979480row1_col0\" class=\"data row1 col0\" >0.9094</td>\n",
       "                        <td id=\"T_63e41fc8_05ae_11eb_a90a_edc933979480row1_col1\" class=\"data row1 col1\" >0.9596</td>\n",
       "                        <td id=\"T_63e41fc8_05ae_11eb_a90a_edc933979480row1_col2\" class=\"data row1 col2\" >0.9382</td>\n",
       "                        <td id=\"T_63e41fc8_05ae_11eb_a90a_edc933979480row1_col3\" class=\"data row1 col3\" >0.8869</td>\n",
       "                        <td id=\"T_63e41fc8_05ae_11eb_a90a_edc933979480row1_col4\" class=\"data row1 col4\" >0.9118</td>\n",
       "                        <td id=\"T_63e41fc8_05ae_11eb_a90a_edc933979480row1_col5\" class=\"data row1 col5\" >0.8189</td>\n",
       "                        <td id=\"T_63e41fc8_05ae_11eb_a90a_edc933979480row1_col6\" class=\"data row1 col6\" >0.8203</td>\n",
       "            </tr>\n",
       "            <tr>\n",
       "                        <th id=\"T_63e41fc8_05ae_11eb_a90a_edc933979480level0_row2\" class=\"row_heading level0 row2\" >2</th>\n",
       "                        <td id=\"T_63e41fc8_05ae_11eb_a90a_edc933979480row2_col0\" class=\"data row2 col0\" >0.8786</td>\n",
       "                        <td id=\"T_63e41fc8_05ae_11eb_a90a_edc933979480row2_col1\" class=\"data row2 col1\" >0.9550</td>\n",
       "                        <td id=\"T_63e41fc8_05ae_11eb_a90a_edc933979480row2_col2\" class=\"data row2 col2\" >0.9189</td>\n",
       "                        <td id=\"T_63e41fc8_05ae_11eb_a90a_edc933979480row2_col3\" class=\"data row2 col3\" >0.8500</td>\n",
       "                        <td id=\"T_63e41fc8_05ae_11eb_a90a_edc933979480row2_col4\" class=\"data row2 col4\" >0.8831</td>\n",
       "                        <td id=\"T_63e41fc8_05ae_11eb_a90a_edc933979480row2_col5\" class=\"data row2 col5\" >0.7573</td>\n",
       "                        <td id=\"T_63e41fc8_05ae_11eb_a90a_edc933979480row2_col6\" class=\"data row2 col6\" >0.7598</td>\n",
       "            </tr>\n",
       "            <tr>\n",
       "                        <th id=\"T_63e41fc8_05ae_11eb_a90a_edc933979480level0_row3\" class=\"row_heading level0 row3\" >3</th>\n",
       "                        <td id=\"T_63e41fc8_05ae_11eb_a90a_edc933979480row3_col0\" class=\"data row3 col0\" >0.8921</td>\n",
       "                        <td id=\"T_63e41fc8_05ae_11eb_a90a_edc933979480row3_col1\" class=\"data row3 col1\" >0.9576</td>\n",
       "                        <td id=\"T_63e41fc8_05ae_11eb_a90a_edc933979480row3_col2\" class=\"data row3 col2\" >0.9189</td>\n",
       "                        <td id=\"T_63e41fc8_05ae_11eb_a90a_edc933979480row3_col3\" class=\"data row3 col3\" >0.8718</td>\n",
       "                        <td id=\"T_63e41fc8_05ae_11eb_a90a_edc933979480row3_col4\" class=\"data row3 col4\" >0.8947</td>\n",
       "                        <td id=\"T_63e41fc8_05ae_11eb_a90a_edc933979480row3_col5\" class=\"data row3 col5\" >0.7842</td>\n",
       "                        <td id=\"T_63e41fc8_05ae_11eb_a90a_edc933979480row3_col6\" class=\"data row3 col6\" >0.7854</td>\n",
       "            </tr>\n",
       "            <tr>\n",
       "                        <th id=\"T_63e41fc8_05ae_11eb_a90a_edc933979480level0_row4\" class=\"row_heading level0 row4\" >4</th>\n",
       "                        <td id=\"T_63e41fc8_05ae_11eb_a90a_edc933979480row4_col0\" class=\"data row4 col0\" >0.8979</td>\n",
       "                        <td id=\"T_63e41fc8_05ae_11eb_a90a_edc933979480row4_col1\" class=\"data row4 col1\" >0.9586</td>\n",
       "                        <td id=\"T_63e41fc8_05ae_11eb_a90a_edc933979480row4_col2\" class=\"data row4 col2\" >0.9382</td>\n",
       "                        <td id=\"T_63e41fc8_05ae_11eb_a90a_edc933979480row4_col3\" class=\"data row4 col3\" >0.8679</td>\n",
       "                        <td id=\"T_63e41fc8_05ae_11eb_a90a_edc933979480row4_col4\" class=\"data row4 col4\" >0.9017</td>\n",
       "                        <td id=\"T_63e41fc8_05ae_11eb_a90a_edc933979480row4_col5\" class=\"data row4 col5\" >0.7958</td>\n",
       "                        <td id=\"T_63e41fc8_05ae_11eb_a90a_edc933979480row4_col6\" class=\"data row4 col6\" >0.7984</td>\n",
       "            </tr>\n",
       "            <tr>\n",
       "                        <th id=\"T_63e41fc8_05ae_11eb_a90a_edc933979480level0_row5\" class=\"row_heading level0 row5\" >5</th>\n",
       "                        <td id=\"T_63e41fc8_05ae_11eb_a90a_edc933979480row5_col0\" class=\"data row5 col0\" >0.9171</td>\n",
       "                        <td id=\"T_63e41fc8_05ae_11eb_a90a_edc933979480row5_col1\" class=\"data row5 col1\" >0.9686</td>\n",
       "                        <td id=\"T_63e41fc8_05ae_11eb_a90a_edc933979480row5_col2\" class=\"data row5 col2\" >0.9231</td>\n",
       "                        <td id=\"T_63e41fc8_05ae_11eb_a90a_edc933979480row5_col3\" class=\"data row5 col3\" >0.9125</td>\n",
       "                        <td id=\"T_63e41fc8_05ae_11eb_a90a_edc933979480row5_col4\" class=\"data row5 col4\" >0.9178</td>\n",
       "                        <td id=\"T_63e41fc8_05ae_11eb_a90a_edc933979480row5_col5\" class=\"data row5 col5\" >0.8343</td>\n",
       "                        <td id=\"T_63e41fc8_05ae_11eb_a90a_edc933979480row5_col6\" class=\"data row5 col6\" >0.8343</td>\n",
       "            </tr>\n",
       "            <tr>\n",
       "                        <th id=\"T_63e41fc8_05ae_11eb_a90a_edc933979480level0_row6\" class=\"row_heading level0 row6\" >6</th>\n",
       "                        <td id=\"T_63e41fc8_05ae_11eb_a90a_edc933979480row6_col0\" class=\"data row6 col0\" >0.8940</td>\n",
       "                        <td id=\"T_63e41fc8_05ae_11eb_a90a_edc933979480row6_col1\" class=\"data row6 col1\" >0.9577</td>\n",
       "                        <td id=\"T_63e41fc8_05ae_11eb_a90a_edc933979480row6_col2\" class=\"data row6 col2\" >0.9308</td>\n",
       "                        <td id=\"T_63e41fc8_05ae_11eb_a90a_edc933979480row6_col3\" class=\"data row6 col3\" >0.8674</td>\n",
       "                        <td id=\"T_63e41fc8_05ae_11eb_a90a_edc933979480row6_col4\" class=\"data row6 col4\" >0.8980</td>\n",
       "                        <td id=\"T_63e41fc8_05ae_11eb_a90a_edc933979480row6_col5\" class=\"data row6 col5\" >0.7880</td>\n",
       "                        <td id=\"T_63e41fc8_05ae_11eb_a90a_edc933979480row6_col6\" class=\"data row6 col6\" >0.7901</td>\n",
       "            </tr>\n",
       "            <tr>\n",
       "                        <th id=\"T_63e41fc8_05ae_11eb_a90a_edc933979480level0_row7\" class=\"row_heading level0 row7\" >7</th>\n",
       "                        <td id=\"T_63e41fc8_05ae_11eb_a90a_edc933979480row7_col0\" class=\"data row7 col0\" >0.8863</td>\n",
       "                        <td id=\"T_63e41fc8_05ae_11eb_a90a_edc933979480row7_col1\" class=\"data row7 col1\" >0.9495</td>\n",
       "                        <td id=\"T_63e41fc8_05ae_11eb_a90a_edc933979480row7_col2\" class=\"data row7 col2\" >0.9231</td>\n",
       "                        <td id=\"T_63e41fc8_05ae_11eb_a90a_edc933979480row7_col3\" class=\"data row7 col3\" >0.8602</td>\n",
       "                        <td id=\"T_63e41fc8_05ae_11eb_a90a_edc933979480row7_col4\" class=\"data row7 col4\" >0.8905</td>\n",
       "                        <td id=\"T_63e41fc8_05ae_11eb_a90a_edc933979480row7_col5\" class=\"data row7 col5\" >0.7726</td>\n",
       "                        <td id=\"T_63e41fc8_05ae_11eb_a90a_edc933979480row7_col6\" class=\"data row7 col6\" >0.7747</td>\n",
       "            </tr>\n",
       "            <tr>\n",
       "                        <th id=\"T_63e41fc8_05ae_11eb_a90a_edc933979480level0_row8\" class=\"row_heading level0 row8\" >8</th>\n",
       "                        <td id=\"T_63e41fc8_05ae_11eb_a90a_edc933979480row8_col0\" class=\"data row8 col0\" >0.8902</td>\n",
       "                        <td id=\"T_63e41fc8_05ae_11eb_a90a_edc933979480row8_col1\" class=\"data row8 col1\" >0.9629</td>\n",
       "                        <td id=\"T_63e41fc8_05ae_11eb_a90a_edc933979480row8_col2\" class=\"data row8 col2\" >0.8885</td>\n",
       "                        <td id=\"T_63e41fc8_05ae_11eb_a90a_edc933979480row8_col3\" class=\"data row8 col3\" >0.8919</td>\n",
       "                        <td id=\"T_63e41fc8_05ae_11eb_a90a_edc933979480row8_col4\" class=\"data row8 col4\" >0.8902</td>\n",
       "                        <td id=\"T_63e41fc8_05ae_11eb_a90a_edc933979480row8_col5\" class=\"data row8 col5\" >0.7803</td>\n",
       "                        <td id=\"T_63e41fc8_05ae_11eb_a90a_edc933979480row8_col6\" class=\"data row8 col6\" >0.7804</td>\n",
       "            </tr>\n",
       "            <tr>\n",
       "                        <th id=\"T_63e41fc8_05ae_11eb_a90a_edc933979480level0_row9\" class=\"row_heading level0 row9\" >9</th>\n",
       "                        <td id=\"T_63e41fc8_05ae_11eb_a90a_edc933979480row9_col0\" class=\"data row9 col0\" >0.9170</td>\n",
       "                        <td id=\"T_63e41fc8_05ae_11eb_a90a_edc933979480row9_col1\" class=\"data row9 col1\" >0.9672</td>\n",
       "                        <td id=\"T_63e41fc8_05ae_11eb_a90a_edc933979480row9_col2\" class=\"data row9 col2\" >0.9459</td>\n",
       "                        <td id=\"T_63e41fc8_05ae_11eb_a90a_edc933979480row9_col3\" class=\"data row9 col3\" >0.8942</td>\n",
       "                        <td id=\"T_63e41fc8_05ae_11eb_a90a_edc933979480row9_col4\" class=\"data row9 col4\" >0.9193</td>\n",
       "                        <td id=\"T_63e41fc8_05ae_11eb_a90a_edc933979480row9_col5\" class=\"data row9 col5\" >0.8340</td>\n",
       "                        <td id=\"T_63e41fc8_05ae_11eb_a90a_edc933979480row9_col6\" class=\"data row9 col6\" >0.8354</td>\n",
       "            </tr>\n",
       "            <tr>\n",
       "                        <th id=\"T_63e41fc8_05ae_11eb_a90a_edc933979480level0_row10\" class=\"row_heading level0 row10\" >Mean</th>\n",
       "                        <td id=\"T_63e41fc8_05ae_11eb_a90a_edc933979480row10_col0\" class=\"data row10 col0\" >0.8982</td>\n",
       "                        <td id=\"T_63e41fc8_05ae_11eb_a90a_edc933979480row10_col1\" class=\"data row10 col1\" >0.9601</td>\n",
       "                        <td id=\"T_63e41fc8_05ae_11eb_a90a_edc933979480row10_col2\" class=\"data row10 col2\" >0.9264</td>\n",
       "                        <td id=\"T_63e41fc8_05ae_11eb_a90a_edc933979480row10_col3\" class=\"data row10 col3\" >0.8774</td>\n",
       "                        <td id=\"T_63e41fc8_05ae_11eb_a90a_edc933979480row10_col4\" class=\"data row10 col4\" >0.9010</td>\n",
       "                        <td id=\"T_63e41fc8_05ae_11eb_a90a_edc933979480row10_col5\" class=\"data row10 col5\" >0.7965</td>\n",
       "                        <td id=\"T_63e41fc8_05ae_11eb_a90a_edc933979480row10_col6\" class=\"data row10 col6\" >0.7981</td>\n",
       "            </tr>\n",
       "            <tr>\n",
       "                        <th id=\"T_63e41fc8_05ae_11eb_a90a_edc933979480level0_row11\" class=\"row_heading level0 row11\" >SD</th>\n",
       "                        <td id=\"T_63e41fc8_05ae_11eb_a90a_edc933979480row11_col0\" class=\"data row11 col0\" >0.0122</td>\n",
       "                        <td id=\"T_63e41fc8_05ae_11eb_a90a_edc933979480row11_col1\" class=\"data row11 col1\" >0.0055</td>\n",
       "                        <td id=\"T_63e41fc8_05ae_11eb_a90a_edc933979480row11_col2\" class=\"data row11 col2\" >0.0155</td>\n",
       "                        <td id=\"T_63e41fc8_05ae_11eb_a90a_edc933979480row11_col3\" class=\"data row11 col3\" >0.0177</td>\n",
       "                        <td id=\"T_63e41fc8_05ae_11eb_a90a_edc933979480row11_col4\" class=\"data row11 col4\" >0.0116</td>\n",
       "                        <td id=\"T_63e41fc8_05ae_11eb_a90a_edc933979480row11_col5\" class=\"data row11 col5\" >0.0244</td>\n",
       "                        <td id=\"T_63e41fc8_05ae_11eb_a90a_edc933979480row11_col6\" class=\"data row11 col6\" >0.0240</td>\n",
       "            </tr>\n",
       "    </tbody></table>"
      ],
      "text/plain": [
       "<pandas.io.formats.style.Styler at 0x21245dedf48>"
      ]
     },
     "metadata": {},
     "output_type": "display_data"
    }
   ],
   "source": [
    "##CRIANDO O MODELO\n",
    "\n",
    "lightgbm = create_model('lightgbm')"
   ]
  },
  {
   "cell_type": "code",
   "execution_count": 37,
   "metadata": {},
   "outputs": [
    {
     "name": "stdout",
     "output_type": "stream",
     "text": [
      "LGBMClassifier(boosting_type='gbdt', class_weight=None, colsample_bytree=1.0,\n",
      "               importance_type='split', learning_rate=0.1, max_depth=-1,\n",
      "               min_child_samples=20, min_child_weight=0.001, min_split_gain=0.0,\n",
      "               n_estimators=100, n_jobs=-1, num_leaves=31, objective=None,\n",
      "               random_state=1451, reg_alpha=0.0, reg_lambda=0.0, silent=True,\n",
      "               subsample=1.0, subsample_for_bin=200000, subsample_freq=0)\n"
     ]
    }
   ],
   "source": [
    "print(lightgbm)"
   ]
  },
  {
   "cell_type": "code",
   "execution_count": 82,
   "metadata": {},
   "outputs": [
    {
     "data": {
      "text/html": [
       "<style  type=\"text/css\" >\n",
       "    #T_762601ee_05ae_11eb_8ef0_edc933979480row10_col0 {\n",
       "            background:  yellow;\n",
       "        }    #T_762601ee_05ae_11eb_8ef0_edc933979480row10_col1 {\n",
       "            background:  yellow;\n",
       "        }    #T_762601ee_05ae_11eb_8ef0_edc933979480row10_col2 {\n",
       "            background:  yellow;\n",
       "        }    #T_762601ee_05ae_11eb_8ef0_edc933979480row10_col3 {\n",
       "            background:  yellow;\n",
       "        }    #T_762601ee_05ae_11eb_8ef0_edc933979480row10_col4 {\n",
       "            background:  yellow;\n",
       "        }    #T_762601ee_05ae_11eb_8ef0_edc933979480row10_col5 {\n",
       "            background:  yellow;\n",
       "        }    #T_762601ee_05ae_11eb_8ef0_edc933979480row10_col6 {\n",
       "            background:  yellow;\n",
       "        }</style><table id=\"T_762601ee_05ae_11eb_8ef0_edc933979480\" ><thead>    <tr>        <th class=\"blank level0\" ></th>        <th class=\"col_heading level0 col0\" >Accuracy</th>        <th class=\"col_heading level0 col1\" >AUC</th>        <th class=\"col_heading level0 col2\" >Recall</th>        <th class=\"col_heading level0 col3\" >Prec.</th>        <th class=\"col_heading level0 col4\" >F1</th>        <th class=\"col_heading level0 col5\" >Kappa</th>        <th class=\"col_heading level0 col6\" >MCC</th>    </tr></thead><tbody>\n",
       "                <tr>\n",
       "                        <th id=\"T_762601ee_05ae_11eb_8ef0_edc933979480level0_row0\" class=\"row_heading level0 row0\" >0</th>\n",
       "                        <td id=\"T_762601ee_05ae_11eb_8ef0_edc933979480row0_col0\" class=\"data row0 col0\" >0.9037</td>\n",
       "                        <td id=\"T_762601ee_05ae_11eb_8ef0_edc933979480row0_col1\" class=\"data row0 col1\" >0.9609</td>\n",
       "                        <td id=\"T_762601ee_05ae_11eb_8ef0_edc933979480row0_col2\" class=\"data row0 col2\" >0.9305</td>\n",
       "                        <td id=\"T_762601ee_05ae_11eb_8ef0_edc933979480row0_col3\" class=\"data row0 col3\" >0.8828</td>\n",
       "                        <td id=\"T_762601ee_05ae_11eb_8ef0_edc933979480row0_col4\" class=\"data row0 col4\" >0.9060</td>\n",
       "                        <td id=\"T_762601ee_05ae_11eb_8ef0_edc933979480row0_col5\" class=\"data row0 col5\" >0.8073</td>\n",
       "                        <td id=\"T_762601ee_05ae_11eb_8ef0_edc933979480row0_col6\" class=\"data row0 col6\" >0.8085</td>\n",
       "            </tr>\n",
       "            <tr>\n",
       "                        <th id=\"T_762601ee_05ae_11eb_8ef0_edc933979480level0_row1\" class=\"row_heading level0 row1\" >1</th>\n",
       "                        <td id=\"T_762601ee_05ae_11eb_8ef0_edc933979480row1_col0\" class=\"data row1 col0\" >0.8960</td>\n",
       "                        <td id=\"T_762601ee_05ae_11eb_8ef0_edc933979480row1_col1\" class=\"data row1 col1\" >0.9584</td>\n",
       "                        <td id=\"T_762601ee_05ae_11eb_8ef0_edc933979480row1_col2\" class=\"data row1 col2\" >0.9228</td>\n",
       "                        <td id=\"T_762601ee_05ae_11eb_8ef0_edc933979480row1_col3\" class=\"data row1 col3\" >0.8755</td>\n",
       "                        <td id=\"T_762601ee_05ae_11eb_8ef0_edc933979480row1_col4\" class=\"data row1 col4\" >0.8985</td>\n",
       "                        <td id=\"T_762601ee_05ae_11eb_8ef0_edc933979480row1_col5\" class=\"data row1 col5\" >0.7919</td>\n",
       "                        <td id=\"T_762601ee_05ae_11eb_8ef0_edc933979480row1_col6\" class=\"data row1 col6\" >0.7931</td>\n",
       "            </tr>\n",
       "            <tr>\n",
       "                        <th id=\"T_762601ee_05ae_11eb_8ef0_edc933979480level0_row2\" class=\"row_heading level0 row2\" >2</th>\n",
       "                        <td id=\"T_762601ee_05ae_11eb_8ef0_edc933979480row2_col0\" class=\"data row2 col0\" >0.9075</td>\n",
       "                        <td id=\"T_762601ee_05ae_11eb_8ef0_edc933979480row2_col1\" class=\"data row2 col1\" >0.9580</td>\n",
       "                        <td id=\"T_762601ee_05ae_11eb_8ef0_edc933979480row2_col2\" class=\"data row2 col2\" >0.9382</td>\n",
       "                        <td id=\"T_762601ee_05ae_11eb_8ef0_edc933979480row2_col3\" class=\"data row2 col3\" >0.8836</td>\n",
       "                        <td id=\"T_762601ee_05ae_11eb_8ef0_edc933979480row2_col4\" class=\"data row2 col4\" >0.9101</td>\n",
       "                        <td id=\"T_762601ee_05ae_11eb_8ef0_edc933979480row2_col5\" class=\"data row2 col5\" >0.8151</td>\n",
       "                        <td id=\"T_762601ee_05ae_11eb_8ef0_edc933979480row2_col6\" class=\"data row2 col6\" >0.8166</td>\n",
       "            </tr>\n",
       "            <tr>\n",
       "                        <th id=\"T_762601ee_05ae_11eb_8ef0_edc933979480level0_row3\" class=\"row_heading level0 row3\" >3</th>\n",
       "                        <td id=\"T_762601ee_05ae_11eb_8ef0_edc933979480row3_col0\" class=\"data row3 col0\" >0.8902</td>\n",
       "                        <td id=\"T_762601ee_05ae_11eb_8ef0_edc933979480row3_col1\" class=\"data row3 col1\" >0.9598</td>\n",
       "                        <td id=\"T_762601ee_05ae_11eb_8ef0_edc933979480row3_col2\" class=\"data row3 col2\" >0.9112</td>\n",
       "                        <td id=\"T_762601ee_05ae_11eb_8ef0_edc933979480row3_col3\" class=\"data row3 col3\" >0.8741</td>\n",
       "                        <td id=\"T_762601ee_05ae_11eb_8ef0_edc933979480row3_col4\" class=\"data row3 col4\" >0.8922</td>\n",
       "                        <td id=\"T_762601ee_05ae_11eb_8ef0_edc933979480row3_col5\" class=\"data row3 col5\" >0.7804</td>\n",
       "                        <td id=\"T_762601ee_05ae_11eb_8ef0_edc933979480row3_col6\" class=\"data row3 col6\" >0.7811</td>\n",
       "            </tr>\n",
       "            <tr>\n",
       "                        <th id=\"T_762601ee_05ae_11eb_8ef0_edc933979480level0_row4\" class=\"row_heading level0 row4\" >4</th>\n",
       "                        <td id=\"T_762601ee_05ae_11eb_8ef0_edc933979480row4_col0\" class=\"data row4 col0\" >0.9094</td>\n",
       "                        <td id=\"T_762601ee_05ae_11eb_8ef0_edc933979480row4_col1\" class=\"data row4 col1\" >0.9622</td>\n",
       "                        <td id=\"T_762601ee_05ae_11eb_8ef0_edc933979480row4_col2\" class=\"data row4 col2\" >0.9421</td>\n",
       "                        <td id=\"T_762601ee_05ae_11eb_8ef0_edc933979480row4_col3\" class=\"data row4 col3\" >0.8841</td>\n",
       "                        <td id=\"T_762601ee_05ae_11eb_8ef0_edc933979480row4_col4\" class=\"data row4 col4\" >0.9121</td>\n",
       "                        <td id=\"T_762601ee_05ae_11eb_8ef0_edc933979480row4_col5\" class=\"data row4 col5\" >0.8189</td>\n",
       "                        <td id=\"T_762601ee_05ae_11eb_8ef0_edc933979480row4_col6\" class=\"data row4 col6\" >0.8207</td>\n",
       "            </tr>\n",
       "            <tr>\n",
       "                        <th id=\"T_762601ee_05ae_11eb_8ef0_edc933979480level0_row5\" class=\"row_heading level0 row5\" >5</th>\n",
       "                        <td id=\"T_762601ee_05ae_11eb_8ef0_edc933979480row5_col0\" class=\"data row5 col0\" >0.9133</td>\n",
       "                        <td id=\"T_762601ee_05ae_11eb_8ef0_edc933979480row5_col1\" class=\"data row5 col1\" >0.9655</td>\n",
       "                        <td id=\"T_762601ee_05ae_11eb_8ef0_edc933979480row5_col2\" class=\"data row5 col2\" >0.9077</td>\n",
       "                        <td id=\"T_762601ee_05ae_11eb_8ef0_edc933979480row5_col3\" class=\"data row5 col3\" >0.9183</td>\n",
       "                        <td id=\"T_762601ee_05ae_11eb_8ef0_edc933979480row5_col4\" class=\"data row5 col4\" >0.9130</td>\n",
       "                        <td id=\"T_762601ee_05ae_11eb_8ef0_edc933979480row5_col5\" class=\"data row5 col5\" >0.8266</td>\n",
       "                        <td id=\"T_762601ee_05ae_11eb_8ef0_edc933979480row5_col6\" class=\"data row5 col6\" >0.8266</td>\n",
       "            </tr>\n",
       "            <tr>\n",
       "                        <th id=\"T_762601ee_05ae_11eb_8ef0_edc933979480level0_row6\" class=\"row_heading level0 row6\" >6</th>\n",
       "                        <td id=\"T_762601ee_05ae_11eb_8ef0_edc933979480row6_col0\" class=\"data row6 col0\" >0.9152</td>\n",
       "                        <td id=\"T_762601ee_05ae_11eb_8ef0_edc933979480row6_col1\" class=\"data row6 col1\" >0.9621</td>\n",
       "                        <td id=\"T_762601ee_05ae_11eb_8ef0_edc933979480row6_col2\" class=\"data row6 col2\" >0.9308</td>\n",
       "                        <td id=\"T_762601ee_05ae_11eb_8ef0_edc933979480row6_col3\" class=\"data row6 col3\" >0.9030</td>\n",
       "                        <td id=\"T_762601ee_05ae_11eb_8ef0_edc933979480row6_col4\" class=\"data row6 col4\" >0.9167</td>\n",
       "                        <td id=\"T_762601ee_05ae_11eb_8ef0_edc933979480row6_col5\" class=\"data row6 col5\" >0.8304</td>\n",
       "                        <td id=\"T_762601ee_05ae_11eb_8ef0_edc933979480row6_col6\" class=\"data row6 col6\" >0.8308</td>\n",
       "            </tr>\n",
       "            <tr>\n",
       "                        <th id=\"T_762601ee_05ae_11eb_8ef0_edc933979480level0_row7\" class=\"row_heading level0 row7\" >7</th>\n",
       "                        <td id=\"T_762601ee_05ae_11eb_8ef0_edc933979480row7_col0\" class=\"data row7 col0\" >0.8671</td>\n",
       "                        <td id=\"T_762601ee_05ae_11eb_8ef0_edc933979480row7_col1\" class=\"data row7 col1\" >0.9547</td>\n",
       "                        <td id=\"T_762601ee_05ae_11eb_8ef0_edc933979480row7_col2\" class=\"data row7 col2\" >0.8731</td>\n",
       "                        <td id=\"T_762601ee_05ae_11eb_8ef0_edc933979480row7_col3\" class=\"data row7 col3\" >0.8631</td>\n",
       "                        <td id=\"T_762601ee_05ae_11eb_8ef0_edc933979480row7_col4\" class=\"data row7 col4\" >0.8681</td>\n",
       "                        <td id=\"T_762601ee_05ae_11eb_8ef0_edc933979480row7_col5\" class=\"data row7 col5\" >0.7341</td>\n",
       "                        <td id=\"T_762601ee_05ae_11eb_8ef0_edc933979480row7_col6\" class=\"data row7 col6\" >0.7341</td>\n",
       "            </tr>\n",
       "            <tr>\n",
       "                        <th id=\"T_762601ee_05ae_11eb_8ef0_edc933979480level0_row8\" class=\"row_heading level0 row8\" >8</th>\n",
       "                        <td id=\"T_762601ee_05ae_11eb_8ef0_edc933979480row8_col0\" class=\"data row8 col0\" >0.8998</td>\n",
       "                        <td id=\"T_762601ee_05ae_11eb_8ef0_edc933979480row8_col1\" class=\"data row8 col1\" >0.9646</td>\n",
       "                        <td id=\"T_762601ee_05ae_11eb_8ef0_edc933979480row8_col2\" class=\"data row8 col2\" >0.9154</td>\n",
       "                        <td id=\"T_762601ee_05ae_11eb_8ef0_edc933979480row8_col3\" class=\"data row8 col3\" >0.8881</td>\n",
       "                        <td id=\"T_762601ee_05ae_11eb_8ef0_edc933979480row8_col4\" class=\"data row8 col4\" >0.9015</td>\n",
       "                        <td id=\"T_762601ee_05ae_11eb_8ef0_edc933979480row8_col5\" class=\"data row8 col5\" >0.7996</td>\n",
       "                        <td id=\"T_762601ee_05ae_11eb_8ef0_edc933979480row8_col6\" class=\"data row8 col6\" >0.8000</td>\n",
       "            </tr>\n",
       "            <tr>\n",
       "                        <th id=\"T_762601ee_05ae_11eb_8ef0_edc933979480level0_row9\" class=\"row_heading level0 row9\" >9</th>\n",
       "                        <td id=\"T_762601ee_05ae_11eb_8ef0_edc933979480row9_col0\" class=\"data row9 col0\" >0.9208</td>\n",
       "                        <td id=\"T_762601ee_05ae_11eb_8ef0_edc933979480row9_col1\" class=\"data row9 col1\" >0.9716</td>\n",
       "                        <td id=\"T_762601ee_05ae_11eb_8ef0_edc933979480row9_col2\" class=\"data row9 col2\" >0.9421</td>\n",
       "                        <td id=\"T_762601ee_05ae_11eb_8ef0_edc933979480row9_col3\" class=\"data row9 col3\" >0.9037</td>\n",
       "                        <td id=\"T_762601ee_05ae_11eb_8ef0_edc933979480row9_col4\" class=\"data row9 col4\" >0.9225</td>\n",
       "                        <td id=\"T_762601ee_05ae_11eb_8ef0_edc933979480row9_col5\" class=\"data row9 col5\" >0.8417</td>\n",
       "                        <td id=\"T_762601ee_05ae_11eb_8ef0_edc933979480row9_col6\" class=\"data row9 col6\" >0.8425</td>\n",
       "            </tr>\n",
       "            <tr>\n",
       "                        <th id=\"T_762601ee_05ae_11eb_8ef0_edc933979480level0_row10\" class=\"row_heading level0 row10\" >Mean</th>\n",
       "                        <td id=\"T_762601ee_05ae_11eb_8ef0_edc933979480row10_col0\" class=\"data row10 col0\" >0.9023</td>\n",
       "                        <td id=\"T_762601ee_05ae_11eb_8ef0_edc933979480row10_col1\" class=\"data row10 col1\" >0.9618</td>\n",
       "                        <td id=\"T_762601ee_05ae_11eb_8ef0_edc933979480row10_col2\" class=\"data row10 col2\" >0.9214</td>\n",
       "                        <td id=\"T_762601ee_05ae_11eb_8ef0_edc933979480row10_col3\" class=\"data row10 col3\" >0.8876</td>\n",
       "                        <td id=\"T_762601ee_05ae_11eb_8ef0_edc933979480row10_col4\" class=\"data row10 col4\" >0.9041</td>\n",
       "                        <td id=\"T_762601ee_05ae_11eb_8ef0_edc933979480row10_col5\" class=\"data row10 col5\" >0.8046</td>\n",
       "                        <td id=\"T_762601ee_05ae_11eb_8ef0_edc933979480row10_col6\" class=\"data row10 col6\" >0.8054</td>\n",
       "            </tr>\n",
       "            <tr>\n",
       "                        <th id=\"T_762601ee_05ae_11eb_8ef0_edc933979480level0_row11\" class=\"row_heading level0 row11\" >SD</th>\n",
       "                        <td id=\"T_762601ee_05ae_11eb_8ef0_edc933979480row11_col0\" class=\"data row11 col0\" >0.0147</td>\n",
       "                        <td id=\"T_762601ee_05ae_11eb_8ef0_edc933979480row11_col1\" class=\"data row11 col1\" >0.0045</td>\n",
       "                        <td id=\"T_762601ee_05ae_11eb_8ef0_edc933979480row11_col2\" class=\"data row11 col2\" >0.0199</td>\n",
       "                        <td id=\"T_762601ee_05ae_11eb_8ef0_edc933979480row11_col3\" class=\"data row11 col3\" >0.0156</td>\n",
       "                        <td id=\"T_762601ee_05ae_11eb_8ef0_edc933979480row11_col4\" class=\"data row11 col4\" >0.0147</td>\n",
       "                        <td id=\"T_762601ee_05ae_11eb_8ef0_edc933979480row11_col5\" class=\"data row11 col5\" >0.0293</td>\n",
       "                        <td id=\"T_762601ee_05ae_11eb_8ef0_edc933979480row11_col6\" class=\"data row11 col6\" >0.0295</td>\n",
       "            </tr>\n",
       "    </tbody></table>"
      ],
      "text/plain": [
       "<pandas.io.formats.style.Styler at 0x21245de0648>"
      ]
     },
     "metadata": {},
     "output_type": "display_data"
    }
   ],
   "source": [
    "##REALIZANDO O TUNE DO MODELO\n",
    "\n",
    "tuned_lightgbm = tune_model(lightgbm)"
   ]
  },
  {
   "cell_type": "code",
   "execution_count": 39,
   "metadata": {},
   "outputs": [
    {
     "name": "stdout",
     "output_type": "stream",
     "text": [
      "LGBMClassifier(boosting_type='gbdt', class_weight=None, colsample_bytree=1.0,\n",
      "               importance_type='split', learning_rate=0.4, max_depth=40,\n",
      "               min_child_samples=20, min_child_weight=0.001, min_split_gain=0,\n",
      "               n_estimators=150, n_jobs=-1, num_leaves=100, objective=None,\n",
      "               random_state=1451, reg_alpha=0.2, reg_lambda=0.4, silent=True,\n",
      "               subsample=1.0, subsample_for_bin=200000, subsample_freq=0)\n"
     ]
    }
   ],
   "source": [
    "print(tuned_lightgbm)"
   ]
  },
  {
   "cell_type": "code",
   "execution_count": 40,
   "metadata": {},
   "outputs": [
    {
     "data": {
      "image/png": "[encoded data removed]",
      "text/plain": [
       "<Figure size 576x396 with 1 Axes>"
      ]
     },
     "metadata": {},
     "output_type": "display_data"
    }
   ],
   "source": [
    "##GRÁFICO AUC: MODELO LGBM APÓS TUNE\n",
    "\n",
    "plot_model(tuned_lightgbm, plot = 'auc')"
   ]
  },
  {
   "cell_type": "code",
   "execution_count": 41,
   "metadata": {},
   "outputs": [
    {
     "data": {
      "image/png": "[encoded data removed]",
      "text/plain": [
       "<Figure size 576x396 with 1 Axes>"
      ]
     },
     "metadata": {},
     "output_type": "display_data"
    }
   ],
   "source": [
    "##GRÁFICO PRECISION-RECALL: MODELO LGBM APÓS TUNE\n",
    "\n",
    "plot_model(tuned_lightgbm, plot = 'pr')"
   ]
  },
  {
   "cell_type": "code",
   "execution_count": 42,
   "metadata": {},
   "outputs": [
    {
     "data": {
      "image/png": "[encoded data removed]",
      "text/plain": [
       "<Figure size 800x500 with 1 Axes>"
      ]
     },
     "metadata": {},
     "output_type": "display_data"
    }
   ],
   "source": [
    "##GRÁFICO DE IMPORTÂNCIA DAS FEATURES\n",
    "\n",
    "plot_model(tuned_lightgbm, plot='feature')"
   ]
  },
  {
   "cell_type": "code",
   "execution_count": 43,
   "metadata": {},
   "outputs": [
    {
     "data": {
      "image/png": "[encoded data removed]",
      "text/plain": [
       "<Figure size 576x396 with 1 Axes>"
      ]
     },
     "metadata": {},
     "output_type": "display_data"
    }
   ],
   "source": [
    "##GRÁFICO: MATRIZ DE CONFUSÃO\n",
    "\n",
    "plot_model(tuned_lightgbm, plot = 'confusion_matrix')"
   ]
  },
  {
   "cell_type": "code",
   "execution_count": 83,
   "metadata": {},
   "outputs": [
    {
     "data": {
      "application/vnd.jupyter.widget-view+json": {
       "model_id": "bef552678bff4378a3e2fb38b04e9521",
       "version_major": 2,
       "version_minor": 0
      },
      "text/plain": [
       "interactive(children=(ToggleButtons(description='Plot Type:', icons=('',), options=(('Hyperparameters', 'param…"
      ]
     },
     "metadata": {},
     "output_type": "display_data"
    }
   ],
   "source": [
    "##CONJUNTO DE GRÁFICOS E INFORMAÇÕES DO MODELO\n",
    "\n",
    "evaluate_model(tuned_lightgbm)"
   ]
  },
  {
   "cell_type": "code",
   "execution_count": 84,
   "metadata": {},
   "outputs": [
    {
     "data": {
      "text/html": [
       "<div>\n",
       "<style scoped>\n",
       "    .dataframe tbody tr th:only-of-type {\n",
       "        vertical-align: middle;\n",
       "    }\n",
       "\n",
       "    .dataframe tbody tr th {\n",
       "        vertical-align: top;\n",
       "    }\n",
       "\n",
       "    .dataframe thead th {\n",
       "        text-align: right;\n",
       "    }\n",
       "</style>\n",
       "<table border=\"1\" class=\"dataframe\">\n",
       "  <thead>\n",
       "    <tr style=\"text-align: right;\">\n",
       "      <th></th>\n",
       "      <th>Model</th>\n",
       "      <th>Accuracy</th>\n",
       "      <th>AUC</th>\n",
       "      <th>Recall</th>\n",
       "      <th>Prec.</th>\n",
       "      <th>F1</th>\n",
       "      <th>Kappa</th>\n",
       "      <th>MCC</th>\n",
       "    </tr>\n",
       "  </thead>\n",
       "  <tbody>\n",
       "    <tr>\n",
       "      <th>0</th>\n",
       "      <td>Light Gradient Boosting Machine</td>\n",
       "      <td>0.9231</td>\n",
       "      <td>0.9732</td>\n",
       "      <td>0.9371</td>\n",
       "      <td>0.9117</td>\n",
       "      <td>0.9242</td>\n",
       "      <td>0.8463</td>\n",
       "      <td>0.8466</td>\n",
       "    </tr>\n",
       "  </tbody>\n",
       "</table>\n",
       "</div>"
      ],
      "text/plain": [
       "                             Model  Accuracy     AUC  Recall   Prec.      F1  \\\n",
       "0  Light Gradient Boosting Machine    0.9231  0.9732  0.9371  0.9117  0.9242   \n",
       "\n",
       "    Kappa     MCC  \n",
       "0  0.8463  0.8466  "
      ]
     },
     "metadata": {},
     "output_type": "display_data"
    }
   ],
   "source": [
    "##CRIANDO MODELO DE PREDIÇÃO\n",
    "\n",
    "predict_model(tuned_lightgbm);"
   ]
  },
  {
   "cell_type": "code",
   "execution_count": 85,
   "metadata": {},
   "outputs": [],
   "source": [
    "##REALIZANDO O FIT DO MODELO\n",
    "\n",
    "final_lightgbm = finalize_model(tuned_lightgbm)"
   ]
  },
  {
   "cell_type": "code",
   "execution_count": 47,
   "metadata": {},
   "outputs": [
    {
     "name": "stdout",
     "output_type": "stream",
     "text": [
      "LGBMClassifier(boosting_type='gbdt', class_weight=None, colsample_bytree=1.0,\n",
      "               importance_type='split', learning_rate=0.4, max_depth=40,\n",
      "               min_child_samples=20, min_child_weight=0.001, min_split_gain=0,\n",
      "               n_estimators=150, n_jobs=-1, num_leaves=100, objective=None,\n",
      "               random_state=1451, reg_alpha=0.2, reg_lambda=0.4, silent=True,\n",
      "               subsample=1.0, subsample_for_bin=200000, subsample_freq=0)\n"
     ]
    }
   ],
   "source": [
    "print(final_lightgbm)"
   ]
  },
  {
   "cell_type": "code",
   "execution_count": 86,
   "metadata": {},
   "outputs": [
    {
     "data": {
      "text/html": [
       "<div>\n",
       "<style scoped>\n",
       "    .dataframe tbody tr th:only-of-type {\n",
       "        vertical-align: middle;\n",
       "    }\n",
       "\n",
       "    .dataframe tbody tr th {\n",
       "        vertical-align: top;\n",
       "    }\n",
       "\n",
       "    .dataframe thead th {\n",
       "        text-align: right;\n",
       "    }\n",
       "</style>\n",
       "<table border=\"1\" class=\"dataframe\">\n",
       "  <thead>\n",
       "    <tr style=\"text-align: right;\">\n",
       "      <th></th>\n",
       "      <th>Model</th>\n",
       "      <th>Accuracy</th>\n",
       "      <th>AUC</th>\n",
       "      <th>Recall</th>\n",
       "      <th>Prec.</th>\n",
       "      <th>F1</th>\n",
       "      <th>Kappa</th>\n",
       "      <th>MCC</th>\n",
       "    </tr>\n",
       "  </thead>\n",
       "  <tbody>\n",
       "    <tr>\n",
       "      <th>0</th>\n",
       "      <td>Light Gradient Boosting Machine</td>\n",
       "      <td>0.9816</td>\n",
       "      <td>0.9986</td>\n",
       "      <td>0.9865</td>\n",
       "      <td>0.9769</td>\n",
       "      <td>0.9817</td>\n",
       "      <td>0.9631</td>\n",
       "      <td>0.9632</td>\n",
       "    </tr>\n",
       "  </tbody>\n",
       "</table>\n",
       "</div>"
      ],
      "text/plain": [
       "                             Model  Accuracy     AUC  Recall   Prec.      F1  \\\n",
       "0  Light Gradient Boosting Machine    0.9816  0.9986  0.9865  0.9769  0.9817   \n",
       "\n",
       "    Kappa     MCC  \n",
       "0  0.9631  0.9632  "
      ]
     },
     "metadata": {},
     "output_type": "display_data"
    }
   ],
   "source": [
    "##CRIANDO MODELO DE PREDIÇÃO\n",
    "\n",
    "predict_model(final_lightgbm);"
   ]
  },
  {
   "cell_type": "markdown",
   "metadata": {},
   "source": [
    "<h5>NESTE MOMENTO, JÁ É NOTÁVEL A DIFERENÇA DAS INFORMAÇÕES DO MODELO DE PREDIÇÃO APÓS A REALIZAÇÃO DO TUNE. A DIFERENÇA OCORRE POIS AO CRIAR O MODELO, O PYCARET USA OS HIPERPARÂMETROS PADRÕES PARA TREINAR O MODELO. COM O TUNE, O PYCARET AJUSTA OS HIPERPARÂMETROS USANDO UMA PESQUISA DE GRADE ALEATÓRIA (RANDOM GRID SEARCH), O QUE MELHORA SIGNIFICAVELMENTE O RESULTADO DO MODELO."
   ]
  },
  {
   "cell_type": "code",
   "execution_count": 51,
   "metadata": {},
   "outputs": [
    {
     "name": "stdout",
     "output_type": "stream",
     "text": [
      "Transformation Pipeline and Model Succesfully Saved\n"
     ]
    }
   ],
   "source": [
    "##SALVANDO O MODELO\n",
    "\n",
    "save_model(final_lightgbm,'Final LIGHTGBM')"
   ]
  },
  {
   "cell_type": "code",
   "execution_count": 88,
   "metadata": {},
   "outputs": [
    {
     "name": "stdout",
     "output_type": "stream",
     "text": [
      "Transformation Pipeline and Model Successfully Loaded\n"
     ]
    }
   ],
   "source": [
    "##CARREGANDO O MODELO\n",
    "\n",
    "saved_final_lgbm = load_model('Final LIGHTGBM')"
   ]
  },
  {
   "cell_type": "code",
   "execution_count": 7,
   "metadata": {},
   "outputs": [
    {
     "data": {
      "text/html": [
       "<div>\n",
       "<style scoped>\n",
       "    .dataframe tbody tr th:only-of-type {\n",
       "        vertical-align: middle;\n",
       "    }\n",
       "\n",
       "    .dataframe tbody tr th {\n",
       "        vertical-align: top;\n",
       "    }\n",
       "\n",
       "    .dataframe thead th {\n",
       "        text-align: right;\n",
       "    }\n",
       "</style>\n",
       "<table border=\"1\" class=\"dataframe\">\n",
       "  <thead>\n",
       "    <tr style=\"text-align: right;\">\n",
       "      <th></th>\n",
       "      <th>id</th>\n",
       "      <th>curso</th>\n",
       "      <th>maior_nota</th>\n",
       "      <th>menor_nota</th>\n",
       "      <th>media</th>\n",
       "      <th>atingiu_media</th>\n",
       "      <th>faltas</th>\n",
       "      <th>status</th>\n",
       "      <th>atraso</th>\n",
       "      <th>acordo</th>\n",
       "      <th>periodo</th>\n",
       "    </tr>\n",
       "  </thead>\n",
       "  <tbody>\n",
       "    <tr>\n",
       "      <th>0</th>\n",
       "      <td>655</td>\n",
       "      <td>Enfermagem</td>\n",
       "      <td>0</td>\n",
       "      <td>0</td>\n",
       "      <td>0</td>\n",
       "      <td>0</td>\n",
       "      <td>28</td>\n",
       "      <td>Cursando</td>\n",
       "      <td>1</td>\n",
       "      <td>0</td>\n",
       "      <td>8</td>\n",
       "    </tr>\n",
       "    <tr>\n",
       "      <th>1</th>\n",
       "      <td>741</td>\n",
       "      <td>Biologia</td>\n",
       "      <td>0</td>\n",
       "      <td>0</td>\n",
       "      <td>0</td>\n",
       "      <td>0</td>\n",
       "      <td>30</td>\n",
       "      <td>Cursando</td>\n",
       "      <td>1</td>\n",
       "      <td>0</td>\n",
       "      <td>8</td>\n",
       "    </tr>\n",
       "    <tr>\n",
       "      <th>2</th>\n",
       "      <td>748</td>\n",
       "      <td>Matemática</td>\n",
       "      <td>5,08</td>\n",
       "      <td>1,13</td>\n",
       "      <td>2,87</td>\n",
       "      <td>0</td>\n",
       "      <td>10</td>\n",
       "      <td>Cursando</td>\n",
       "      <td>0</td>\n",
       "      <td>0</td>\n",
       "      <td>4</td>\n",
       "    </tr>\n",
       "    <tr>\n",
       "      <th>3</th>\n",
       "      <td>1164</td>\n",
       "      <td>Administração</td>\n",
       "      <td>0</td>\n",
       "      <td>0</td>\n",
       "      <td>0</td>\n",
       "      <td>0</td>\n",
       "      <td>40</td>\n",
       "      <td>Cursando</td>\n",
       "      <td>1</td>\n",
       "      <td>1</td>\n",
       "      <td>6</td>\n",
       "    </tr>\n",
       "    <tr>\n",
       "      <th>4</th>\n",
       "      <td>1174</td>\n",
       "      <td>Enfermagem</td>\n",
       "      <td>0</td>\n",
       "      <td>0</td>\n",
       "      <td>0</td>\n",
       "      <td>0</td>\n",
       "      <td>4</td>\n",
       "      <td>Cursando</td>\n",
       "      <td>1</td>\n",
       "      <td>0</td>\n",
       "      <td>10</td>\n",
       "    </tr>\n",
       "    <tr>\n",
       "      <th>...</th>\n",
       "      <td>...</td>\n",
       "      <td>...</td>\n",
       "      <td>...</td>\n",
       "      <td>...</td>\n",
       "      <td>...</td>\n",
       "      <td>...</td>\n",
       "      <td>...</td>\n",
       "      <td>...</td>\n",
       "      <td>...</td>\n",
       "      <td>...</td>\n",
       "      <td>...</td>\n",
       "    </tr>\n",
       "    <tr>\n",
       "      <th>3993</th>\n",
       "      <td>74345</td>\n",
       "      <td>Biologia</td>\n",
       "      <td>9,15</td>\n",
       "      <td>5</td>\n",
       "      <td>6,59</td>\n",
       "      <td>1</td>\n",
       "      <td>6</td>\n",
       "      <td>Cursando</td>\n",
       "      <td>1</td>\n",
       "      <td>1</td>\n",
       "      <td>10</td>\n",
       "    </tr>\n",
       "    <tr>\n",
       "      <th>3994</th>\n",
       "      <td>74350</td>\n",
       "      <td>Gastronomia</td>\n",
       "      <td>8,18</td>\n",
       "      <td>5</td>\n",
       "      <td>6,48</td>\n",
       "      <td>1</td>\n",
       "      <td>7</td>\n",
       "      <td>Aluno Formado</td>\n",
       "      <td>0</td>\n",
       "      <td>0</td>\n",
       "      <td>10</td>\n",
       "    </tr>\n",
       "    <tr>\n",
       "      <th>3995</th>\n",
       "      <td>74355</td>\n",
       "      <td>Administração</td>\n",
       "      <td>6,25</td>\n",
       "      <td>1,1</td>\n",
       "      <td>4,61</td>\n",
       "      <td>0</td>\n",
       "      <td>8</td>\n",
       "      <td>Cursando</td>\n",
       "      <td>0</td>\n",
       "      <td>0</td>\n",
       "      <td>10</td>\n",
       "    </tr>\n",
       "    <tr>\n",
       "      <th>3996</th>\n",
       "      <td>74357</td>\n",
       "      <td>Administração</td>\n",
       "      <td>8,58</td>\n",
       "      <td>3,18</td>\n",
       "      <td>5,99</td>\n",
       "      <td>1</td>\n",
       "      <td>12</td>\n",
       "      <td>Cursando</td>\n",
       "      <td>1</td>\n",
       "      <td>0</td>\n",
       "      <td>8</td>\n",
       "    </tr>\n",
       "    <tr>\n",
       "      <th>3997</th>\n",
       "      <td>74873</td>\n",
       "      <td>História</td>\n",
       "      <td>9,34</td>\n",
       "      <td>6,95</td>\n",
       "      <td>8,1</td>\n",
       "      <td>1</td>\n",
       "      <td>8</td>\n",
       "      <td>Aluno Formado</td>\n",
       "      <td>0</td>\n",
       "      <td>0</td>\n",
       "      <td>5</td>\n",
       "    </tr>\n",
       "  </tbody>\n",
       "</table>\n",
       "<p>3998 rows × 11 columns</p>\n",
       "</div>"
      ],
      "text/plain": [
       "         id          curso maior_nota menor_nota media  atingiu_media  faltas  \\\n",
       "0       655     Enfermagem          0          0     0              0      28   \n",
       "1       741       Biologia          0          0     0              0      30   \n",
       "2       748     Matemática       5,08       1,13  2,87              0      10   \n",
       "3      1164  Administração          0          0     0              0      40   \n",
       "4      1174     Enfermagem          0          0     0              0       4   \n",
       "...     ...            ...        ...        ...   ...            ...     ...   \n",
       "3993  74345       Biologia       9,15          5  6,59              1       6   \n",
       "3994  74350    Gastronomia       8,18          5  6,48              1       7   \n",
       "3995  74355  Administração       6,25        1,1  4,61              0       8   \n",
       "3996  74357  Administração       8,58       3,18  5,99              1      12   \n",
       "3997  74873       História       9,34       6,95   8,1              1       8   \n",
       "\n",
       "             status  atraso  acordo  periodo  \n",
       "0          Cursando       1       0        8  \n",
       "1          Cursando       1       0        8  \n",
       "2          Cursando       0       0        4  \n",
       "3          Cursando       1       1        6  \n",
       "4          Cursando       1       0       10  \n",
       "...             ...     ...     ...      ...  \n",
       "3993       Cursando       1       1       10  \n",
       "3994  Aluno Formado       0       0       10  \n",
       "3995       Cursando       0       0       10  \n",
       "3996       Cursando       1       0        8  \n",
       "3997  Aluno Formado       0       0        5  \n",
       "\n",
       "[3998 rows x 11 columns]"
      ]
     },
     "execution_count": 7,
     "metadata": {},
     "output_type": "execute_result"
    }
   ],
   "source": [
    "##CRIANDO UM DATAFRAME DE TESTE COM DADOS DE UM DATASET DE OUTRO ANO LETIVO\n",
    "\n",
    "df_teste = pd.read_csv('tcc_teste.csv', delimiter=';', encoding='latin-1')\n",
    "df_teste = df_teste.rename(columns = lambda x:re.sub('[^A-Za-z0-9_]+', '', x))\n",
    "df_teste = df_teste.drop('evadiu',axis=1)\n",
    "df_teste"
   ]
  },
  {
   "cell_type": "code",
   "execution_count": 89,
   "metadata": {},
   "outputs": [],
   "source": [
    "##APLICANDO A PREDIÇÃO DO MODELO\n",
    "\n",
    "new_prediction = predict_model(saved_final_lgbm, data=df_teste)"
   ]
  },
  {
   "cell_type": "code",
   "execution_count": 90,
   "metadata": {},
   "outputs": [
    {
     "data": {
      "text/html": [
       "<div>\n",
       "<style scoped>\n",
       "    .dataframe tbody tr th:only-of-type {\n",
       "        vertical-align: middle;\n",
       "    }\n",
       "\n",
       "    .dataframe tbody tr th {\n",
       "        vertical-align: top;\n",
       "    }\n",
       "\n",
       "    .dataframe thead th {\n",
       "        text-align: right;\n",
       "    }\n",
       "</style>\n",
       "<table border=\"1\" class=\"dataframe\">\n",
       "  <thead>\n",
       "    <tr style=\"text-align: right;\">\n",
       "      <th></th>\n",
       "      <th>id</th>\n",
       "      <th>curso</th>\n",
       "      <th>maior_nota</th>\n",
       "      <th>menor_nota</th>\n",
       "      <th>media</th>\n",
       "      <th>atingiu_media</th>\n",
       "      <th>faltas</th>\n",
       "      <th>status</th>\n",
       "      <th>evadiu</th>\n",
       "      <th>atraso</th>\n",
       "      <th>acordo</th>\n",
       "      <th>periodo</th>\n",
       "      <th>Label</th>\n",
       "      <th>Score</th>\n",
       "    </tr>\n",
       "  </thead>\n",
       "  <tbody>\n",
       "    <tr>\n",
       "      <th>0</th>\n",
       "      <td>655</td>\n",
       "      <td>Enfermagem</td>\n",
       "      <td>0</td>\n",
       "      <td>0</td>\n",
       "      <td>0</td>\n",
       "      <td>0</td>\n",
       "      <td>28</td>\n",
       "      <td>Cursando</td>\n",
       "      <td>0</td>\n",
       "      <td>1</td>\n",
       "      <td>0</td>\n",
       "      <td>8</td>\n",
       "      <td>1</td>\n",
       "      <td>0.7974</td>\n",
       "    </tr>\n",
       "    <tr>\n",
       "      <th>1</th>\n",
       "      <td>741</td>\n",
       "      <td>Biologia</td>\n",
       "      <td>0</td>\n",
       "      <td>0</td>\n",
       "      <td>0</td>\n",
       "      <td>0</td>\n",
       "      <td>30</td>\n",
       "      <td>Cursando</td>\n",
       "      <td>0</td>\n",
       "      <td>1</td>\n",
       "      <td>0</td>\n",
       "      <td>8</td>\n",
       "      <td>0</td>\n",
       "      <td>0.2001</td>\n",
       "    </tr>\n",
       "    <tr>\n",
       "      <th>2</th>\n",
       "      <td>748</td>\n",
       "      <td>Matemática</td>\n",
       "      <td>5,08</td>\n",
       "      <td>1,13</td>\n",
       "      <td>2,87</td>\n",
       "      <td>0</td>\n",
       "      <td>10</td>\n",
       "      <td>Cursando</td>\n",
       "      <td>0</td>\n",
       "      <td>0</td>\n",
       "      <td>0</td>\n",
       "      <td>4</td>\n",
       "      <td>1</td>\n",
       "      <td>0.7714</td>\n",
       "    </tr>\n",
       "    <tr>\n",
       "      <th>3</th>\n",
       "      <td>1164</td>\n",
       "      <td>Administração</td>\n",
       "      <td>0</td>\n",
       "      <td>0</td>\n",
       "      <td>0</td>\n",
       "      <td>0</td>\n",
       "      <td>40</td>\n",
       "      <td>Cursando</td>\n",
       "      <td>0</td>\n",
       "      <td>1</td>\n",
       "      <td>1</td>\n",
       "      <td>6</td>\n",
       "      <td>1</td>\n",
       "      <td>0.5339</td>\n",
       "    </tr>\n",
       "    <tr>\n",
       "      <th>4</th>\n",
       "      <td>1174</td>\n",
       "      <td>Enfermagem</td>\n",
       "      <td>0</td>\n",
       "      <td>0</td>\n",
       "      <td>0</td>\n",
       "      <td>0</td>\n",
       "      <td>4</td>\n",
       "      <td>Cursando</td>\n",
       "      <td>0</td>\n",
       "      <td>1</td>\n",
       "      <td>0</td>\n",
       "      <td>10</td>\n",
       "      <td>0</td>\n",
       "      <td>0.0033</td>\n",
       "    </tr>\n",
       "    <tr>\n",
       "      <th>...</th>\n",
       "      <td>...</td>\n",
       "      <td>...</td>\n",
       "      <td>...</td>\n",
       "      <td>...</td>\n",
       "      <td>...</td>\n",
       "      <td>...</td>\n",
       "      <td>...</td>\n",
       "      <td>...</td>\n",
       "      <td>...</td>\n",
       "      <td>...</td>\n",
       "      <td>...</td>\n",
       "      <td>...</td>\n",
       "      <td>...</td>\n",
       "      <td>...</td>\n",
       "    </tr>\n",
       "    <tr>\n",
       "      <th>3993</th>\n",
       "      <td>74345</td>\n",
       "      <td>Biologia</td>\n",
       "      <td>9,15</td>\n",
       "      <td>5</td>\n",
       "      <td>6,59</td>\n",
       "      <td>1</td>\n",
       "      <td>6</td>\n",
       "      <td>Cursando</td>\n",
       "      <td>0</td>\n",
       "      <td>1</td>\n",
       "      <td>1</td>\n",
       "      <td>10</td>\n",
       "      <td>0</td>\n",
       "      <td>0.0257</td>\n",
       "    </tr>\n",
       "    <tr>\n",
       "      <th>3994</th>\n",
       "      <td>74350</td>\n",
       "      <td>Gastronomia</td>\n",
       "      <td>8,18</td>\n",
       "      <td>5</td>\n",
       "      <td>6,48</td>\n",
       "      <td>1</td>\n",
       "      <td>7</td>\n",
       "      <td>Aluno Formado</td>\n",
       "      <td>0</td>\n",
       "      <td>0</td>\n",
       "      <td>0</td>\n",
       "      <td>10</td>\n",
       "      <td>0</td>\n",
       "      <td>0.0736</td>\n",
       "    </tr>\n",
       "    <tr>\n",
       "      <th>3995</th>\n",
       "      <td>74355</td>\n",
       "      <td>Administração</td>\n",
       "      <td>6,25</td>\n",
       "      <td>1,1</td>\n",
       "      <td>4,61</td>\n",
       "      <td>0</td>\n",
       "      <td>8</td>\n",
       "      <td>Cursando</td>\n",
       "      <td>0</td>\n",
       "      <td>0</td>\n",
       "      <td>0</td>\n",
       "      <td>10</td>\n",
       "      <td>0</td>\n",
       "      <td>0.3881</td>\n",
       "    </tr>\n",
       "    <tr>\n",
       "      <th>3996</th>\n",
       "      <td>74357</td>\n",
       "      <td>Administração</td>\n",
       "      <td>8,58</td>\n",
       "      <td>3,18</td>\n",
       "      <td>5,99</td>\n",
       "      <td>1</td>\n",
       "      <td>12</td>\n",
       "      <td>Cursando</td>\n",
       "      <td>0</td>\n",
       "      <td>1</td>\n",
       "      <td>0</td>\n",
       "      <td>8</td>\n",
       "      <td>0</td>\n",
       "      <td>0.0002</td>\n",
       "    </tr>\n",
       "    <tr>\n",
       "      <th>3997</th>\n",
       "      <td>74873</td>\n",
       "      <td>História</td>\n",
       "      <td>9,34</td>\n",
       "      <td>6,95</td>\n",
       "      <td>8,1</td>\n",
       "      <td>1</td>\n",
       "      <td>8</td>\n",
       "      <td>Aluno Formado</td>\n",
       "      <td>0</td>\n",
       "      <td>0</td>\n",
       "      <td>0</td>\n",
       "      <td>5</td>\n",
       "      <td>0</td>\n",
       "      <td>0.3455</td>\n",
       "    </tr>\n",
       "  </tbody>\n",
       "</table>\n",
       "<p>3998 rows × 14 columns</p>\n",
       "</div>"
      ],
      "text/plain": [
       "         id          curso maior_nota menor_nota media  atingiu_media  faltas  \\\n",
       "0       655     Enfermagem          0          0     0              0      28   \n",
       "1       741       Biologia          0          0     0              0      30   \n",
       "2       748     Matemática       5,08       1,13  2,87              0      10   \n",
       "3      1164  Administração          0          0     0              0      40   \n",
       "4      1174     Enfermagem          0          0     0              0       4   \n",
       "...     ...            ...        ...        ...   ...            ...     ...   \n",
       "3993  74345       Biologia       9,15          5  6,59              1       6   \n",
       "3994  74350    Gastronomia       8,18          5  6,48              1       7   \n",
       "3995  74355  Administração       6,25        1,1  4,61              0       8   \n",
       "3996  74357  Administração       8,58       3,18  5,99              1      12   \n",
       "3997  74873       História       9,34       6,95   8,1              1       8   \n",
       "\n",
       "             status  evadiu  atraso  acordo  periodo Label   Score  \n",
       "0          Cursando       0       1       0        8     1  0.7974  \n",
       "1          Cursando       0       1       0        8     0  0.2001  \n",
       "2          Cursando       0       0       0        4     1  0.7714  \n",
       "3          Cursando       0       1       1        6     1  0.5339  \n",
       "4          Cursando       0       1       0       10     0  0.0033  \n",
       "...             ...     ...     ...     ...      ...   ...     ...  \n",
       "3993       Cursando       0       1       1       10     0  0.0257  \n",
       "3994  Aluno Formado       0       0       0       10     0  0.0736  \n",
       "3995       Cursando       0       0       0       10     0  0.3881  \n",
       "3996       Cursando       0       1       0        8     0  0.0002  \n",
       "3997  Aluno Formado       0       0       0        5     0  0.3455  \n",
       "\n",
       "[3998 rows x 14 columns]"
      ]
     },
     "execution_count": 90,
     "metadata": {},
     "output_type": "execute_result"
    }
   ],
   "source": [
    "##VERIFICANDO O RESULTADO\n",
    "\n",
    "new_prediction"
   ]
  },
  {
   "cell_type": "code",
   "execution_count": 39,
   "metadata": {},
   "outputs": [],
   "source": [
    "new_prediction.to_csv('final_teste.csv',index=False)"
   ]
  },
  {
   "cell_type": "code",
   "execution_count": 41,
   "metadata": {},
   "outputs": [
    {
     "data": {
      "image/png": "[encoded data removed]",
      "text/plain": [
       "<Figure size 700x600 with 1 Axes>"
      ]
     },
     "metadata": {
      "needs_background": "light"
     },
     "output_type": "display_data"
    }
   ],
   "source": [
    "##GRÁFICO: CURVA DE CONFIABILIADADE\n",
    "\n",
    "plot_model(final_lightgbm, plot='calibration')"
   ]
  },
  {
   "cell_type": "markdown",
   "metadata": {},
   "source": [
    "<h5>OBSERVANDO O GRÁFICO, É NOTÓRIA A DISPERSÃO DO MODELO EM RELAÇÃO A LINHA"
   ]
  },
  {
   "cell_type": "code",
   "execution_count": 42,
   "metadata": {},
   "outputs": [
    {
     "data": {
      "text/html": [
       "<style  type=\"text/css\" >\n",
       "    #T_1fdbc40c_0597_11eb_bac1_edc933979480row10_col0 {\n",
       "            background:  yellow;\n",
       "        }    #T_1fdbc40c_0597_11eb_bac1_edc933979480row10_col1 {\n",
       "            background:  yellow;\n",
       "        }    #T_1fdbc40c_0597_11eb_bac1_edc933979480row10_col2 {\n",
       "            background:  yellow;\n",
       "        }    #T_1fdbc40c_0597_11eb_bac1_edc933979480row10_col3 {\n",
       "            background:  yellow;\n",
       "        }    #T_1fdbc40c_0597_11eb_bac1_edc933979480row10_col4 {\n",
       "            background:  yellow;\n",
       "        }    #T_1fdbc40c_0597_11eb_bac1_edc933979480row10_col5 {\n",
       "            background:  yellow;\n",
       "        }    #T_1fdbc40c_0597_11eb_bac1_edc933979480row10_col6 {\n",
       "            background:  yellow;\n",
       "        }</style><table id=\"T_1fdbc40c_0597_11eb_bac1_edc933979480\" ><thead>    <tr>        <th class=\"blank level0\" ></th>        <th class=\"col_heading level0 col0\" >Accuracy</th>        <th class=\"col_heading level0 col1\" >AUC</th>        <th class=\"col_heading level0 col2\" >Recall</th>        <th class=\"col_heading level0 col3\" >Prec.</th>        <th class=\"col_heading level0 col4\" >F1</th>        <th class=\"col_heading level0 col5\" >Kappa</th>        <th class=\"col_heading level0 col6\" >MCC</th>    </tr></thead><tbody>\n",
       "                <tr>\n",
       "                        <th id=\"T_1fdbc40c_0597_11eb_bac1_edc933979480level0_row0\" class=\"row_heading level0 row0\" >0</th>\n",
       "                        <td id=\"T_1fdbc40c_0597_11eb_bac1_edc933979480row0_col0\" class=\"data row0 col0\" >0.9056</td>\n",
       "                        <td id=\"T_1fdbc40c_0597_11eb_bac1_edc933979480row0_col1\" class=\"data row0 col1\" >0.9651</td>\n",
       "                        <td id=\"T_1fdbc40c_0597_11eb_bac1_edc933979480row0_col2\" class=\"data row0 col2\" >0.9344</td>\n",
       "                        <td id=\"T_1fdbc40c_0597_11eb_bac1_edc933979480row0_col3\" class=\"data row0 col3\" >0.8832</td>\n",
       "                        <td id=\"T_1fdbc40c_0597_11eb_bac1_edc933979480row0_col4\" class=\"data row0 col4\" >0.9081</td>\n",
       "                        <td id=\"T_1fdbc40c_0597_11eb_bac1_edc933979480row0_col5\" class=\"data row0 col5\" >0.8112</td>\n",
       "                        <td id=\"T_1fdbc40c_0597_11eb_bac1_edc933979480row0_col6\" class=\"data row0 col6\" >0.8126</td>\n",
       "            </tr>\n",
       "            <tr>\n",
       "                        <th id=\"T_1fdbc40c_0597_11eb_bac1_edc933979480level0_row1\" class=\"row_heading level0 row1\" >1</th>\n",
       "                        <td id=\"T_1fdbc40c_0597_11eb_bac1_edc933979480row1_col0\" class=\"data row1 col0\" >0.9249</td>\n",
       "                        <td id=\"T_1fdbc40c_0597_11eb_bac1_edc933979480row1_col1\" class=\"data row1 col1\" >0.9764</td>\n",
       "                        <td id=\"T_1fdbc40c_0597_11eb_bac1_edc933979480row1_col2\" class=\"data row1 col2\" >0.9459</td>\n",
       "                        <td id=\"T_1fdbc40c_0597_11eb_bac1_edc933979480row1_col3\" class=\"data row1 col3\" >0.9074</td>\n",
       "                        <td id=\"T_1fdbc40c_0597_11eb_bac1_edc933979480row1_col4\" class=\"data row1 col4\" >0.9263</td>\n",
       "                        <td id=\"T_1fdbc40c_0597_11eb_bac1_edc933979480row1_col5\" class=\"data row1 col5\" >0.8497</td>\n",
       "                        <td id=\"T_1fdbc40c_0597_11eb_bac1_edc933979480row1_col6\" class=\"data row1 col6\" >0.8505</td>\n",
       "            </tr>\n",
       "            <tr>\n",
       "                        <th id=\"T_1fdbc40c_0597_11eb_bac1_edc933979480level0_row2\" class=\"row_heading level0 row2\" >2</th>\n",
       "                        <td id=\"T_1fdbc40c_0597_11eb_bac1_edc933979480row2_col0\" class=\"data row2 col0\" >0.9114</td>\n",
       "                        <td id=\"T_1fdbc40c_0597_11eb_bac1_edc933979480row2_col1\" class=\"data row2 col1\" >0.9697</td>\n",
       "                        <td id=\"T_1fdbc40c_0597_11eb_bac1_edc933979480row2_col2\" class=\"data row2 col2\" >0.9189</td>\n",
       "                        <td id=\"T_1fdbc40c_0597_11eb_bac1_edc933979480row2_col3\" class=\"data row2 col3\" >0.9049</td>\n",
       "                        <td id=\"T_1fdbc40c_0597_11eb_bac1_edc933979480row2_col4\" class=\"data row2 col4\" >0.9119</td>\n",
       "                        <td id=\"T_1fdbc40c_0597_11eb_bac1_edc933979480row2_col5\" class=\"data row2 col5\" >0.8227</td>\n",
       "                        <td id=\"T_1fdbc40c_0597_11eb_bac1_edc933979480row2_col6\" class=\"data row2 col6\" >0.8228</td>\n",
       "            </tr>\n",
       "            <tr>\n",
       "                        <th id=\"T_1fdbc40c_0597_11eb_bac1_edc933979480level0_row3\" class=\"row_heading level0 row3\" >3</th>\n",
       "                        <td id=\"T_1fdbc40c_0597_11eb_bac1_edc933979480row3_col0\" class=\"data row3 col0\" >0.9171</td>\n",
       "                        <td id=\"T_1fdbc40c_0597_11eb_bac1_edc933979480row3_col1\" class=\"data row3 col1\" >0.9741</td>\n",
       "                        <td id=\"T_1fdbc40c_0597_11eb_bac1_edc933979480row3_col2\" class=\"data row3 col2\" >0.9344</td>\n",
       "                        <td id=\"T_1fdbc40c_0597_11eb_bac1_edc933979480row3_col3\" class=\"data row3 col3\" >0.9030</td>\n",
       "                        <td id=\"T_1fdbc40c_0597_11eb_bac1_edc933979480row3_col4\" class=\"data row3 col4\" >0.9184</td>\n",
       "                        <td id=\"T_1fdbc40c_0597_11eb_bac1_edc933979480row3_col5\" class=\"data row3 col5\" >0.8343</td>\n",
       "                        <td id=\"T_1fdbc40c_0597_11eb_bac1_edc933979480row3_col6\" class=\"data row3 col6\" >0.8348</td>\n",
       "            </tr>\n",
       "            <tr>\n",
       "                        <th id=\"T_1fdbc40c_0597_11eb_bac1_edc933979480level0_row4\" class=\"row_heading level0 row4\" >4</th>\n",
       "                        <td id=\"T_1fdbc40c_0597_11eb_bac1_edc933979480row4_col0\" class=\"data row4 col0\" >0.9094</td>\n",
       "                        <td id=\"T_1fdbc40c_0597_11eb_bac1_edc933979480row4_col1\" class=\"data row4 col1\" >0.9645</td>\n",
       "                        <td id=\"T_1fdbc40c_0597_11eb_bac1_edc933979480row4_col2\" class=\"data row4 col2\" >0.9115</td>\n",
       "                        <td id=\"T_1fdbc40c_0597_11eb_bac1_edc933979480row4_col3\" class=\"data row4 col3\" >0.9080</td>\n",
       "                        <td id=\"T_1fdbc40c_0597_11eb_bac1_edc933979480row4_col4\" class=\"data row4 col4\" >0.9098</td>\n",
       "                        <td id=\"T_1fdbc40c_0597_11eb_bac1_edc933979480row4_col5\" class=\"data row4 col5\" >0.8189</td>\n",
       "                        <td id=\"T_1fdbc40c_0597_11eb_bac1_edc933979480row4_col6\" class=\"data row4 col6\" >0.8189</td>\n",
       "            </tr>\n",
       "            <tr>\n",
       "                        <th id=\"T_1fdbc40c_0597_11eb_bac1_edc933979480level0_row5\" class=\"row_heading level0 row5\" >5</th>\n",
       "                        <td id=\"T_1fdbc40c_0597_11eb_bac1_edc933979480row5_col0\" class=\"data row5 col0\" >0.8863</td>\n",
       "                        <td id=\"T_1fdbc40c_0597_11eb_bac1_edc933979480row5_col1\" class=\"data row5 col1\" >0.9561</td>\n",
       "                        <td id=\"T_1fdbc40c_0597_11eb_bac1_edc933979480row5_col2\" class=\"data row5 col2\" >0.8923</td>\n",
       "                        <td id=\"T_1fdbc40c_0597_11eb_bac1_edc933979480row5_col3\" class=\"data row5 col3\" >0.8821</td>\n",
       "                        <td id=\"T_1fdbc40c_0597_11eb_bac1_edc933979480row5_col4\" class=\"data row5 col4\" >0.8872</td>\n",
       "                        <td id=\"T_1fdbc40c_0597_11eb_bac1_edc933979480row5_col5\" class=\"data row5 col5\" >0.7726</td>\n",
       "                        <td id=\"T_1fdbc40c_0597_11eb_bac1_edc933979480row5_col6\" class=\"data row5 col6\" >0.7727</td>\n",
       "            </tr>\n",
       "            <tr>\n",
       "                        <th id=\"T_1fdbc40c_0597_11eb_bac1_edc933979480level0_row6\" class=\"row_heading level0 row6\" >6</th>\n",
       "                        <td id=\"T_1fdbc40c_0597_11eb_bac1_edc933979480row6_col0\" class=\"data row6 col0\" >0.9037</td>\n",
       "                        <td id=\"T_1fdbc40c_0597_11eb_bac1_edc933979480row6_col1\" class=\"data row6 col1\" >0.9620</td>\n",
       "                        <td id=\"T_1fdbc40c_0597_11eb_bac1_edc933979480row6_col2\" class=\"data row6 col2\" >0.9077</td>\n",
       "                        <td id=\"T_1fdbc40c_0597_11eb_bac1_edc933979480row6_col3\" class=\"data row6 col3\" >0.9008</td>\n",
       "                        <td id=\"T_1fdbc40c_0597_11eb_bac1_edc933979480row6_col4\" class=\"data row6 col4\" >0.9042</td>\n",
       "                        <td id=\"T_1fdbc40c_0597_11eb_bac1_edc933979480row6_col5\" class=\"data row6 col5\" >0.8073</td>\n",
       "                        <td id=\"T_1fdbc40c_0597_11eb_bac1_edc933979480row6_col6\" class=\"data row6 col6\" >0.8073</td>\n",
       "            </tr>\n",
       "            <tr>\n",
       "                        <th id=\"T_1fdbc40c_0597_11eb_bac1_edc933979480level0_row7\" class=\"row_heading level0 row7\" >7</th>\n",
       "                        <td id=\"T_1fdbc40c_0597_11eb_bac1_edc933979480row7_col0\" class=\"data row7 col0\" >0.8998</td>\n",
       "                        <td id=\"T_1fdbc40c_0597_11eb_bac1_edc933979480row7_col1\" class=\"data row7 col1\" >0.9693</td>\n",
       "                        <td id=\"T_1fdbc40c_0597_11eb_bac1_edc933979480row7_col2\" class=\"data row7 col2\" >0.9385</td>\n",
       "                        <td id=\"T_1fdbc40c_0597_11eb_bac1_edc933979480row7_col3\" class=\"data row7 col3\" >0.8714</td>\n",
       "                        <td id=\"T_1fdbc40c_0597_11eb_bac1_edc933979480row7_col4\" class=\"data row7 col4\" >0.9037</td>\n",
       "                        <td id=\"T_1fdbc40c_0597_11eb_bac1_edc933979480row7_col5\" class=\"data row7 col5\" >0.7996</td>\n",
       "                        <td id=\"T_1fdbc40c_0597_11eb_bac1_edc933979480row7_col6\" class=\"data row7 col6\" >0.8020</td>\n",
       "            </tr>\n",
       "            <tr>\n",
       "                        <th id=\"T_1fdbc40c_0597_11eb_bac1_edc933979480level0_row8\" class=\"row_heading level0 row8\" >8</th>\n",
       "                        <td id=\"T_1fdbc40c_0597_11eb_bac1_edc933979480row8_col0\" class=\"data row8 col0\" >0.9326</td>\n",
       "                        <td id=\"T_1fdbc40c_0597_11eb_bac1_edc933979480row8_col1\" class=\"data row8 col1\" >0.9821</td>\n",
       "                        <td id=\"T_1fdbc40c_0597_11eb_bac1_edc933979480row8_col2\" class=\"data row8 col2\" >0.9423</td>\n",
       "                        <td id=\"T_1fdbc40c_0597_11eb_bac1_edc933979480row8_col3\" class=\"data row8 col3\" >0.9245</td>\n",
       "                        <td id=\"T_1fdbc40c_0597_11eb_bac1_edc933979480row8_col4\" class=\"data row8 col4\" >0.9333</td>\n",
       "                        <td id=\"T_1fdbc40c_0597_11eb_bac1_edc933979480row8_col5\" class=\"data row8 col5\" >0.8651</td>\n",
       "                        <td id=\"T_1fdbc40c_0597_11eb_bac1_edc933979480row8_col6\" class=\"data row8 col6\" >0.8653</td>\n",
       "            </tr>\n",
       "            <tr>\n",
       "                        <th id=\"T_1fdbc40c_0597_11eb_bac1_edc933979480level0_row9\" class=\"row_heading level0 row9\" >9</th>\n",
       "                        <td id=\"T_1fdbc40c_0597_11eb_bac1_edc933979480row9_col0\" class=\"data row9 col0\" >0.9266</td>\n",
       "                        <td id=\"T_1fdbc40c_0597_11eb_bac1_edc933979480row9_col1\" class=\"data row9 col1\" >0.9762</td>\n",
       "                        <td id=\"T_1fdbc40c_0597_11eb_bac1_edc933979480row9_col2\" class=\"data row9 col2\" >0.9459</td>\n",
       "                        <td id=\"T_1fdbc40c_0597_11eb_bac1_edc933979480row9_col3\" class=\"data row9 col3\" >0.9108</td>\n",
       "                        <td id=\"T_1fdbc40c_0597_11eb_bac1_edc933979480row9_col4\" class=\"data row9 col4\" >0.9280</td>\n",
       "                        <td id=\"T_1fdbc40c_0597_11eb_bac1_edc933979480row9_col5\" class=\"data row9 col5\" >0.8533</td>\n",
       "                        <td id=\"T_1fdbc40c_0597_11eb_bac1_edc933979480row9_col6\" class=\"data row9 col6\" >0.8539</td>\n",
       "            </tr>\n",
       "            <tr>\n",
       "                        <th id=\"T_1fdbc40c_0597_11eb_bac1_edc933979480level0_row10\" class=\"row_heading level0 row10\" >Mean</th>\n",
       "                        <td id=\"T_1fdbc40c_0597_11eb_bac1_edc933979480row10_col0\" class=\"data row10 col0\" >0.9117</td>\n",
       "                        <td id=\"T_1fdbc40c_0597_11eb_bac1_edc933979480row10_col1\" class=\"data row10 col1\" >0.9696</td>\n",
       "                        <td id=\"T_1fdbc40c_0597_11eb_bac1_edc933979480row10_col2\" class=\"data row10 col2\" >0.9272</td>\n",
       "                        <td id=\"T_1fdbc40c_0597_11eb_bac1_edc933979480row10_col3\" class=\"data row10 col3\" >0.8996</td>\n",
       "                        <td id=\"T_1fdbc40c_0597_11eb_bac1_edc933979480row10_col4\" class=\"data row10 col4\" >0.9131</td>\n",
       "                        <td id=\"T_1fdbc40c_0597_11eb_bac1_edc933979480row10_col5\" class=\"data row10 col5\" >0.8235</td>\n",
       "                        <td id=\"T_1fdbc40c_0597_11eb_bac1_edc933979480row10_col6\" class=\"data row10 col6\" >0.8241</td>\n",
       "            </tr>\n",
       "            <tr>\n",
       "                        <th id=\"T_1fdbc40c_0597_11eb_bac1_edc933979480level0_row11\" class=\"row_heading level0 row11\" >SD</th>\n",
       "                        <td id=\"T_1fdbc40c_0597_11eb_bac1_edc933979480row11_col0\" class=\"data row11 col0\" >0.0132</td>\n",
       "                        <td id=\"T_1fdbc40c_0597_11eb_bac1_edc933979480row11_col1\" class=\"data row11 col1\" >0.0074</td>\n",
       "                        <td id=\"T_1fdbc40c_0597_11eb_bac1_edc933979480row11_col2\" class=\"data row11 col2\" >0.0175</td>\n",
       "                        <td id=\"T_1fdbc40c_0597_11eb_bac1_edc933979480row11_col3\" class=\"data row11 col3\" >0.0151</td>\n",
       "                        <td id=\"T_1fdbc40c_0597_11eb_bac1_edc933979480row11_col4\" class=\"data row11 col4\" >0.0131</td>\n",
       "                        <td id=\"T_1fdbc40c_0597_11eb_bac1_edc933979480row11_col5\" class=\"data row11 col5\" >0.0265</td>\n",
       "                        <td id=\"T_1fdbc40c_0597_11eb_bac1_edc933979480row11_col6\" class=\"data row11 col6\" >0.0264</td>\n",
       "            </tr>\n",
       "    </tbody></table>"
      ],
      "text/plain": [
       "<pandas.io.formats.style.Styler at 0x1e86bda9688>"
      ]
     },
     "metadata": {},
     "output_type": "display_data"
    }
   ],
   "source": [
    "##CALIBRANDO O MODELO\n",
    "\n",
    "calibrated = calibrate_model(final_lightgbm)"
   ]
  },
  {
   "cell_type": "code",
   "execution_count": 43,
   "metadata": {},
   "outputs": [
    {
     "data": {
      "image/png": "[encoded data removed]",
      "text/plain": [
       "<Figure size 700x600 with 1 Axes>"
      ]
     },
     "metadata": {
      "needs_background": "light"
     },
     "output_type": "display_data"
    }
   ],
   "source": [
    "##GRÁFICO: CURVA DE CONFIABILIDADE APÓS CALIBRAR O MODELO\n",
    "\n",
    "plot_model(calibrated, plot='calibration')"
   ]
  },
  {
   "cell_type": "code",
   "execution_count": 44,
   "metadata": {},
   "outputs": [
    {
     "data": {
      "text/html": [
       "<style  type=\"text/css\" >\n",
       "    #T_6cdbdab4_0597_11eb_affd_edc933979480row10_col0 {\n",
       "            background:  yellow;\n",
       "        }    #T_6cdbdab4_0597_11eb_affd_edc933979480row10_col1 {\n",
       "            background:  yellow;\n",
       "        }    #T_6cdbdab4_0597_11eb_affd_edc933979480row10_col2 {\n",
       "            background:  yellow;\n",
       "        }    #T_6cdbdab4_0597_11eb_affd_edc933979480row10_col3 {\n",
       "            background:  yellow;\n",
       "        }    #T_6cdbdab4_0597_11eb_affd_edc933979480row10_col4 {\n",
       "            background:  yellow;\n",
       "        }    #T_6cdbdab4_0597_11eb_affd_edc933979480row10_col5 {\n",
       "            background:  yellow;\n",
       "        }    #T_6cdbdab4_0597_11eb_affd_edc933979480row10_col6 {\n",
       "            background:  yellow;\n",
       "        }</style><table id=\"T_6cdbdab4_0597_11eb_affd_edc933979480\" ><thead>    <tr>        <th class=\"blank level0\" ></th>        <th class=\"col_heading level0 col0\" >Accuracy</th>        <th class=\"col_heading level0 col1\" >AUC</th>        <th class=\"col_heading level0 col2\" >Recall</th>        <th class=\"col_heading level0 col3\" >Prec.</th>        <th class=\"col_heading level0 col4\" >F1</th>        <th class=\"col_heading level0 col5\" >Kappa</th>        <th class=\"col_heading level0 col6\" >MCC</th>    </tr></thead><tbody>\n",
       "                <tr>\n",
       "                        <th id=\"T_6cdbdab4_0597_11eb_affd_edc933979480level0_row0\" class=\"row_heading level0 row0\" >0</th>\n",
       "                        <td id=\"T_6cdbdab4_0597_11eb_affd_edc933979480row0_col0\" class=\"data row0 col0\" >0.9094</td>\n",
       "                        <td id=\"T_6cdbdab4_0597_11eb_affd_edc933979480row0_col1\" class=\"data row0 col1\" >0.9643</td>\n",
       "                        <td id=\"T_6cdbdab4_0597_11eb_affd_edc933979480row0_col2\" class=\"data row0 col2\" >0.9421</td>\n",
       "                        <td id=\"T_6cdbdab4_0597_11eb_affd_edc933979480row0_col3\" class=\"data row0 col3\" >0.8841</td>\n",
       "                        <td id=\"T_6cdbdab4_0597_11eb_affd_edc933979480row0_col4\" class=\"data row0 col4\" >0.9121</td>\n",
       "                        <td id=\"T_6cdbdab4_0597_11eb_affd_edc933979480row0_col5\" class=\"data row0 col5\" >0.8189</td>\n",
       "                        <td id=\"T_6cdbdab4_0597_11eb_affd_edc933979480row0_col6\" class=\"data row0 col6\" >0.8207</td>\n",
       "            </tr>\n",
       "            <tr>\n",
       "                        <th id=\"T_6cdbdab4_0597_11eb_affd_edc933979480level0_row1\" class=\"row_heading level0 row1\" >1</th>\n",
       "                        <td id=\"T_6cdbdab4_0597_11eb_affd_edc933979480row1_col0\" class=\"data row1 col0\" >0.9306</td>\n",
       "                        <td id=\"T_6cdbdab4_0597_11eb_affd_edc933979480row1_col1\" class=\"data row1 col1\" >0.9769</td>\n",
       "                        <td id=\"T_6cdbdab4_0597_11eb_affd_edc933979480row1_col2\" class=\"data row1 col2\" >0.9614</td>\n",
       "                        <td id=\"T_6cdbdab4_0597_11eb_affd_edc933979480row1_col3\" class=\"data row1 col3\" >0.9055</td>\n",
       "                        <td id=\"T_6cdbdab4_0597_11eb_affd_edc933979480row1_col4\" class=\"data row1 col4\" >0.9326</td>\n",
       "                        <td id=\"T_6cdbdab4_0597_11eb_affd_edc933979480row1_col5\" class=\"data row1 col5\" >0.8613</td>\n",
       "                        <td id=\"T_6cdbdab4_0597_11eb_affd_edc933979480row1_col6\" class=\"data row1 col6\" >0.8629</td>\n",
       "            </tr>\n",
       "            <tr>\n",
       "                        <th id=\"T_6cdbdab4_0597_11eb_affd_edc933979480level0_row2\" class=\"row_heading level0 row2\" >2</th>\n",
       "                        <td id=\"T_6cdbdab4_0597_11eb_affd_edc933979480row2_col0\" class=\"data row2 col0\" >0.9133</td>\n",
       "                        <td id=\"T_6cdbdab4_0597_11eb_affd_edc933979480row2_col1\" class=\"data row2 col1\" >0.9693</td>\n",
       "                        <td id=\"T_6cdbdab4_0597_11eb_affd_edc933979480row2_col2\" class=\"data row2 col2\" >0.9228</td>\n",
       "                        <td id=\"T_6cdbdab4_0597_11eb_affd_edc933979480row2_col3\" class=\"data row2 col3\" >0.9053</td>\n",
       "                        <td id=\"T_6cdbdab4_0597_11eb_affd_edc933979480row2_col4\" class=\"data row2 col4\" >0.9140</td>\n",
       "                        <td id=\"T_6cdbdab4_0597_11eb_affd_edc933979480row2_col5\" class=\"data row2 col5\" >0.8266</td>\n",
       "                        <td id=\"T_6cdbdab4_0597_11eb_affd_edc933979480row2_col6\" class=\"data row2 col6\" >0.8267</td>\n",
       "            </tr>\n",
       "            <tr>\n",
       "                        <th id=\"T_6cdbdab4_0597_11eb_affd_edc933979480level0_row3\" class=\"row_heading level0 row3\" >3</th>\n",
       "                        <td id=\"T_6cdbdab4_0597_11eb_affd_edc933979480row3_col0\" class=\"data row3 col0\" >0.9191</td>\n",
       "                        <td id=\"T_6cdbdab4_0597_11eb_affd_edc933979480row3_col1\" class=\"data row3 col1\" >0.9744</td>\n",
       "                        <td id=\"T_6cdbdab4_0597_11eb_affd_edc933979480row3_col2\" class=\"data row3 col2\" >0.9382</td>\n",
       "                        <td id=\"T_6cdbdab4_0597_11eb_affd_edc933979480row3_col3\" class=\"data row3 col3\" >0.9033</td>\n",
       "                        <td id=\"T_6cdbdab4_0597_11eb_affd_edc933979480row3_col4\" class=\"data row3 col4\" >0.9205</td>\n",
       "                        <td id=\"T_6cdbdab4_0597_11eb_affd_edc933979480row3_col5\" class=\"data row3 col5\" >0.8382</td>\n",
       "                        <td id=\"T_6cdbdab4_0597_11eb_affd_edc933979480row3_col6\" class=\"data row3 col6\" >0.8388</td>\n",
       "            </tr>\n",
       "            <tr>\n",
       "                        <th id=\"T_6cdbdab4_0597_11eb_affd_edc933979480level0_row4\" class=\"row_heading level0 row4\" >4</th>\n",
       "                        <td id=\"T_6cdbdab4_0597_11eb_affd_edc933979480row4_col0\" class=\"data row4 col0\" >0.9114</td>\n",
       "                        <td id=\"T_6cdbdab4_0597_11eb_affd_edc933979480row4_col1\" class=\"data row4 col1\" >0.9648</td>\n",
       "                        <td id=\"T_6cdbdab4_0597_11eb_affd_edc933979480row4_col2\" class=\"data row4 col2\" >0.9154</td>\n",
       "                        <td id=\"T_6cdbdab4_0597_11eb_affd_edc933979480row4_col3\" class=\"data row4 col3\" >0.9084</td>\n",
       "                        <td id=\"T_6cdbdab4_0597_11eb_affd_edc933979480row4_col4\" class=\"data row4 col4\" >0.9119</td>\n",
       "                        <td id=\"T_6cdbdab4_0597_11eb_affd_edc933979480row4_col5\" class=\"data row4 col5\" >0.8227</td>\n",
       "                        <td id=\"T_6cdbdab4_0597_11eb_affd_edc933979480row4_col6\" class=\"data row4 col6\" >0.8228</td>\n",
       "            </tr>\n",
       "            <tr>\n",
       "                        <th id=\"T_6cdbdab4_0597_11eb_affd_edc933979480level0_row5\" class=\"row_heading level0 row5\" >5</th>\n",
       "                        <td id=\"T_6cdbdab4_0597_11eb_affd_edc933979480row5_col0\" class=\"data row5 col0\" >0.8902</td>\n",
       "                        <td id=\"T_6cdbdab4_0597_11eb_affd_edc933979480row5_col1\" class=\"data row5 col1\" >0.9571</td>\n",
       "                        <td id=\"T_6cdbdab4_0597_11eb_affd_edc933979480row5_col2\" class=\"data row5 col2\" >0.9115</td>\n",
       "                        <td id=\"T_6cdbdab4_0597_11eb_affd_edc933979480row5_col3\" class=\"data row5 col3\" >0.8745</td>\n",
       "                        <td id=\"T_6cdbdab4_0597_11eb_affd_edc933979480row5_col4\" class=\"data row5 col4\" >0.8927</td>\n",
       "                        <td id=\"T_6cdbdab4_0597_11eb_affd_edc933979480row5_col5\" class=\"data row5 col5\" >0.7803</td>\n",
       "                        <td id=\"T_6cdbdab4_0597_11eb_affd_edc933979480row5_col6\" class=\"data row5 col6\" >0.7810</td>\n",
       "            </tr>\n",
       "            <tr>\n",
       "                        <th id=\"T_6cdbdab4_0597_11eb_affd_edc933979480level0_row6\" class=\"row_heading level0 row6\" >6</th>\n",
       "                        <td id=\"T_6cdbdab4_0597_11eb_affd_edc933979480row6_col0\" class=\"data row6 col0\" >0.9037</td>\n",
       "                        <td id=\"T_6cdbdab4_0597_11eb_affd_edc933979480row6_col1\" class=\"data row6 col1\" >0.9612</td>\n",
       "                        <td id=\"T_6cdbdab4_0597_11eb_affd_edc933979480row6_col2\" class=\"data row6 col2\" >0.9154</td>\n",
       "                        <td id=\"T_6cdbdab4_0597_11eb_affd_edc933979480row6_col3\" class=\"data row6 col3\" >0.8947</td>\n",
       "                        <td id=\"T_6cdbdab4_0597_11eb_affd_edc933979480row6_col4\" class=\"data row6 col4\" >0.9049</td>\n",
       "                        <td id=\"T_6cdbdab4_0597_11eb_affd_edc933979480row6_col5\" class=\"data row6 col5\" >0.8073</td>\n",
       "                        <td id=\"T_6cdbdab4_0597_11eb_affd_edc933979480row6_col6\" class=\"data row6 col6\" >0.8075</td>\n",
       "            </tr>\n",
       "            <tr>\n",
       "                        <th id=\"T_6cdbdab4_0597_11eb_affd_edc933979480level0_row7\" class=\"row_heading level0 row7\" >7</th>\n",
       "                        <td id=\"T_6cdbdab4_0597_11eb_affd_edc933979480row7_col0\" class=\"data row7 col0\" >0.9037</td>\n",
       "                        <td id=\"T_6cdbdab4_0597_11eb_affd_edc933979480row7_col1\" class=\"data row7 col1\" >0.9692</td>\n",
       "                        <td id=\"T_6cdbdab4_0597_11eb_affd_edc933979480row7_col2\" class=\"data row7 col2\" >0.9462</td>\n",
       "                        <td id=\"T_6cdbdab4_0597_11eb_affd_edc933979480row7_col3\" class=\"data row7 col3\" >0.8723</td>\n",
       "                        <td id=\"T_6cdbdab4_0597_11eb_affd_edc933979480row7_col4\" class=\"data row7 col4\" >0.9077</td>\n",
       "                        <td id=\"T_6cdbdab4_0597_11eb_affd_edc933979480row7_col5\" class=\"data row7 col5\" >0.8073</td>\n",
       "                        <td id=\"T_6cdbdab4_0597_11eb_affd_edc933979480row7_col6\" class=\"data row7 col6\" >0.8102</td>\n",
       "            </tr>\n",
       "            <tr>\n",
       "                        <th id=\"T_6cdbdab4_0597_11eb_affd_edc933979480level0_row8\" class=\"row_heading level0 row8\" >8</th>\n",
       "                        <td id=\"T_6cdbdab4_0597_11eb_affd_edc933979480row8_col0\" class=\"data row8 col0\" >0.9345</td>\n",
       "                        <td id=\"T_6cdbdab4_0597_11eb_affd_edc933979480row8_col1\" class=\"data row8 col1\" >0.9813</td>\n",
       "                        <td id=\"T_6cdbdab4_0597_11eb_affd_edc933979480row8_col2\" class=\"data row8 col2\" >0.9462</td>\n",
       "                        <td id=\"T_6cdbdab4_0597_11eb_affd_edc933979480row8_col3\" class=\"data row8 col3\" >0.9248</td>\n",
       "                        <td id=\"T_6cdbdab4_0597_11eb_affd_edc933979480row8_col4\" class=\"data row8 col4\" >0.9354</td>\n",
       "                        <td id=\"T_6cdbdab4_0597_11eb_affd_edc933979480row8_col5\" class=\"data row8 col5\" >0.8690</td>\n",
       "                        <td id=\"T_6cdbdab4_0597_11eb_affd_edc933979480row8_col6\" class=\"data row8 col6\" >0.8692</td>\n",
       "            </tr>\n",
       "            <tr>\n",
       "                        <th id=\"T_6cdbdab4_0597_11eb_affd_edc933979480level0_row9\" class=\"row_heading level0 row9\" >9</th>\n",
       "                        <td id=\"T_6cdbdab4_0597_11eb_affd_edc933979480row9_col0\" class=\"data row9 col0\" >0.9286</td>\n",
       "                        <td id=\"T_6cdbdab4_0597_11eb_affd_edc933979480row9_col1\" class=\"data row9 col1\" >0.9764</td>\n",
       "                        <td id=\"T_6cdbdab4_0597_11eb_affd_edc933979480row9_col2\" class=\"data row9 col2\" >0.9575</td>\n",
       "                        <td id=\"T_6cdbdab4_0597_11eb_affd_edc933979480row9_col3\" class=\"data row9 col3\" >0.9051</td>\n",
       "                        <td id=\"T_6cdbdab4_0597_11eb_affd_edc933979480row9_col4\" class=\"data row9 col4\" >0.9306</td>\n",
       "                        <td id=\"T_6cdbdab4_0597_11eb_affd_edc933979480row9_col5\" class=\"data row9 col5\" >0.8571</td>\n",
       "                        <td id=\"T_6cdbdab4_0597_11eb_affd_edc933979480row9_col6\" class=\"data row9 col6\" >0.8586</td>\n",
       "            </tr>\n",
       "            <tr>\n",
       "                        <th id=\"T_6cdbdab4_0597_11eb_affd_edc933979480level0_row10\" class=\"row_heading level0 row10\" >Mean</th>\n",
       "                        <td id=\"T_6cdbdab4_0597_11eb_affd_edc933979480row10_col0\" class=\"data row10 col0\" >0.9144</td>\n",
       "                        <td id=\"T_6cdbdab4_0597_11eb_affd_edc933979480row10_col1\" class=\"data row10 col1\" >0.9695</td>\n",
       "                        <td id=\"T_6cdbdab4_0597_11eb_affd_edc933979480row10_col2\" class=\"data row10 col2\" >0.9357</td>\n",
       "                        <td id=\"T_6cdbdab4_0597_11eb_affd_edc933979480row10_col3\" class=\"data row10 col3\" >0.8978</td>\n",
       "                        <td id=\"T_6cdbdab4_0597_11eb_affd_edc933979480row10_col4\" class=\"data row10 col4\" >0.9162</td>\n",
       "                        <td id=\"T_6cdbdab4_0597_11eb_affd_edc933979480row10_col5\" class=\"data row10 col5\" >0.8289</td>\n",
       "                        <td id=\"T_6cdbdab4_0597_11eb_affd_edc933979480row10_col6\" class=\"data row10 col6\" >0.8298</td>\n",
       "            </tr>\n",
       "            <tr>\n",
       "                        <th id=\"T_6cdbdab4_0597_11eb_affd_edc933979480level0_row11\" class=\"row_heading level0 row11\" >SD</th>\n",
       "                        <td id=\"T_6cdbdab4_0597_11eb_affd_edc933979480row11_col0\" class=\"data row11 col0\" >0.0132</td>\n",
       "                        <td id=\"T_6cdbdab4_0597_11eb_affd_edc933979480row11_col1\" class=\"data row11 col1\" >0.0073</td>\n",
       "                        <td id=\"T_6cdbdab4_0597_11eb_affd_edc933979480row11_col2\" class=\"data row11 col2\" >0.0173</td>\n",
       "                        <td id=\"T_6cdbdab4_0597_11eb_affd_edc933979480row11_col3\" class=\"data row11 col3\" >0.0156</td>\n",
       "                        <td id=\"T_6cdbdab4_0597_11eb_affd_edc933979480row11_col4\" class=\"data row11 col4\" >0.0129</td>\n",
       "                        <td id=\"T_6cdbdab4_0597_11eb_affd_edc933979480row11_col5\" class=\"data row11 col5\" >0.0264</td>\n",
       "                        <td id=\"T_6cdbdab4_0597_11eb_affd_edc933979480row11_col6\" class=\"data row11 col6\" >0.0264</td>\n",
       "            </tr>\n",
       "    </tbody></table>"
      ],
      "text/plain": [
       "<pandas.io.formats.style.Styler at 0x1e86d56d308>"
      ]
     },
     "metadata": {},
     "output_type": "display_data"
    }
   ],
   "source": [
    "##CALIBRANDO O MODELO USANDO O MÉTODO ISOTONIC\n",
    "\n",
    "calibrated_isotonic = calibrate_model(final_lightgbm, method = 'isotonic')"
   ]
  },
  {
   "cell_type": "code",
   "execution_count": 45,
   "metadata": {},
   "outputs": [
    {
     "data": {
      "image/png": "[encoded data removed]",
      "text/plain": [
       "<Figure size 700x600 with 1 Axes>"
      ]
     },
     "metadata": {
      "needs_background": "light"
     },
     "output_type": "display_data"
    }
   ],
   "source": [
    "##GRÁFICO: CURVA DE CONFIABILIDADE APÓS CALIBRAR COM O MÉTODO ISOTONIC\n",
    "\n",
    "plot_model(calibrated_isotonic, plot='calibration')"
   ]
  },
  {
   "cell_type": "markdown",
   "metadata": {},
   "source": [
    "<h5>APÓS FINALIZADAS AS ANÁLISES COM O PYCARET, TEMOS O RESULTADO DE QUE O MODELO LGBM BEM CALIBRADO POSSA DAR RESULTADOS PROMISSORES."
   ]
  },
  {
   "cell_type": "markdown",
   "metadata": {},
   "source": [
    "<h2>5. CRIANDO O MODELO LGBM USANDO O SCIKIT"
   ]
  },
  {
   "cell_type": "code",
   "execution_count": 10,
   "metadata": {},
   "outputs": [],
   "source": [
    "##CRIANDO O DATASET COM OS DADOS DE TESTE\n",
    "\n",
    "df_teste = pd.read_csv('tcc_teste.csv', delimiter=';', encoding='latin-1')\n",
    "df_teste = df_teste.rename(columns = lambda x:re.sub('[^A-Za-z0-9_]+', '', x))"
   ]
  },
  {
   "cell_type": "code",
   "execution_count": 37,
   "metadata": {},
   "outputs": [],
   "source": [
    "##IMPORTANDO AS LIBS E CRIANDO O MODELO\n",
    "\n",
    "import lightgbm as lgb\n",
    "from sklearn.datasets import load_breast_cancer,load_boston,load_wine\n",
    "from sklearn.model_selection import train_test_split\n",
    "from sklearn.preprocessing import StandardScaler\n",
    "from sklearn.ensemble import GradientBoostingClassifier\n",
    "from sklearn.metrics import mean_squared_error,roc_auc_score,precision_score\n",
    "\n",
    "\n",
    "X=df.drop(cols2, axis=1)\n",
    "Y=df.evadiu \n",
    "sc=StandardScaler() #ESCALANDO AS FEATURES\n",
    "sc.fit(df.drop(cols2, axis=1))\n",
    "X=pd.DataFrame(sc.fit_transform(df.drop(cols2, axis=1)))#REALIZANDO O SPLIT\n",
    "X_train,X_test,y_train,y_test=train_test_split(X,Y,test_size=0.3,random_state=0)#CONVERTENDO O DATASET PARA O FORMATO CORRETO DO LGBM\n",
    "d_train=lgb.Dataset(X_train, label=y_train)#ESPECIFICANDO O PARÂMETRO\n",
    "params={}\n",
    "params['learning_rate']=0.03\n",
    "params['boosting_type']='gbdt' #GRADIENT BOOSTING DECISION TREE\n",
    "params['objective']='binary' #ALVO BINÁRIO\n",
    "params['metric']='binary_logloss' #MÉTRICA PARA A CLASSIFICAÇÃO BINÁRIA\n",
    "params['max_depth']=10 #TREINANDO O MODELO \n",
    "clf=lgb.train(params,d_train,100) #TREINANDO O MODELO COM 100 ÉPOCAS\n",
    "y_pred=clf.predict(X_test) #CRIANDO A PREDIÇÃO"
   ]
  },
  {
   "cell_type": "code",
   "execution_count": 38,
   "metadata": {},
   "outputs": [
    {
     "data": {
      "text/plain": [
       "0.7781414195386944"
      ]
     },
     "execution_count": 38,
     "metadata": {},
     "output_type": "execute_result"
    }
   ],
   "source": [
    "##AVALIANDO A ACURÁCIA DO MODELO\n",
    "\n",
    "y_pred=y_pred.round(0)\n",
    "y_pred=y_pred.astype(int)\n",
    "roc_auc_score(y_pred,y_test)"
   ]
  },
  {
   "cell_type": "code",
   "execution_count": 39,
   "metadata": {},
   "outputs": [
    {
     "data": {
      "text/plain": [
       "<matplotlib.axes._subplots.AxesSubplot at 0x2123da55148>"
      ]
     },
     "execution_count": 39,
     "metadata": {},
     "output_type": "execute_result"
    },
    {
     "data": {
      "image/png": "[encoded data removed]",
      "text/plain": [
       "<Figure size 432x288 with 1 Axes>"
      ]
     },
     "metadata": {
      "needs_background": "light"
     },
     "output_type": "display_data"
    }
   ],
   "source": [
    "##GRÁFICO: IMPORTÂNCIA DAS FEATURES\n",
    "\n",
    "lgb.plot_importance(booster=clf)"
   ]
  },
  {
   "cell_type": "code",
   "execution_count": 44,
   "metadata": {},
   "outputs": [
    {
     "data": {
      "text/plain": [
       "<matplotlib.axes._subplots.AxesSubplot at 0x2123db364c8>"
      ]
     },
     "execution_count": 44,
     "metadata": {},
     "output_type": "execute_result"
    },
    {
     "data": {
      "image/png": "[encoded data removed]",
      "text/plain": [
       "<Figure size 432x288 with 1 Axes>"
      ]
     },
     "metadata": {
      "needs_background": "light"
     },
     "output_type": "display_data"
    }
   ],
   "source": [
    "##GRÁFICO: HISTOGRAMA DA FEATURE ID \n",
    "\n",
    "lgb.plot_split_value_histogram(booster=clf, feature=0)"
   ]
  },
  {
   "cell_type": "code",
   "execution_count": 45,
   "metadata": {},
   "outputs": [
    {
     "data": {
      "text/plain": [
       "<matplotlib.axes._subplots.AxesSubplot at 0x2123ddb6a48>"
      ]
     },
     "execution_count": 45,
     "metadata": {},
     "output_type": "execute_result"
    },
    {
     "data": {
      "image/png": "[encoded data removed]",
      "text/plain": [
       "<Figure size 432x288 with 1 Axes>"
      ]
     },
     "metadata": {
      "needs_background": "light"
     },
     "output_type": "display_data"
    }
   ],
   "source": [
    "##GRÁFICO: HISTOGRAMA DA FEATURE ATINGIU_MEDIA\n",
    "\n",
    "lgb.plot_split_value_histogram(booster=clf, feature=2)"
   ]
  },
  {
   "cell_type": "code",
   "execution_count": 46,
   "metadata": {},
   "outputs": [],
   "source": [
    "##BALANCEAMENTO DO DATASET USANDO O SMOTE\n",
    "\n",
    "smt = SMOTE()\n",
    "X, Y = smt.fit_sample(X, Y)"
   ]
  },
  {
   "cell_type": "code",
   "execution_count": 47,
   "metadata": {},
   "outputs": [],
   "source": [
    "##TREINANDO NOVAMENTE O MODELO\n",
    "\n",
    "X_train,X_test,y_train,y_test=train_test_split(X,Y,test_size=0.3,random_state=0)#CONVERTENDO O DATASET PARA O FORMATO CORRETO DO LGBM\n",
    "d_train=lgb.Dataset(X_train, label=y_train)#ESPECIFICANDO O PARÂMETRO\n",
    "params={}\n",
    "params['learning_rate']=0.03\n",
    "params['boosting_type']='gbdt' #GRADIENT BOOSTING DECISION TREE\n",
    "params['objective']='binary' #ALVO BINÁRIO\n",
    "params['metric']='binary_logloss' #MÉTRICA PARA A CLASSIFICAÇÃO BINÁRIA\n",
    "params['max_depth']=10 #TREINANDO O MODELO \n",
    "clf=lgb.train(params,d_train,100) #TREINANDO O MODELO COM 100 ÉPOCAS\n",
    "y_pred=clf.predict(X_test) #CRIANDO A PREDIÇÃO"
   ]
  },
  {
   "cell_type": "code",
   "execution_count": 48,
   "metadata": {},
   "outputs": [
    {
     "data": {
      "text/plain": [
       "0.8943397465415373"
      ]
     },
     "execution_count": 48,
     "metadata": {},
     "output_type": "execute_result"
    }
   ],
   "source": [
    "##VERIFICANDO A ACURÁCIA\n",
    "\n",
    "y_pred=y_pred.round(0)\n",
    "y_pred=y_pred.astype(int)\n",
    "roc_auc_score(y_pred,y_test)"
   ]
  },
  {
   "cell_type": "code",
   "execution_count": 49,
   "metadata": {},
   "outputs": [
    {
     "data": {
      "text/plain": [
       "<matplotlib.axes._subplots.AxesSubplot at 0x2123ddec748>"
      ]
     },
     "execution_count": 49,
     "metadata": {},
     "output_type": "execute_result"
    },
    {
     "data": {
      "image/png": "[encoded data removed]",
      "text/plain": [
       "<Figure size 432x288 with 1 Axes>"
      ]
     },
     "metadata": {
      "needs_background": "light"
     },
     "output_type": "display_data"
    }
   ],
   "source": [
    "##GRÁFICO: IMPORTÂNCIA DAS FEATURES\n",
    "\n",
    "lgb.plot_importance(booster=clf)"
   ]
  },
  {
   "cell_type": "code",
   "execution_count": 50,
   "metadata": {},
   "outputs": [
    {
     "data": {
      "text/plain": [
       "<matplotlib.axes._subplots.AxesSubplot at 0x2123de208c8>"
      ]
     },
     "execution_count": 50,
     "metadata": {},
     "output_type": "execute_result"
    },
    {
     "data": {
      "image/png": "[encoded data removed]",
      "text/plain": [
       "<Figure size 432x288 with 1 Axes>"
      ]
     },
     "metadata": {
      "needs_background": "light"
     },
     "output_type": "display_data"
    }
   ],
   "source": [
    "##GRÁFICO: HISTOGRAMA DA FEATURE ATINGIU_MEDIA\n",
    "\n",
    "lgb.plot_split_value_histogram(booster=clf, feature=2)"
   ]
  },
  {
   "cell_type": "code",
   "execution_count": 51,
   "metadata": {},
   "outputs": [
    {
     "data": {
      "text/plain": [
       "<matplotlib.axes._subplots.AxesSubplot at 0x2123de91ec8>"
      ]
     },
     "execution_count": 51,
     "metadata": {},
     "output_type": "execute_result"
    },
    {
     "data": {
      "image/png": "[encoded data removed]",
      "text/plain": [
       "<Figure size 432x288 with 1 Axes>"
      ]
     },
     "metadata": {
      "needs_background": "light"
     },
     "output_type": "display_data"
    }
   ],
   "source": [
    "##GRÁFICO: HISTOGRAMA DA FEATURE ID\n",
    "\n",
    "lgb.plot_split_value_histogram(booster=clf, feature=0)"
   ]
  },
  {
   "cell_type": "markdown",
   "metadata": {},
   "source": [
    "<h2>6. CONCLUSÃO"
   ]
  },
  {
   "cell_type": "markdown",
   "metadata": {},
   "source": [
    "<h5>APÓS TODO ESTE PROCESSO DE ANÁLISE E FEITOS CRUZAMENTOS DOS DADOS, FOI CONCLUÍDO QUE, COM BASE NOS PARÂMETROS QUE FORAM EXTRAÍDOS,\n",
    "O MODELO RETORNOU RESULTADOS CONDIZENTES COM O ESTUDO, TENDO UM DESEMPENHO ACEITÁVEL, ACUSANDO UMA TAXA DE FALSOS NEGATIVOS MAIS BAIXA\n",
    "EM RELAÇÃO AOS FALSOS POSITIVOS, O QUE INDICA QUE COM UM POLIMENTO MAIOR PODE RETORNAR NÚMEROS MUITO PROMISSORES."
   ]
  }
 ],
 "metadata": {
  "kernelspec": {
   "display_name": "Python 3",
   "language": "python",
   "name": "python3"
  },
  "language_info": {
   "codemirror_mode": {
    "name": "ipython",
    "version": 3
   },
   "file_extension": ".py",
   "mimetype": "text/x-python",
   "name": "python",
   "nbconvert_exporter": "python",
   "pygments_lexer": "ipython3",
   "version": "3.7.6"
  }
 },
 "nbformat": 4,
 "nbformat_minor": 2
}
